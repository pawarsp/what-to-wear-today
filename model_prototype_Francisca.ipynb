{
 "cells": [
  {
   "cell_type": "code",
   "execution_count": 1,
   "id": "2e574319-9439-4f91-ad4e-aff4aa97b91c",
   "metadata": {
    "execution": {
     "iopub.execute_input": "2025-10-28T14:05:43.255156Z",
     "iopub.status.busy": "2025-10-28T14:05:43.254748Z",
     "iopub.status.idle": "2025-10-28T14:05:44.396022Z",
     "shell.execute_reply": "2025-10-28T14:05:44.392576Z",
     "shell.execute_reply.started": "2025-10-28T14:05:43.255102Z"
    }
   },
   "outputs": [],
   "source": [
    "import numpy as np\n",
    "import pandas as pd"
   ]
  },
  {
   "cell_type": "code",
   "execution_count": 69,
   "id": "d42f416b-ed75-4783-9994-a5533ce96de4",
   "metadata": {
    "execution": {
     "iopub.execute_input": "2025-10-28T14:51:19.206812Z",
     "iopub.status.busy": "2025-10-28T14:51:19.195487Z",
     "iopub.status.idle": "2025-10-28T14:51:19.747150Z",
     "shell.execute_reply": "2025-10-28T14:51:19.739628Z",
     "shell.execute_reply.started": "2025-10-28T14:51:19.206190Z"
    }
   },
   "outputs": [
    {
     "data": {
      "text/html": [
       "<div>\n",
       "<style scoped>\n",
       "    .dataframe tbody tr th:only-of-type {\n",
       "        vertical-align: middle;\n",
       "    }\n",
       "\n",
       "    .dataframe tbody tr th {\n",
       "        vertical-align: top;\n",
       "    }\n",
       "\n",
       "    .dataframe thead th {\n",
       "        text-align: right;\n",
       "    }\n",
       "</style>\n",
       "<table border=\"1\" class=\"dataframe\">\n",
       "  <thead>\n",
       "    <tr style=\"text-align: right;\">\n",
       "      <th></th>\n",
       "      <th>gender</th>\n",
       "      <th>product_category</th>\n",
       "      <th>product_name</th>\n",
       "      <th>details</th>\n",
       "    </tr>\n",
       "  </thead>\n",
       "  <tbody>\n",
       "    <tr>\n",
       "      <th>0</th>\n",
       "      <td>women</td>\n",
       "      <td>JACKETS</td>\n",
       "      <td>oversize trench coat pocket</td>\n",
       "      <td>collared trench coat cotton blend feature long...</td>\n",
       "    </tr>\n",
       "    <tr>\n",
       "      <th>1</th>\n",
       "      <td>women</td>\n",
       "      <td>KNITWEAR</td>\n",
       "      <td>knit sweater zip</td>\n",
       "      <td>sweater viscose blend feature high neck metal ...</td>\n",
       "    </tr>\n",
       "    <tr>\n",
       "      <th>2</th>\n",
       "      <td>women</td>\n",
       "      <td>JEANS</td>\n",
       "      <td>marine straight fit highwaist pocket jean</td>\n",
       "      <td>slim fit relaxed leg high waistzw woman jeansh...</td>\n",
       "    </tr>\n",
       "    <tr>\n",
       "      <th>3</th>\n",
       "      <td>women</td>\n",
       "      <td>ACCESSORIES</td>\n",
       "      <td>crossbody bag</td>\n",
       "      <td>crossbody bag adjustable strap lining zip clos...</td>\n",
       "    </tr>\n",
       "    <tr>\n",
       "      <th>4</th>\n",
       "      <td>women</td>\n",
       "      <td>JEANS</td>\n",
       "      <td>marine straightleg highwaist jean</td>\n",
       "      <td>slim fit relaxed leg high waistzw woman jeansh...</td>\n",
       "    </tr>\n",
       "    <tr>\n",
       "      <th>...</th>\n",
       "      <td>...</td>\n",
       "      <td>...</td>\n",
       "      <td>...</td>\n",
       "      <td>...</td>\n",
       "    </tr>\n",
       "    <tr>\n",
       "      <th>3628</th>\n",
       "      <td>men</td>\n",
       "      <td>SHORTS</td>\n",
       "      <td>seersucker bermuda short</td>\n",
       "      <td>regularfit bermuda short elasticate waistband ...</td>\n",
       "    </tr>\n",
       "    <tr>\n",
       "      <th>3629</th>\n",
       "      <td>men</td>\n",
       "      <td>SHORTS</td>\n",
       "      <td>jogger waist bermuda short</td>\n",
       "      <td>regularfit bermuda short adjustable waistband ...</td>\n",
       "    </tr>\n",
       "    <tr>\n",
       "      <th>3630</th>\n",
       "      <td>men</td>\n",
       "      <td>SHORTS</td>\n",
       "      <td>bermuda short crochet pocket</td>\n",
       "      <td>bermuda short cotton viscose blend feature adj...</td>\n",
       "    </tr>\n",
       "    <tr>\n",
       "      <th>3631</th>\n",
       "      <td>men</td>\n",
       "      <td>SHORTS</td>\n",
       "      <td>linen viscose knit bermuda short</td>\n",
       "      <td>loosefitte knit bermuda short spun linen visco...</td>\n",
       "    </tr>\n",
       "    <tr>\n",
       "      <th>3632</th>\n",
       "      <td>men</td>\n",
       "      <td>SHORTS</td>\n",
       "      <td>technical bermuda short limited edition</td>\n",
       "      <td>relaxed fit bermuda short technical satin fabr...</td>\n",
       "    </tr>\n",
       "  </tbody>\n",
       "</table>\n",
       "<p>3633 rows × 4 columns</p>\n",
       "</div>"
      ],
      "text/plain": [
       "     gender product_category                               product_name  \\\n",
       "0     women          JACKETS                oversize trench coat pocket   \n",
       "1     women         KNITWEAR                           knit sweater zip   \n",
       "2     women            JEANS  marine straight fit highwaist pocket jean   \n",
       "3     women      ACCESSORIES                              crossbody bag   \n",
       "4     women            JEANS          marine straightleg highwaist jean   \n",
       "...     ...              ...                                        ...   \n",
       "3628    men           SHORTS                   seersucker bermuda short   \n",
       "3629    men           SHORTS                 jogger waist bermuda short   \n",
       "3630    men           SHORTS               bermuda short crochet pocket   \n",
       "3631    men           SHORTS           linen viscose knit bermuda short   \n",
       "3632    men           SHORTS    technical bermuda short limited edition   \n",
       "\n",
       "                                                details  \n",
       "0     collared trench coat cotton blend feature long...  \n",
       "1     sweater viscose blend feature high neck metal ...  \n",
       "2     slim fit relaxed leg high waistzw woman jeansh...  \n",
       "3     crossbody bag adjustable strap lining zip clos...  \n",
       "4     slim fit relaxed leg high waistzw woman jeansh...  \n",
       "...                                                 ...  \n",
       "3628  regularfit bermuda short elasticate waistband ...  \n",
       "3629  regularfit bermuda short adjustable waistband ...  \n",
       "3630  bermuda short cotton viscose blend feature adj...  \n",
       "3631  loosefitte knit bermuda short spun linen visco...  \n",
       "3632  relaxed fit bermuda short technical satin fabr...  \n",
       "\n",
       "[3633 rows x 4 columns]"
      ]
     },
     "execution_count": 69,
     "metadata": {},
     "output_type": "execute_result"
    }
   ],
   "source": [
    "#Load data\n",
    "clothing_df = pd.read_csv('raw_data/clothes.csv')\n",
    "clothing_df"
   ]
  },
  {
   "cell_type": "code",
   "execution_count": 70,
   "id": "df7038e7-5a28-4e07-966c-327a8d3137b2",
   "metadata": {
    "execution": {
     "iopub.execute_input": "2025-10-28T14:51:22.080209Z",
     "iopub.status.busy": "2025-10-28T14:51:22.079144Z",
     "iopub.status.idle": "2025-10-28T14:51:22.174660Z",
     "shell.execute_reply": "2025-10-28T14:51:22.168853Z",
     "shell.execute_reply.started": "2025-10-28T14:51:22.080123Z"
    }
   },
   "outputs": [
    {
     "data": {
      "text/plain": [
       "array(['JACKETS', 'KNITWEAR', 'JEANS', 'ACCESSORIES',\n",
       "       'T-SHIRTS_SWEATSHIRTS', 'TROUSERS', 'SHOES', 'SHIRTS',\n",
       "       'WAISTCOATS_GILETS', 'SKIRTS', 'BLAZERS', 'T-SHIRTS',\n",
       "       'SHORTS_SKORTS', 'DRESSES_JUMPSUITS', 'TOPS_BODYSUITS',\n",
       "       'HOODIES_SWEATSHIRTS', 'SHORTS', 'POLO SHIRTS', 'OVERSHIRTS',\n",
       "       'SWEATERS_CARDIGANS', 'SUITS', 'SWIMWEAR'], dtype=object)"
      ]
     },
     "execution_count": 70,
     "metadata": {},
     "output_type": "execute_result"
    }
   ],
   "source": [
    "clothing_df['product_category'].unique()"
   ]
  },
  {
   "cell_type": "code",
   "execution_count": 71,
   "id": "076bbad1-bc6c-446e-ad28-6500fff2d502",
   "metadata": {
    "execution": {
     "iopub.execute_input": "2025-10-28T14:51:44.871899Z",
     "iopub.status.busy": "2025-10-28T14:51:44.870756Z",
     "iopub.status.idle": "2025-10-28T14:51:47.469814Z",
     "shell.execute_reply": "2025-10-28T14:51:47.465633Z",
     "shell.execute_reply.started": "2025-10-28T14:51:44.871837Z"
    }
   },
   "outputs": [
    {
     "name": "stderr",
     "output_type": "stream",
     "text": [
      "Device set to use cpu\n"
     ]
    }
   ],
   "source": [
    "#load the model\n",
    "import torch\n",
    "from transformers import pipeline\n",
    "\n",
    "pipe = pipeline(\"zero-shot-classification\", model=\"facebook/bart-large-mnli\")"
   ]
  },
  {
   "cell_type": "code",
   "execution_count": 72,
   "id": "e6c29c1e-6669-4d71-bc10-2e51660bd58a",
   "metadata": {
    "execution": {
     "iopub.execute_input": "2025-10-28T14:51:47.474080Z",
     "iopub.status.busy": "2025-10-28T14:51:47.473228Z",
     "iopub.status.idle": "2025-10-28T14:51:47.499299Z",
     "shell.execute_reply": "2025-10-28T14:51:47.490765Z",
     "shell.execute_reply.started": "2025-10-28T14:51:47.474019Z"
    }
   },
   "outputs": [],
   "source": [
    "temperature_mapping = {\n",
    "            (5, 10): \"5-10°C cold weather\",\n",
    "            (10, 15): \"10-15°C cool weather\", \n",
    "            (15, 20): \"15-20°C mild weather\",\n",
    "            (20, 25): \"20-25°C warm weather\",\n",
    "            (25, 30): \"25-30°C hot weather\"\n",
    "        }"
   ]
  },
  {
   "cell_type": "code",
   "execution_count": 73,
   "id": "80d686e1-31a5-4266-82ef-fdcd989a259e",
   "metadata": {
    "execution": {
     "iopub.execute_input": "2025-10-28T14:51:49.360273Z",
     "iopub.status.busy": "2025-10-28T14:51:49.359198Z",
     "iopub.status.idle": "2025-10-28T14:51:49.413880Z",
     "shell.execute_reply": "2025-10-28T14:51:49.408688Z",
     "shell.execute_reply.started": "2025-10-28T14:51:49.360175Z"
    }
   },
   "outputs": [],
   "source": [
    "def temperature_to_label(temperature):\n",
    "        \"\"\"\n",
    "        Convert numeric temperature to label\n",
    "        \"\"\"\n",
    "        try:\n",
    "            temp = float(temperature)\n",
    "            for (low, high), label in temperature_mapping.items():\n",
    "                if low <= temp <= high:\n",
    "                    return label\n",
    "            if temp < 5:\n",
    "                return \"5-10°C cold weather\"\n",
    "            elif temp > 30:\n",
    "                return \"25-30°C hot weather\"\n",
    "        except ValueError:\n",
    "            raise ValueError(f\"Invalid temperature: {temperature}. Please enter 5-30.\")"
   ]
  },
  {
   "cell_type": "code",
   "execution_count": 81,
   "id": "4be4e993-e6e9-4d44-a292-95e74b119044",
   "metadata": {
    "execution": {
     "iopub.execute_input": "2025-10-28T14:53:33.445831Z",
     "iopub.status.busy": "2025-10-28T14:53:33.444684Z",
     "iopub.status.idle": "2025-10-28T14:53:33.460086Z",
     "shell.execute_reply": "2025-10-28T14:53:33.452235Z",
     "shell.execute_reply.started": "2025-10-28T14:53:33.445705Z"
    }
   },
   "outputs": [],
   "source": [
    "temperature = '5'\n",
    "temperature_label = temperature_to_label(temperature)\n",
    "temp_range = temperature_label.split(' ')[0]"
   ]
  },
  {
   "cell_type": "code",
   "execution_count": 82,
   "id": "00281dfe-43fc-47de-b9d3-3f7a334103f1",
   "metadata": {
    "execution": {
     "iopub.execute_input": "2025-10-28T14:53:34.899709Z",
     "iopub.status.busy": "2025-10-28T14:53:34.898621Z",
     "iopub.status.idle": "2025-10-28T14:53:34.948617Z",
     "shell.execute_reply": "2025-10-28T14:53:34.935629Z",
     "shell.execute_reply.started": "2025-10-28T14:53:34.899618Z"
    }
   },
   "outputs": [
    {
     "name": "stdout",
     "output_type": "stream",
     "text": [
      "🎯 Sampling 5 random items from 3633 total items\n"
     ]
    }
   ],
   "source": [
    "# RANDOM SAMPLE - This is the key speed improvement!\n",
    "sample_size = 5\n",
    "\n",
    "if len(clothing_df) > sample_size:\n",
    "    sample_df = clothing_df.sample(sample_size) #, random_state=42)\n",
    "    print(f\"🎯 Sampling {sample_size} random items from {len(clothing_df)} total items\")\n",
    "else:\n",
    "    sample_df = clothing_df\n",
    "    print(f\"🎯 Using all {len(sample_df)} items\")"
   ]
  },
  {
   "cell_type": "code",
   "execution_count": 83,
   "id": "2545905d-350d-48f7-b757-98b7d4195c17",
   "metadata": {
    "execution": {
     "iopub.execute_input": "2025-10-28T14:53:41.019104Z",
     "iopub.status.busy": "2025-10-28T14:53:41.017739Z",
     "iopub.status.idle": "2025-10-28T14:53:41.035490Z",
     "shell.execute_reply": "2025-10-28T14:53:41.032320Z",
     "shell.execute_reply.started": "2025-10-28T14:53:41.018997Z"
    }
   },
   "outputs": [],
   "source": [
    "# Prepare texts from sampled items\n",
    "texts = []\n",
    "for idx, row in sample_df.iterrows():\n",
    "    text = f\"{row['product_name']}.{row['details']}\"\n",
    "    texts.append(text)"
   ]
  },
  {
   "cell_type": "code",
   "execution_count": 84,
   "id": "2d69a07f-84ae-4936-929d-6e1430daf9da",
   "metadata": {
    "execution": {
     "iopub.execute_input": "2025-10-28T14:53:42.564490Z",
     "iopub.status.busy": "2025-10-28T14:53:42.563416Z",
     "iopub.status.idle": "2025-10-28T14:53:50.589040Z",
     "shell.execute_reply": "2025-10-28T14:53:50.579824Z",
     "shell.execute_reply.started": "2025-10-28T14:53:42.564424Z"
    }
   },
   "outputs": [
    {
     "name": "stdout",
     "output_type": "stream",
     "text": [
      "⚡ Classifying sampled items in one batch...\n"
     ]
    },
    {
     "data": {
      "text/plain": [
       "[{'sequence': 'strapless dress.offtheshoulder short dress straightcut neckline strap detail metallic clip opening matching line invisible zip fastening',\n",
       "  'labels': ['5-10°C cold weather'],\n",
       "  'scores': [0.6541529893875122]},\n",
       " {'sequence': 'contrast trainer.trainers combination piece colour upper seveneyelet face contrastcoloure slightly chunky rubber sole',\n",
       "  'labels': ['5-10°C cold weather'],\n",
       "  'scores': [0.48742735385894775]},\n",
       " {'sequence': 'floral print swimming trunk.swimming trunk technical fabric adjustable elasticate waistband drawstre pocket patch pocket lininglength inner leg seam cm length outer leg seam cm view',\n",
       "  'labels': ['5-10°C cold weather'],\n",
       "  'scores': [0.5202308893203735]},\n",
       " {'sequence': 'contrast knit polo shirt.collar knit polo shirt contrast button fasten short sleeve rib trim',\n",
       "  'labels': ['5-10°C cold weather'],\n",
       "  'scores': [0.8925155997276306]},\n",
       " {'sequence': 'texture knit dress.short dress tie vneckline long sleeve',\n",
       "  'labels': ['5-10°C cold weather'],\n",
       "  'scores': [0.8510854244232178]}]"
      ]
     },
     "execution_count": 84,
     "metadata": {},
     "output_type": "execute_result"
    }
   ],
   "source": [
    "# Single batch classification (fast!)\n",
    "print(\"⚡ Classifying sampled items in one batch...\")\n",
    "results = pipe(texts,\n",
    "               candidate_labels=[temperature_label],\n",
    "               hypothesis_template=\"This clothing item is suitable for {}.\",\n",
    "               multi_label=False\n",
    "              )\n",
    "results"
   ]
  },
  {
   "cell_type": "code",
   "execution_count": 85,
   "id": "adcc9c63-e47f-43f1-9844-6075e2355d07",
   "metadata": {
    "execution": {
     "iopub.execute_input": "2025-10-28T14:53:50.594109Z",
     "iopub.status.busy": "2025-10-28T14:53:50.591696Z",
     "iopub.status.idle": "2025-10-28T14:53:50.619426Z",
     "shell.execute_reply": "2025-10-28T14:53:50.606495Z",
     "shell.execute_reply.started": "2025-10-28T14:53:50.594014Z"
    }
   },
   "outputs": [],
   "source": [
    "# Handle results\n",
    "if isinstance(results, dict):\n",
    "    scores = [results['scores'][0]]\n",
    "else:\n",
    "    scores = [result['scores'][0] for result in results]"
   ]
  },
  {
   "cell_type": "code",
   "execution_count": 86,
   "id": "33368bde-f00f-4f2b-887a-25b3b05ad5ef",
   "metadata": {
    "execution": {
     "iopub.execute_input": "2025-10-28T14:53:50.632893Z",
     "iopub.status.busy": "2025-10-28T14:53:50.624980Z",
     "iopub.status.idle": "2025-10-28T14:53:50.749642Z",
     "shell.execute_reply": "2025-10-28T14:53:50.734926Z",
     "shell.execute_reply.started": "2025-10-28T14:53:50.632764Z"
    }
   },
   "outputs": [
    {
     "data": {
      "text/plain": [
       "(array([0.65415299, 0.48742735, 0.52023089, 0.8925156 , 0.85108542]),\n",
       " array([3, 4, 0, 2, 1]))"
      ]
     },
     "execution_count": 86,
     "metadata": {},
     "output_type": "execute_result"
    }
   ],
   "source": [
    "# Get top K indices from sampled items\n",
    "scores = np.array(scores)\n",
    "top_indices = np.argsort(scores)[::-1][:5]\n",
    "scores, top_indices"
   ]
  },
  {
   "cell_type": "code",
   "execution_count": 87,
   "id": "1bebabf6-d231-41a3-8ed9-1e9715c2257d",
   "metadata": {
    "execution": {
     "iopub.execute_input": "2025-10-28T14:53:56.228651Z",
     "iopub.status.busy": "2025-10-28T14:53:56.227930Z",
     "iopub.status.idle": "2025-10-28T14:53:56.299967Z",
     "shell.execute_reply": "2025-10-28T14:53:56.287405Z",
     "shell.execute_reply.started": "2025-10-28T14:53:56.228604Z"
    }
   },
   "outputs": [
    {
     "data": {
      "text/plain": [
       "[{'rank': 1,\n",
       "  'product_name': 'contrast knit polo shirt',\n",
       "  'details': 'collar knit polo shirt contrast button fasten short sleeve rib trim',\n",
       "  'confidence': np.float64(0.893),\n",
       "  'temperature': '5°C',\n",
       "  'temperature_range': '5-10°C',\n",
       "  'sampled_from_total': '5/3633 items'},\n",
       " {'rank': 2,\n",
       "  'product_name': 'texture knit dress',\n",
       "  'details': 'short dress tie vneckline long sleeve',\n",
       "  'confidence': np.float64(0.851),\n",
       "  'temperature': '5°C',\n",
       "  'temperature_range': '5-10°C',\n",
       "  'sampled_from_total': '5/3633 items'},\n",
       " {'rank': 3,\n",
       "  'product_name': 'strapless dress',\n",
       "  'details': 'offtheshoulder short dress straightcut neckline strap detail metallic clip opening matching line invisible zip fastening',\n",
       "  'confidence': np.float64(0.654),\n",
       "  'temperature': '5°C',\n",
       "  'temperature_range': '5-10°C',\n",
       "  'sampled_from_total': '5/3633 items'},\n",
       " {'rank': 4,\n",
       "  'product_name': 'floral print swimming trunk',\n",
       "  'details': 'swimming trunk technical fabric adjustable elasticate waistband drawstre pocket patch pocket lininglength inner leg seam cm length outer leg seam cm view',\n",
       "  'confidence': np.float64(0.52),\n",
       "  'temperature': '5°C',\n",
       "  'temperature_range': '5-10°C',\n",
       "  'sampled_from_total': '5/3633 items'},\n",
       " {'rank': 5,\n",
       "  'product_name': 'contrast trainer',\n",
       "  'details': 'trainers combination piece colour upper seveneyelet face contrastcoloure slightly chunky rubber sole',\n",
       "  'confidence': np.float64(0.487),\n",
       "  'temperature': '5°C',\n",
       "  'temperature_range': '5-10°C',\n",
       "  'sampled_from_total': '5/3633 items'}]"
      ]
     },
     "execution_count": 87,
     "metadata": {},
     "output_type": "execute_result"
    }
   ],
   "source": [
    "# Build results\n",
    "recommendations = []\n",
    "for i, idx in enumerate(top_indices, 1):\n",
    "    item = sample_df.iloc[idx]\n",
    "    recommendations.append({'rank': i,\n",
    "                            'product_name': item['product_name'],\n",
    "                            'details': item['details'],\n",
    "                            'confidence': round(scores[idx], 3),\n",
    "                            'temperature': f\"{temperature}°C\",\n",
    "                            'temperature_range': temp_range,\n",
    "                            'sampled_from_total': f\"{len(sample_df)}/{len(clothing_df)} items\"})\n",
    "# print(recommendations[0]['product_name'])\n",
    "# print(recommendations[1]['product_name'])\n",
    "# print(recommendations[2]['product_name'])\n",
    "recommendations"
   ]
  }
 ],
 "metadata": {
  "kernelspec": {
   "display_name": "Python 3 (ipykernel)",
   "language": "python",
   "name": "python3"
  },
  "language_info": {
   "codemirror_mode": {
    "name": "ipython",
    "version": 3
   },
   "file_extension": ".py",
   "mimetype": "text/x-python",
   "name": "python",
   "nbconvert_exporter": "python",
   "pygments_lexer": "ipython3",
   "version": "3.10.6"
  }
 },
 "nbformat": 4,
 "nbformat_minor": 5
}
