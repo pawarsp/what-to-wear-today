{
 "cells": [
  {
   "cell_type": "code",
   "execution_count": 7,
   "id": "f9306c38-2aeb-420c-a9cd-29ba61c8e531",
   "metadata": {
    "execution": {
     "iopub.execute_input": "2025-10-27T15:28:30.785818Z",
     "iopub.status.busy": "2025-10-27T15:28:30.784916Z",
     "iopub.status.idle": "2025-10-27T15:28:30.799026Z",
     "shell.execute_reply": "2025-10-27T15:28:30.796865Z",
     "shell.execute_reply.started": "2025-10-27T15:28:30.785739Z"
    }
   },
   "outputs": [],
   "source": [
    "import openmeteo_requests\n",
    "import pandas as pd\n",
    "import requests_cache\n",
    "from retry_requests import retry"
   ]
  },
  {
   "cell_type": "code",
   "execution_count": 9,
   "id": "1d3132e9-0df2-42f9-93a1-ba637c65c00f",
   "metadata": {
    "execution": {
     "iopub.execute_input": "2025-10-27T15:29:08.929986Z",
     "iopub.status.busy": "2025-10-27T15:29:08.929606Z",
     "iopub.status.idle": "2025-10-27T15:29:09.254851Z",
     "shell.execute_reply": "2025-10-27T15:29:09.252466Z",
     "shell.execute_reply.started": "2025-10-27T15:29:08.929953Z"
    }
   },
   "outputs": [
    {
     "name": "stdout",
     "output_type": "stream",
     "text": [
      "Coordinates: 52.5483283996582°N 13.407821655273438°E\n",
      "Elevation: 38.0 m asl\n",
      "Timezone: b'Europe/Berlin'b'GMT+1'\n",
      "Timezone difference to GMT+0: 3600s\n",
      "\n",
      "Daily data\n",
      "                          date  temperature_2m_mean  temperature_2m_max  \\\n",
      "0   2024-12-31 23:00:00+00:00             4.845999              6.9585   \n",
      "1   2025-01-01 23:00:00+00:00             4.089751              6.7585   \n",
      "2   2025-01-02 23:00:00+00:00             0.837667              2.4585   \n",
      "3   2025-01-03 23:00:00+00:00            -1.058167              0.8085   \n",
      "4   2025-01-04 23:00:00+00:00            -0.968583              0.7585   \n",
      "..                        ...                  ...                 ...   \n",
      "283 2025-10-10 23:00:00+00:00            14.127252             16.3585   \n",
      "284 2025-10-11 23:00:00+00:00            12.648084             13.9585   \n",
      "285 2025-10-12 23:00:00+00:00            11.023083             14.0585   \n",
      "286 2025-10-13 23:00:00+00:00             9.908502             12.7085   \n",
      "287 2025-10-14 23:00:00+00:00            11.279335             13.7085   \n",
      "\n",
      "     precipitation_sum  rain_sum  precipitation_hours  wind_speed_10m_max  \n",
      "0             0.100000       0.1                  1.0           26.398705  \n",
      "1             4.100000       4.1                 10.0           26.144650  \n",
      "2             3.100000       0.4                  7.0           30.253387  \n",
      "3             0.000000       0.0                  0.0           19.820442  \n",
      "4             9.299999       3.9                  9.0           18.686218  \n",
      "..                 ...       ...                  ...                 ...  \n",
      "283           0.400000       0.4                  4.0           22.543158  \n",
      "284           0.800000       0.8                  5.0           18.673208  \n",
      "285           0.100000       0.1                  1.0            8.777653  \n",
      "286           2.300000       2.3                 10.0           13.576582  \n",
      "287           0.200000       0.2                  2.0           10.838930  \n",
      "\n",
      "[288 rows x 7 columns]\n"
     ]
    }
   ],
   "source": [
    "# Setup the Open-Meteo API client with cache and retry on error\n",
    "cache_session = requests_cache.CachedSession('.cache', expire_after = -1)\n",
    "retry_session = retry(cache_session, retries = 5, backoff_factor = 0.2)\n",
    "openmeteo = openmeteo_requests.Client(session = retry_session)\n",
    "\n",
    "# Make sure all required weather variables are listed here\n",
    "# The order of variables in hourly or daily is important to assign them correctly below\n",
    "url = \"https://archive-api.open-meteo.com/v1/archive\"\n",
    "params = {\n",
    "\t\"latitude\": 52.52,\n",
    "\t\"longitude\": 13.41,\n",
    "\t\"start_date\": \"2025-01-01\",\n",
    "\t\"end_date\": \"2025-10-15\",\n",
    "\t\"daily\": [\"temperature_2m_mean\", \"temperature_2m_max\", \"precipitation_sum\", \"rain_sum\", \"precipitation_hours\", \"wind_speed_10m_max\"],\n",
    "\t\"timezone\": \"Europe/Berlin\",\n",
    "}\n",
    "responses = openmeteo.weather_api(url, params=params)\n",
    "\n",
    "# Process first location. Add a for-loop for multiple locations or weather models\n",
    "response = responses[0]\n",
    "print(f\"Coordinates: {response.Latitude()}°N {response.Longitude()}°E\")\n",
    "print(f\"Elevation: {response.Elevation()} m asl\")\n",
    "print(f\"Timezone: {response.Timezone()}{response.TimezoneAbbreviation()}\")\n",
    "print(f\"Timezone difference to GMT+0: {response.UtcOffsetSeconds()}s\")\n",
    "\n",
    "# Process daily data. The order of variables needs to be the same as requested.\n",
    "daily = response.Daily()\n",
    "daily_temperature_2m_mean = daily.Variables(0).ValuesAsNumpy()\n",
    "daily_temperature_2m_max = daily.Variables(1).ValuesAsNumpy()\n",
    "daily_precipitation_sum = daily.Variables(2).ValuesAsNumpy()\n",
    "daily_rain_sum = daily.Variables(3).ValuesAsNumpy()\n",
    "daily_precipitation_hours = daily.Variables(4).ValuesAsNumpy()\n",
    "daily_wind_speed_10m_max = daily.Variables(5).ValuesAsNumpy()\n",
    "\n",
    "daily_data = {\"date\": pd.date_range(\n",
    "\tstart = pd.to_datetime(daily.Time(), unit = \"s\", utc = True),\n",
    "\tend = pd.to_datetime(daily.TimeEnd(), unit = \"s\", utc = True),\n",
    "\tfreq = pd.Timedelta(seconds = daily.Interval()),\n",
    "\tinclusive = \"left\"\n",
    ")}\n",
    "\n",
    "daily_data[\"temperature_2m_mean\"] = daily_temperature_2m_mean\n",
    "daily_data[\"temperature_2m_max\"] = daily_temperature_2m_max\n",
    "daily_data[\"precipitation_sum\"] = daily_precipitation_sum\n",
    "daily_data[\"rain_sum\"] = daily_rain_sum\n",
    "daily_data[\"precipitation_hours\"] = daily_precipitation_hours\n",
    "daily_data[\"wind_speed_10m_max\"] = daily_wind_speed_10m_max\n",
    "\n",
    "daily_dataframe = pd.DataFrame(data = daily_data)\n",
    "print(\"\\nDaily data\\n\", daily_dataframe)"
   ]
  }
 ],
 "metadata": {
  "kernelspec": {
   "display_name": "Python 3 (ipykernel)",
   "language": "python",
   "name": "python3"
  },
  "language_info": {
   "codemirror_mode": {
    "name": "ipython",
    "version": 3
   },
   "file_extension": ".py",
   "mimetype": "text/x-python",
   "name": "python",
   "nbconvert_exporter": "python",
   "pygments_lexer": "ipython3",
   "version": "3.10.6"
  }
 },
 "nbformat": 4,
 "nbformat_minor": 5
}
