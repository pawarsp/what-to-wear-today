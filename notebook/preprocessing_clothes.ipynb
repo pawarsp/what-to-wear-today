{
 "cells": [
  {
   "cell_type": "markdown",
   "metadata": {},
   "source": [
    "# Cleaning"
   ]
  },
  {
   "cell_type": "markdown",
   "metadata": {
    "id": "35qrcNRZZobW"
   },
   "source": [
    "**Merge datasets**"
   ]
  },
  {
   "cell_type": "code",
   "execution_count": 269,
   "metadata": {
    "colab": {
     "base_uri": "https://localhost:8080/"
    },
    "execution": {
     "iopub.execute_input": "2025-10-29T16:35:31.006689Z",
     "iopub.status.busy": "2025-10-29T16:35:30.989658Z",
     "iopub.status.idle": "2025-10-29T16:35:32.706771Z",
     "shell.execute_reply": "2025-10-29T16:35:32.700453Z",
     "shell.execute_reply.started": "2025-10-29T16:35:31.005874Z"
    },
    "id": "ltCbZI4QfbOT",
    "outputId": "49a751fc-9e94-4f5f-b44e-933494393148"
   },
   "outputs": [
    {
     "name": "stdout",
     "output_type": "stream",
     "text": [
      "✅ Merged all datasets into '/home/kloor/code/pawarsp/what-to-wear-today/raw_data/clothes.csv' with 4185 rows and 8 columns.\n"
     ]
    }
   ],
   "source": [
    "import os\n",
    "import pandas as pd\n",
    "from glob import glob\n",
    "\n",
    "def merge_all_csvs(base_path, save_path):\n",
    "    all_dfs = []\n",
    "\n",
    "    for gender in [\"Women\", \"Men\"]:\n",
    "        folder_path = os.path.join(base_path, gender)\n",
    "        csv_files = glob(os.path.join(folder_path, \"*.csv\")) + glob(os.path.join(folder_path, \"*.CSV\"))\n",
    "\n",
    "        for file in csv_files:\n",
    "            df = pd.read_csv(file)\n",
    "            # Standardize columns\n",
    "            df.columns = [col.strip().lower().replace(\" \", \"_\") for col in df.columns]\n",
    "            df.columns = [\"product_images\" if c in [\"product_image\", \"product_images\"] else c for c in df.columns]\n",
    "\n",
    "            # Add gender and category\n",
    "            df[\"gender\"] = gender.lower()\n",
    "            df[\"product_category\"] = os.path.splitext(os.path.basename(file))[0]\n",
    "\n",
    "            all_dfs.append(df)\n",
    "\n",
    "    # Concatenate all and save\n",
    "    if all_dfs:\n",
    "        clothes = pd.concat(all_dfs, ignore_index=True, sort=False)\n",
    "        clothes.to_csv(save_path, index=False)\n",
    "        print(f\"✅ Merged all datasets into '{save_path}' with {clothes.shape[0]} rows and {clothes.shape[1]} columns.\")\n",
    "        return clothes\n",
    "    else:\n",
    "        print(\"⚠️ No CSV files found.\")\n",
    "        return None\n",
    "\n",
    "base_path = \"/home/kloor/code/pawarsp/what-to-wear-today/raw_data\"\n",
    "\n",
    "# Save merged CSV to the same folder\n",
    "save_path = os.path.join(base_path, \"clothes.csv\")\n",
    "\n",
    "# Merge and save\n",
    "clothes = merge_all_csvs(base_path, save_path)\n"
   ]
  },
  {
   "cell_type": "code",
   "execution_count": 270,
   "metadata": {
    "colab": {
     "base_uri": "https://localhost:8080/",
     "height": 414
    },
    "execution": {
     "iopub.execute_input": "2025-10-29T16:35:32.710630Z",
     "iopub.status.busy": "2025-10-29T16:35:32.710194Z",
     "iopub.status.idle": "2025-10-29T16:35:32.753746Z",
     "shell.execute_reply": "2025-10-29T16:35:32.751165Z",
     "shell.execute_reply.started": "2025-10-29T16:35:32.710600Z"
    },
    "id": "7oRIqqUsjvqV",
    "outputId": "e35e83f1-9cac-4ba1-8e8b-c85f09574c22"
   },
   "outputs": [
    {
     "data": {
      "text/html": [
       "<div>\n",
       "<style scoped>\n",
       "    .dataframe tbody tr th:only-of-type {\n",
       "        vertical-align: middle;\n",
       "    }\n",
       "\n",
       "    .dataframe tbody tr th {\n",
       "        vertical-align: top;\n",
       "    }\n",
       "\n",
       "    .dataframe thead th {\n",
       "        text-align: right;\n",
       "    }\n",
       "</style>\n",
       "<table border=\"1\" class=\"dataframe\">\n",
       "  <thead>\n",
       "    <tr style=\"text-align: right;\">\n",
       "      <th></th>\n",
       "      <th>unnamed:_0</th>\n",
       "      <th>product_name</th>\n",
       "      <th>link</th>\n",
       "      <th>product_images</th>\n",
       "      <th>price</th>\n",
       "      <th>details</th>\n",
       "      <th>gender</th>\n",
       "      <th>product_category</th>\n",
       "    </tr>\n",
       "  </thead>\n",
       "  <tbody>\n",
       "    <tr>\n",
       "      <th>0</th>\n",
       "      <td>0</td>\n",
       "      <td>3-IN-1 BAR REFILL</td>\n",
       "      <td>https://www.zara.com/in/en/3-in-1-bar-refill-p...</td>\n",
       "      <td>[]</td>\n",
       "      <td>₹ 1,290.00</td>\n",
       "      <td>Creamy texture multifunction makeup bar, avail...</td>\n",
       "      <td>women</td>\n",
       "      <td>BEAUTY</td>\n",
       "    </tr>\n",
       "    <tr>\n",
       "      <th>1</th>\n",
       "      <td>2</td>\n",
       "      <td>LIP OIL</td>\n",
       "      <td>https://www.zara.com/in/en/lip-oil-p24130314.html</td>\n",
       "      <td>[]</td>\n",
       "      <td>₹ 790.00</td>\n",
       "      <td>This creamy lip oil glides like silk to achiev...</td>\n",
       "      <td>women</td>\n",
       "      <td>BEAUTY</td>\n",
       "    </tr>\n",
       "    <tr>\n",
       "      <th>2</th>\n",
       "      <td>4</td>\n",
       "      <td>ULTIMATTE MATTE LIQUID LIPSTICK</td>\n",
       "      <td>https://www.zara.com/in/en/ultimatte-matte-liq...</td>\n",
       "      <td>[]</td>\n",
       "      <td>₹ 790.00</td>\n",
       "      <td>Slick with it. Our favourite lipstick, now in ...</td>\n",
       "      <td>women</td>\n",
       "      <td>BEAUTY</td>\n",
       "    </tr>\n",
       "    <tr>\n",
       "      <th>3</th>\n",
       "      <td>10</td>\n",
       "      <td>FACE BRUSH #3</td>\n",
       "      <td>https://www.zara.com/in/en/face-brush--3-p2414...</td>\n",
       "      <td>[{'https://static.zara.net/photos///2022/I/2/1...</td>\n",
       "      <td>₹ 950.00</td>\n",
       "      <td>Small face brush for the application of powder...</td>\n",
       "      <td>women</td>\n",
       "      <td>BEAUTY</td>\n",
       "    </tr>\n",
       "    <tr>\n",
       "      <th>4</th>\n",
       "      <td>11</td>\n",
       "      <td>FACE BRUSH #2</td>\n",
       "      <td>https://www.zara.com/in/en/face-brush--2-p2414...</td>\n",
       "      <td>[]</td>\n",
       "      <td>₹ 1,290.00</td>\n",
       "      <td>Designed to apply powder and cream products. P...</td>\n",
       "      <td>women</td>\n",
       "      <td>BEAUTY</td>\n",
       "    </tr>\n",
       "  </tbody>\n",
       "</table>\n",
       "</div>"
      ],
      "text/plain": [
       "   unnamed:_0                     product_name  \\\n",
       "0           0                3-IN-1 BAR REFILL   \n",
       "1           2                          LIP OIL   \n",
       "2           4  ULTIMATTE MATTE LIQUID LIPSTICK   \n",
       "3          10                    FACE BRUSH #3   \n",
       "4          11                    FACE BRUSH #2   \n",
       "\n",
       "                                                link  \\\n",
       "0  https://www.zara.com/in/en/3-in-1-bar-refill-p...   \n",
       "1  https://www.zara.com/in/en/lip-oil-p24130314.html   \n",
       "2  https://www.zara.com/in/en/ultimatte-matte-liq...   \n",
       "3  https://www.zara.com/in/en/face-brush--3-p2414...   \n",
       "4  https://www.zara.com/in/en/face-brush--2-p2414...   \n",
       "\n",
       "                                      product_images       price  \\\n",
       "0                                                 []  ₹ 1,290.00   \n",
       "1                                                 []    ₹ 790.00   \n",
       "2                                                 []    ₹ 790.00   \n",
       "3  [{'https://static.zara.net/photos///2022/I/2/1...    ₹ 950.00   \n",
       "4                                                 []  ₹ 1,290.00   \n",
       "\n",
       "                                             details gender product_category  \n",
       "0  Creamy texture multifunction makeup bar, avail...  women           BEAUTY  \n",
       "1  This creamy lip oil glides like silk to achiev...  women           BEAUTY  \n",
       "2  Slick with it. Our favourite lipstick, now in ...  women           BEAUTY  \n",
       "3  Small face brush for the application of powder...  women           BEAUTY  \n",
       "4  Designed to apply powder and cream products. P...  women           BEAUTY  "
      ]
     },
     "execution_count": 270,
     "metadata": {},
     "output_type": "execute_result"
    }
   ],
   "source": [
    "clothes.head()"
   ]
  },
  {
   "cell_type": "markdown",
   "metadata": {
    "id": "GpnSKyRDZyQX"
   },
   "source": [
    "**Data cleaning**"
   ]
  },
  {
   "cell_type": "code",
   "execution_count": 271,
   "metadata": {
    "execution": {
     "iopub.execute_input": "2025-10-29T16:35:32.756951Z",
     "iopub.status.busy": "2025-10-29T16:35:32.755634Z",
     "iopub.status.idle": "2025-10-29T16:35:32.788873Z",
     "shell.execute_reply": "2025-10-29T16:35:32.785608Z",
     "shell.execute_reply.started": "2025-10-29T16:35:32.756874Z"
    },
    "id": "Q-0crbC6fbQ5"
   },
   "outputs": [],
   "source": [
    "clothes = clothes.dropna(subset=[\"product_name\", \"details\"])"
   ]
  },
  {
   "cell_type": "code",
   "execution_count": 272,
   "metadata": {
    "execution": {
     "iopub.execute_input": "2025-10-29T16:35:32.789765Z",
     "iopub.status.busy": "2025-10-29T16:35:32.789543Z",
     "iopub.status.idle": "2025-10-29T16:35:38.616682Z",
     "shell.execute_reply": "2025-10-29T16:35:38.609498Z",
     "shell.execute_reply.started": "2025-10-29T16:35:32.789746Z"
    },
    "scrolled": true
   },
   "outputs": [
    {
     "name": "stdout",
     "output_type": "stream",
     "text": [
      "Requirement already satisfied: spacy in /home/kloor/.pyenv/versions/3.10.6/envs/what_to_wear_today/lib/python3.10/site-packages (3.8.7)\n",
      "Requirement already satisfied: spacy-legacy<3.1.0,>=3.0.11 in /home/kloor/.pyenv/versions/3.10.6/envs/what_to_wear_today/lib/python3.10/site-packages (from spacy) (3.0.12)\n",
      "Requirement already satisfied: thinc<8.4.0,>=8.3.4 in /home/kloor/.pyenv/versions/3.10.6/envs/what_to_wear_today/lib/python3.10/site-packages (from spacy) (8.3.6)\n",
      "Requirement already satisfied: wasabi<1.2.0,>=0.9.1 in /home/kloor/.pyenv/versions/3.10.6/envs/what_to_wear_today/lib/python3.10/site-packages (from spacy) (1.1.3)\n",
      "Requirement already satisfied: numpy>=1.19.0 in /home/kloor/.pyenv/versions/3.10.6/envs/what_to_wear_today/lib/python3.10/site-packages (from spacy) (2.2.6)\n",
      "Requirement already satisfied: srsly<3.0.0,>=2.4.3 in /home/kloor/.pyenv/versions/3.10.6/envs/what_to_wear_today/lib/python3.10/site-packages (from spacy) (2.5.1)\n",
      "Requirement already satisfied: cymem<2.1.0,>=2.0.2 in /home/kloor/.pyenv/versions/3.10.6/envs/what_to_wear_today/lib/python3.10/site-packages (from spacy) (2.0.11)\n",
      "Requirement already satisfied: spacy-loggers<2.0.0,>=1.0.0 in /home/kloor/.pyenv/versions/3.10.6/envs/what_to_wear_today/lib/python3.10/site-packages (from spacy) (1.0.5)\n",
      "Requirement already satisfied: catalogue<2.1.0,>=2.0.6 in /home/kloor/.pyenv/versions/3.10.6/envs/what_to_wear_today/lib/python3.10/site-packages (from spacy) (2.0.10)\n",
      "Requirement already satisfied: requests<3.0.0,>=2.13.0 in /home/kloor/.pyenv/versions/3.10.6/envs/what_to_wear_today/lib/python3.10/site-packages (from spacy) (2.32.5)\n",
      "Requirement already satisfied: typer<1.0.0,>=0.3.0 in /home/kloor/.pyenv/versions/3.10.6/envs/what_to_wear_today/lib/python3.10/site-packages (from spacy) (0.20.0)\n",
      "Requirement already satisfied: pydantic!=1.8,!=1.8.1,<3.0.0,>=1.7.4 in /home/kloor/.pyenv/versions/3.10.6/envs/what_to_wear_today/lib/python3.10/site-packages (from spacy) (2.12.3)\n",
      "Requirement already satisfied: murmurhash<1.1.0,>=0.28.0 in /home/kloor/.pyenv/versions/3.10.6/envs/what_to_wear_today/lib/python3.10/site-packages (from spacy) (1.0.13)\n",
      "Requirement already satisfied: weasel<0.5.0,>=0.1.0 in /home/kloor/.pyenv/versions/3.10.6/envs/what_to_wear_today/lib/python3.10/site-packages (from spacy) (0.4.1)\n",
      "Requirement already satisfied: tqdm<5.0.0,>=4.38.0 in /home/kloor/.pyenv/versions/3.10.6/envs/what_to_wear_today/lib/python3.10/site-packages (from spacy) (4.67.1)\n",
      "Requirement already satisfied: packaging>=20.0 in /home/kloor/.pyenv/versions/3.10.6/envs/what_to_wear_today/lib/python3.10/site-packages (from spacy) (25.0)\n",
      "Requirement already satisfied: langcodes<4.0.0,>=3.2.0 in /home/kloor/.pyenv/versions/3.10.6/envs/what_to_wear_today/lib/python3.10/site-packages (from spacy) (3.5.0)\n",
      "Requirement already satisfied: jinja2 in /home/kloor/.pyenv/versions/3.10.6/envs/what_to_wear_today/lib/python3.10/site-packages (from spacy) (3.1.6)\n",
      "Requirement already satisfied: preshed<3.1.0,>=3.0.2 in /home/kloor/.pyenv/versions/3.10.6/envs/what_to_wear_today/lib/python3.10/site-packages (from spacy) (3.0.10)\n",
      "Requirement already satisfied: setuptools in /home/kloor/.pyenv/versions/3.10.6/envs/what_to_wear_today/lib/python3.10/site-packages (from spacy) (63.2.0)\n",
      "Requirement already satisfied: language-data>=1.2 in /home/kloor/.pyenv/versions/3.10.6/envs/what_to_wear_today/lib/python3.10/site-packages (from langcodes<4.0.0,>=3.2.0->spacy) (1.3.0)\n",
      "Requirement already satisfied: annotated-types>=0.6.0 in /home/kloor/.pyenv/versions/3.10.6/envs/what_to_wear_today/lib/python3.10/site-packages (from pydantic!=1.8,!=1.8.1,<3.0.0,>=1.7.4->spacy) (0.7.0)\n",
      "Requirement already satisfied: pydantic-core==2.41.4 in /home/kloor/.pyenv/versions/3.10.6/envs/what_to_wear_today/lib/python3.10/site-packages (from pydantic!=1.8,!=1.8.1,<3.0.0,>=1.7.4->spacy) (2.41.4)\n",
      "Requirement already satisfied: typing-inspection>=0.4.2 in /home/kloor/.pyenv/versions/3.10.6/envs/what_to_wear_today/lib/python3.10/site-packages (from pydantic!=1.8,!=1.8.1,<3.0.0,>=1.7.4->spacy) (0.4.2)\n",
      "Requirement already satisfied: typing-extensions>=4.14.1 in /home/kloor/.pyenv/versions/3.10.6/envs/what_to_wear_today/lib/python3.10/site-packages (from pydantic!=1.8,!=1.8.1,<3.0.0,>=1.7.4->spacy) (4.15.0)\n",
      "Requirement already satisfied: charset_normalizer<4,>=2 in /home/kloor/.pyenv/versions/3.10.6/envs/what_to_wear_today/lib/python3.10/site-packages (from requests<3.0.0,>=2.13.0->spacy) (3.4.4)\n",
      "Requirement already satisfied: certifi>=2017.4.17 in /home/kloor/.pyenv/versions/3.10.6/envs/what_to_wear_today/lib/python3.10/site-packages (from requests<3.0.0,>=2.13.0->spacy) (2025.10.5)\n",
      "Requirement already satisfied: urllib3<3,>=1.21.1 in /home/kloor/.pyenv/versions/3.10.6/envs/what_to_wear_today/lib/python3.10/site-packages (from requests<3.0.0,>=2.13.0->spacy) (2.5.0)\n",
      "Requirement already satisfied: idna<4,>=2.5 in /home/kloor/.pyenv/versions/3.10.6/envs/what_to_wear_today/lib/python3.10/site-packages (from requests<3.0.0,>=2.13.0->spacy) (3.11)\n",
      "Requirement already satisfied: confection<1.0.0,>=0.0.1 in /home/kloor/.pyenv/versions/3.10.6/envs/what_to_wear_today/lib/python3.10/site-packages (from thinc<8.4.0,>=8.3.4->spacy) (0.1.5)\n",
      "Requirement already satisfied: blis<1.4.0,>=1.3.0 in /home/kloor/.pyenv/versions/3.10.6/envs/what_to_wear_today/lib/python3.10/site-packages (from thinc<8.4.0,>=8.3.4->spacy) (1.3.0)\n",
      "Requirement already satisfied: rich>=10.11.0 in /home/kloor/.pyenv/versions/3.10.6/envs/what_to_wear_today/lib/python3.10/site-packages (from typer<1.0.0,>=0.3.0->spacy) (14.2.0)\n",
      "Requirement already satisfied: click>=8.0.0 in /home/kloor/.pyenv/versions/3.10.6/envs/what_to_wear_today/lib/python3.10/site-packages (from typer<1.0.0,>=0.3.0->spacy) (8.3.0)\n",
      "Requirement already satisfied: shellingham>=1.3.0 in /home/kloor/.pyenv/versions/3.10.6/envs/what_to_wear_today/lib/python3.10/site-packages (from typer<1.0.0,>=0.3.0->spacy) (1.5.4)\n",
      "Requirement already satisfied: smart-open<8.0.0,>=5.2.1 in /home/kloor/.pyenv/versions/3.10.6/envs/what_to_wear_today/lib/python3.10/site-packages (from weasel<0.5.0,>=0.1.0->spacy) (7.4.1)\n",
      "Requirement already satisfied: cloudpathlib<1.0.0,>=0.7.0 in /home/kloor/.pyenv/versions/3.10.6/envs/what_to_wear_today/lib/python3.10/site-packages (from weasel<0.5.0,>=0.1.0->spacy) (0.23.0)\n",
      "Requirement already satisfied: MarkupSafe>=2.0 in /home/kloor/.pyenv/versions/3.10.6/envs/what_to_wear_today/lib/python3.10/site-packages (from jinja2->spacy) (3.0.3)\n",
      "Requirement already satisfied: marisa-trie>=1.1.0 in /home/kloor/.pyenv/versions/3.10.6/envs/what_to_wear_today/lib/python3.10/site-packages (from language-data>=1.2->langcodes<4.0.0,>=3.2.0->spacy) (1.3.1)\n",
      "Requirement already satisfied: markdown-it-py>=2.2.0 in /home/kloor/.pyenv/versions/3.10.6/envs/what_to_wear_today/lib/python3.10/site-packages (from rich>=10.11.0->typer<1.0.0,>=0.3.0->spacy) (4.0.0)\n",
      "Requirement already satisfied: pygments<3.0.0,>=2.13.0 in /home/kloor/.pyenv/versions/3.10.6/envs/what_to_wear_today/lib/python3.10/site-packages (from rich>=10.11.0->typer<1.0.0,>=0.3.0->spacy) (2.19.2)\n",
      "Requirement already satisfied: wrapt in /home/kloor/.pyenv/versions/3.10.6/envs/what_to_wear_today/lib/python3.10/site-packages (from smart-open<8.0.0,>=5.2.1->weasel<0.5.0,>=0.1.0->spacy) (2.0.0)\n",
      "Requirement already satisfied: mdurl~=0.1 in /home/kloor/.pyenv/versions/3.10.6/envs/what_to_wear_today/lib/python3.10/site-packages (from markdown-it-py>=2.2.0->rich>=10.11.0->typer<1.0.0,>=0.3.0->spacy) (0.1.2)\n",
      "\n",
      "\u001b[1m[\u001b[0m\u001b[34;49mnotice\u001b[0m\u001b[1;39;49m]\u001b[0m\u001b[39;49m A new release of pip available: \u001b[0m\u001b[31;49m22.2.1\u001b[0m\u001b[39;49m -> \u001b[0m\u001b[32;49m25.3\u001b[0m\n",
      "\u001b[1m[\u001b[0m\u001b[34;49mnotice\u001b[0m\u001b[1;39;49m]\u001b[0m\u001b[39;49m To update, run: \u001b[0m\u001b[32;49mpython -m pip install --upgrade pip\u001b[0m\n"
     ]
    }
   ],
   "source": [
    "!pip install spacy"
   ]
  },
  {
   "cell_type": "code",
   "execution_count": 273,
   "metadata": {
    "execution": {
     "iopub.execute_input": "2025-10-29T16:35:38.622336Z",
     "iopub.status.busy": "2025-10-29T16:35:38.621021Z",
     "iopub.status.idle": "2025-10-29T16:35:44.918542Z",
     "shell.execute_reply": "2025-10-29T16:35:44.914864Z",
     "shell.execute_reply.started": "2025-10-29T16:35:38.622300Z"
    },
    "scrolled": true
   },
   "outputs": [
    {
     "name": "stdout",
     "output_type": "stream",
     "text": [
      "Collecting en-core-web-sm==3.8.0\n",
      "  Downloading https://github.com/explosion/spacy-models/releases/download/en_core_web_sm-3.8.0/en_core_web_sm-3.8.0-py3-none-any.whl (12.8 MB)\n",
      "\u001b[2K     \u001b[90m━━━━━━━━━━━━━━━━━━━━━━━━━━━━━━━━━━━━━━━━\u001b[0m \u001b[32m12.8/12.8 MB\u001b[0m \u001b[31m32.4 MB/s\u001b[0m eta \u001b[36m0:00:00\u001b[0m00:01\u001b[0m00:01\u001b[0m\n",
      "\u001b[?25h\n",
      "\u001b[1m[\u001b[0m\u001b[34;49mnotice\u001b[0m\u001b[1;39;49m]\u001b[0m\u001b[39;49m A new release of pip available: \u001b[0m\u001b[31;49m22.2.1\u001b[0m\u001b[39;49m -> \u001b[0m\u001b[32;49m25.3\u001b[0m\n",
      "\u001b[1m[\u001b[0m\u001b[34;49mnotice\u001b[0m\u001b[1;39;49m]\u001b[0m\u001b[39;49m To update, run: \u001b[0m\u001b[32;49mpip install --upgrade pip\u001b[0m\n",
      "\u001b[38;5;2m✔ Download and installation successful\u001b[0m\n",
      "You can now load the package via spacy.load('en_core_web_sm')\n"
     ]
    }
   ],
   "source": [
    "!python -m spacy download en_core_web_sm"
   ]
  },
  {
   "cell_type": "code",
   "execution_count": 274,
   "metadata": {
    "colab": {
     "base_uri": "https://localhost:8080/"
    },
    "execution": {
     "iopub.execute_input": "2025-10-29T16:35:44.921889Z",
     "iopub.status.busy": "2025-10-29T16:35:44.921420Z",
     "iopub.status.idle": "2025-10-29T16:36:22.527934Z",
     "shell.execute_reply": "2025-10-29T16:36:22.525200Z",
     "shell.execute_reply.started": "2025-10-29T16:35:44.921853Z"
    },
    "id": "MbVHWqzEj7Ca",
    "outputId": "ac9463bb-f4f3-48e9-94ed-569309a120f0"
   },
   "outputs": [
    {
     "name": "stdout",
     "output_type": "stream",
     "text": [
      "Preprocessing complete and saved to '/home/kloor/code/pawarsp/what-to-wear-today/raw_data/clothes.csv'\n"
     ]
    }
   ],
   "source": [
    "import pandas as pd\n",
    "import re\n",
    "import os\n",
    "import spacy\n",
    "\n",
    "nlp = spacy.load(\"en_core_web_sm\", disable=[\"parser\", \"ner\"])\n",
    "\n",
    "clothes_path = \"/home/kloor/code/pawarsp/what-to-wear-today/raw_data/clothes.csv\"\n",
    "clothes = pd.read_csv(clothes_path)\n",
    "\n",
    "# Basic cleaning: lowercase, remove punctuation, strip\n",
    "def basic_clean(text):\n",
    "    if pd.isna(text):\n",
    "        return \"\"\n",
    "    text = str(text).lower()\n",
    "    text = re.sub(r'[^\\w\\s]', '', text)\n",
    "    text = re.sub(r'\\s+', ' ', text).strip()\n",
    "    return text\n",
    "\n",
    "clothes[\"product_name\"] = clothes[\"product_name\"].apply(basic_clean)\n",
    "clothes[\"details\"] = clothes[\"details\"].apply(basic_clean)\n",
    "\n",
    "# remove unwanted words & numbers\n",
    "def remove_words_numbers(text):\n",
    "    # Remove 'ZW', 'Zara' (case-insensitive) and all numbers\n",
    "    text = re.sub(r'\\b(zw|zara)\\b|\\d+', '', text, flags=re.IGNORECASE)\n",
    "    # Remove extra whitespace again\n",
    "    text = re.sub(r'\\s+', ' ', text).strip()\n",
    "    return text\n",
    "\n",
    "clothes[\"product_name\"] = clothes[\"product_name\"].apply(remove_words_numbers)\n",
    "clothes[\"details\"] = clothes[\"details\"].apply(remove_words_numbers)\n",
    "\n",
    "# Tokenization,lemmatization,stopword removal\n",
    "def preprocess_spacy(text):\n",
    "    if not text:\n",
    "        return \"\"\n",
    "    doc = nlp(text)\n",
    "    tokens = [token.lemma_ for token in doc if token.is_alpha and not token.is_stop]\n",
    "    return \" \".join(tokens)\n",
    "\n",
    "clothes[\"product_name_clean\"] = clothes[\"product_name\"].apply(preprocess_spacy)\n",
    "clothes[\"details_clean\"] = clothes[\"details\"].apply(preprocess_spacy)\n",
    "\n",
    "save_path = os.path.join(os.path.dirname(clothes_path), \"clothes.csv\")\n",
    "clothes.to_csv(save_path, index=False)\n",
    "print(f\"Preprocessing complete and saved to '{save_path}'\")\n"
   ]
  },
  {
   "cell_type": "code",
   "execution_count": 275,
   "metadata": {
    "colab": {
     "base_uri": "https://localhost:8080/",
     "height": 660
    },
    "execution": {
     "iopub.execute_input": "2025-10-29T16:36:22.530539Z",
     "iopub.status.busy": "2025-10-29T16:36:22.530051Z",
     "iopub.status.idle": "2025-10-29T16:36:22.552093Z",
     "shell.execute_reply": "2025-10-29T16:36:22.549532Z",
     "shell.execute_reply.started": "2025-10-29T16:36:22.530500Z"
    },
    "id": "G-SFRtFQj7Fj",
    "outputId": "56bbbe89-e867-4c54-f7b6-71f5b03c7a15"
   },
   "outputs": [
    {
     "data": {
      "text/html": [
       "<div>\n",
       "<style scoped>\n",
       "    .dataframe tbody tr th:only-of-type {\n",
       "        vertical-align: middle;\n",
       "    }\n",
       "\n",
       "    .dataframe tbody tr th {\n",
       "        vertical-align: top;\n",
       "    }\n",
       "\n",
       "    .dataframe thead th {\n",
       "        text-align: right;\n",
       "    }\n",
       "</style>\n",
       "<table border=\"1\" class=\"dataframe\">\n",
       "  <thead>\n",
       "    <tr style=\"text-align: right;\">\n",
       "      <th></th>\n",
       "      <th>unnamed:_0</th>\n",
       "      <th>product_name</th>\n",
       "      <th>link</th>\n",
       "      <th>product_images</th>\n",
       "      <th>price</th>\n",
       "      <th>details</th>\n",
       "      <th>gender</th>\n",
       "      <th>product_category</th>\n",
       "      <th>product_name_clean</th>\n",
       "      <th>details_clean</th>\n",
       "    </tr>\n",
       "  </thead>\n",
       "  <tbody>\n",
       "    <tr>\n",
       "      <th>0</th>\n",
       "      <td>0</td>\n",
       "      <td>in bar refill</td>\n",
       "      <td>https://www.zara.com/in/en/3-in-1-bar-refill-p...</td>\n",
       "      <td>[]</td>\n",
       "      <td>₹ 1,290.00</td>\n",
       "      <td>creamy texture multifunction makeup bar availa...</td>\n",
       "      <td>women</td>\n",
       "      <td>BEAUTY</td>\n",
       "      <td>bar refill</td>\n",
       "      <td>creamy texture multifunction makeup bar availa...</td>\n",
       "    </tr>\n",
       "    <tr>\n",
       "      <th>1</th>\n",
       "      <td>2</td>\n",
       "      <td>lip oil</td>\n",
       "      <td>https://www.zara.com/in/en/lip-oil-p24130314.html</td>\n",
       "      <td>[]</td>\n",
       "      <td>₹ 790.00</td>\n",
       "      <td>this creamy lip oil glides like silk to achiev...</td>\n",
       "      <td>women</td>\n",
       "      <td>BEAUTY</td>\n",
       "      <td>lip oil</td>\n",
       "      <td>creamy lip oil glide like silk achieve uniform...</td>\n",
       "    </tr>\n",
       "    <tr>\n",
       "      <th>2</th>\n",
       "      <td>4</td>\n",
       "      <td>ultimatte matte liquid lipstick</td>\n",
       "      <td>https://www.zara.com/in/en/ultimatte-matte-liq...</td>\n",
       "      <td>[]</td>\n",
       "      <td>₹ 790.00</td>\n",
       "      <td>slick with it our favourite lipstick now in a ...</td>\n",
       "      <td>women</td>\n",
       "      <td>BEAUTY</td>\n",
       "      <td>ultimatte matte liquid lipstick</td>\n",
       "      <td>slick favourite lipstick liquid version covera...</td>\n",
       "    </tr>\n",
       "    <tr>\n",
       "      <th>3</th>\n",
       "      <td>10</td>\n",
       "      <td>face brush</td>\n",
       "      <td>https://www.zara.com/in/en/face-brush--3-p2414...</td>\n",
       "      <td>[{'https://static.zara.net/photos///2022/I/2/1...</td>\n",
       "      <td>₹ 950.00</td>\n",
       "      <td>small face brush for the application of powder...</td>\n",
       "      <td>women</td>\n",
       "      <td>BEAUTY</td>\n",
       "      <td>face brush</td>\n",
       "      <td>small face brush application powder cream liqu...</td>\n",
       "    </tr>\n",
       "    <tr>\n",
       "      <th>4</th>\n",
       "      <td>11</td>\n",
       "      <td>face brush</td>\n",
       "      <td>https://www.zara.com/in/en/face-brush--2-p2414...</td>\n",
       "      <td>[]</td>\n",
       "      <td>₹ 1,290.00</td>\n",
       "      <td>designed to apply powder and cream products pe...</td>\n",
       "      <td>women</td>\n",
       "      <td>BEAUTY</td>\n",
       "      <td>face brush</td>\n",
       "      <td>design apply powder cream product perfect blus...</td>\n",
       "    </tr>\n",
       "  </tbody>\n",
       "</table>\n",
       "</div>"
      ],
      "text/plain": [
       "   unnamed:_0                     product_name  \\\n",
       "0           0                    in bar refill   \n",
       "1           2                          lip oil   \n",
       "2           4  ultimatte matte liquid lipstick   \n",
       "3          10                       face brush   \n",
       "4          11                       face brush   \n",
       "\n",
       "                                                link  \\\n",
       "0  https://www.zara.com/in/en/3-in-1-bar-refill-p...   \n",
       "1  https://www.zara.com/in/en/lip-oil-p24130314.html   \n",
       "2  https://www.zara.com/in/en/ultimatte-matte-liq...   \n",
       "3  https://www.zara.com/in/en/face-brush--3-p2414...   \n",
       "4  https://www.zara.com/in/en/face-brush--2-p2414...   \n",
       "\n",
       "                                      product_images       price  \\\n",
       "0                                                 []  ₹ 1,290.00   \n",
       "1                                                 []    ₹ 790.00   \n",
       "2                                                 []    ₹ 790.00   \n",
       "3  [{'https://static.zara.net/photos///2022/I/2/1...    ₹ 950.00   \n",
       "4                                                 []  ₹ 1,290.00   \n",
       "\n",
       "                                             details gender product_category  \\\n",
       "0  creamy texture multifunction makeup bar availa...  women           BEAUTY   \n",
       "1  this creamy lip oil glides like silk to achiev...  women           BEAUTY   \n",
       "2  slick with it our favourite lipstick now in a ...  women           BEAUTY   \n",
       "3  small face brush for the application of powder...  women           BEAUTY   \n",
       "4  designed to apply powder and cream products pe...  women           BEAUTY   \n",
       "\n",
       "                product_name_clean  \\\n",
       "0                       bar refill   \n",
       "1                          lip oil   \n",
       "2  ultimatte matte liquid lipstick   \n",
       "3                       face brush   \n",
       "4                       face brush   \n",
       "\n",
       "                                       details_clean  \n",
       "0  creamy texture multifunction makeup bar availa...  \n",
       "1  creamy lip oil glide like silk achieve uniform...  \n",
       "2  slick favourite lipstick liquid version covera...  \n",
       "3  small face brush application powder cream liqu...  \n",
       "4  design apply powder cream product perfect blus...  "
      ]
     },
     "execution_count": 275,
     "metadata": {},
     "output_type": "execute_result"
    }
   ],
   "source": [
    "clothes.head()"
   ]
  },
  {
   "cell_type": "code",
   "execution_count": 276,
   "metadata": {
    "colab": {
     "base_uri": "https://localhost:8080/"
    },
    "execution": {
     "iopub.execute_input": "2025-10-29T16:36:22.554990Z",
     "iopub.status.busy": "2025-10-29T16:36:22.553920Z",
     "iopub.status.idle": "2025-10-29T16:36:22.588790Z",
     "shell.execute_reply": "2025-10-29T16:36:22.586746Z",
     "shell.execute_reply.started": "2025-10-29T16:36:22.554910Z"
    },
    "id": "0cfPDbphpxMI",
    "outputId": "d4e650d8-420f-4207-d645-8cdf97243122"
   },
   "outputs": [
    {
     "name": "stdout",
     "output_type": "stream",
     "text": [
      "✅original columns replaced and saved to '/home/kloor/code/pawarsp/what-to-wear-today/raw_data/clothes.csv'\n"
     ]
    }
   ],
   "source": [
    "\n",
    "clothes.drop(columns=[\"product_name\", \"details\", \"link\", \"product_images\", \"price\", \"unnamed:_0\" ], inplace=True)\n",
    "clothes.rename(columns={\"product_name_clean\": \"product_name\", \"details_clean\": \"details\"}, inplace=True)\n",
    "\n",
    "clothes.to_csv(clothes_path, index=False)\n",
    "print(f\"✅original columns replaced and saved to '{clothes_path}'\")"
   ]
  },
  {
   "cell_type": "code",
   "execution_count": 277,
   "metadata": {
    "colab": {
     "base_uri": "https://localhost:8080/",
     "height": 206
    },
    "execution": {
     "iopub.execute_input": "2025-10-29T16:36:22.591332Z",
     "iopub.status.busy": "2025-10-29T16:36:22.590936Z",
     "iopub.status.idle": "2025-10-29T16:36:22.610237Z",
     "shell.execute_reply": "2025-10-29T16:36:22.607721Z",
     "shell.execute_reply.started": "2025-10-29T16:36:22.591285Z"
    },
    "id": "IUXTH6ldj7I-",
    "outputId": "768f35fa-c1e7-4f26-8dc2-b14e1ce69ec9"
   },
   "outputs": [
    {
     "data": {
      "text/html": [
       "<div>\n",
       "<style scoped>\n",
       "    .dataframe tbody tr th:only-of-type {\n",
       "        vertical-align: middle;\n",
       "    }\n",
       "\n",
       "    .dataframe tbody tr th {\n",
       "        vertical-align: top;\n",
       "    }\n",
       "\n",
       "    .dataframe thead th {\n",
       "        text-align: right;\n",
       "    }\n",
       "</style>\n",
       "<table border=\"1\" class=\"dataframe\">\n",
       "  <thead>\n",
       "    <tr style=\"text-align: right;\">\n",
       "      <th></th>\n",
       "      <th>gender</th>\n",
       "      <th>product_category</th>\n",
       "      <th>product_name</th>\n",
       "      <th>details</th>\n",
       "    </tr>\n",
       "  </thead>\n",
       "  <tbody>\n",
       "    <tr>\n",
       "      <th>0</th>\n",
       "      <td>women</td>\n",
       "      <td>BEAUTY</td>\n",
       "      <td>bar refill</td>\n",
       "      <td>creamy texture multifunction makeup bar availa...</td>\n",
       "    </tr>\n",
       "    <tr>\n",
       "      <th>1</th>\n",
       "      <td>women</td>\n",
       "      <td>BEAUTY</td>\n",
       "      <td>lip oil</td>\n",
       "      <td>creamy lip oil glide like silk achieve uniform...</td>\n",
       "    </tr>\n",
       "    <tr>\n",
       "      <th>2</th>\n",
       "      <td>women</td>\n",
       "      <td>BEAUTY</td>\n",
       "      <td>ultimatte matte liquid lipstick</td>\n",
       "      <td>slick favourite lipstick liquid version covera...</td>\n",
       "    </tr>\n",
       "    <tr>\n",
       "      <th>3</th>\n",
       "      <td>women</td>\n",
       "      <td>BEAUTY</td>\n",
       "      <td>face brush</td>\n",
       "      <td>small face brush application powder cream liqu...</td>\n",
       "    </tr>\n",
       "    <tr>\n",
       "      <th>4</th>\n",
       "      <td>women</td>\n",
       "      <td>BEAUTY</td>\n",
       "      <td>face brush</td>\n",
       "      <td>design apply powder cream product perfect blus...</td>\n",
       "    </tr>\n",
       "  </tbody>\n",
       "</table>\n",
       "</div>"
      ],
      "text/plain": [
       "  gender product_category                     product_name  \\\n",
       "0  women           BEAUTY                       bar refill   \n",
       "1  women           BEAUTY                          lip oil   \n",
       "2  women           BEAUTY  ultimatte matte liquid lipstick   \n",
       "3  women           BEAUTY                       face brush   \n",
       "4  women           BEAUTY                       face brush   \n",
       "\n",
       "                                             details  \n",
       "0  creamy texture multifunction makeup bar availa...  \n",
       "1  creamy lip oil glide like silk achieve uniform...  \n",
       "2  slick favourite lipstick liquid version covera...  \n",
       "3  small face brush application powder cream liqu...  \n",
       "4  design apply powder cream product perfect blus...  "
      ]
     },
     "execution_count": 277,
     "metadata": {},
     "output_type": "execute_result"
    }
   ],
   "source": [
    "clothes.head()"
   ]
  },
  {
   "cell_type": "code",
   "execution_count": 278,
   "metadata": {
    "execution": {
     "iopub.execute_input": "2025-10-29T16:36:22.613096Z",
     "iopub.status.busy": "2025-10-29T16:36:22.612462Z",
     "iopub.status.idle": "2025-10-29T16:36:22.655710Z",
     "shell.execute_reply": "2025-10-29T16:36:22.652513Z",
     "shell.execute_reply.started": "2025-10-29T16:36:22.613061Z"
    },
    "id": "BV2prTEjqEoq"
   },
   "outputs": [],
   "source": [
    "\n",
    "drop_categories = ['PERFUMESNEW', 'ACCESSORIES_JEWELLERY', 'BEAUTY', 'BAGS', 'PERFUMES', 'BAGS_BACKPACKS']\n",
    "\n",
    "clothes = clothes[~clothes[\"product_category\"].str.upper().isin(drop_categories)]\n",
    "clothes.to_csv(clothes_path, index=False)\n"
   ]
  },
  {
   "cell_type": "markdown",
   "metadata": {},
   "source": [
    "# Feature engineering"
   ]
  },
  {
   "cell_type": "code",
   "execution_count": 279,
   "metadata": {
    "execution": {
     "iopub.execute_input": "2025-10-29T16:36:22.657573Z",
     "iopub.status.busy": "2025-10-29T16:36:22.657205Z",
     "iopub.status.idle": "2025-10-29T16:36:22.675347Z",
     "shell.execute_reply": "2025-10-29T16:36:22.671929Z",
     "shell.execute_reply.started": "2025-10-29T16:36:22.657543Z"
    },
    "id": "p40bqx2jaAfe"
   },
   "outputs": [],
   "source": [
    "import pandas as pd\n",
    "from sklearn.model_selection import train_test_split\n",
    "from sklearn.feature_extraction.text import TfidfVectorizer\n",
    "from sklearn.linear_model import LogisticRegression\n",
    "from sklearn.pipeline import Pipeline\n",
    "from sklearn.metrics import accuracy_score, classification_report"
   ]
  },
  {
   "cell_type": "code",
   "execution_count": 280,
   "metadata": {
    "execution": {
     "iopub.execute_input": "2025-10-29T16:36:22.677111Z",
     "iopub.status.busy": "2025-10-29T16:36:22.676709Z",
     "iopub.status.idle": "2025-10-29T16:36:22.710275Z",
     "shell.execute_reply": "2025-10-29T16:36:22.707173Z",
     "shell.execute_reply.started": "2025-10-29T16:36:22.677081Z"
    },
    "id": "kKGI90RuaGmm"
   },
   "outputs": [],
   "source": [
    "required_cols = [\"product_name\", \"details\", \"product_category\"]\n",
    "for col in required_cols:\n",
    "    if col not in clothes.columns:\n",
    "        raise ValueError(f\"Missing required column: '{col}'\")\n",
    "\n",
    "clothes[\"product_name\"] = clothes[\"product_name\"].astype(str)\n",
    "clothes[\"details\"] = clothes[\"details\"].astype(str)\n",
    "clothes[\"text\"] = clothes[\"product_name\"].fillna('') + \" \" + clothes[\"details\"].fillna('')\n",
    "\n",
    "# Define ambiguous categories to reassign\n",
    "ambiguous_cats = [\"WORKWEARNEW\", \"BASICS\", \"LOUNGEWEARNEW\",\n",
    "                  \"SPECIAL PRICES\", \"LINEN\", \"ZARA ATHLETICZ\", \"ZARA ORIGINS\",  \"KNITWEAR\", \"CO-ORD SETS\"]\n"
   ]
  },
  {
   "cell_type": "code",
   "execution_count": 281,
   "metadata": {
    "colab": {
     "base_uri": "https://localhost:8080/"
    },
    "execution": {
     "iopub.execute_input": "2025-10-29T16:36:22.711753Z",
     "iopub.status.busy": "2025-10-29T16:36:22.711381Z",
     "iopub.status.idle": "2025-10-29T16:36:28.817992Z",
     "shell.execute_reply": "2025-10-29T16:36:28.813291Z",
     "shell.execute_reply.started": "2025-10-29T16:36:22.711723Z"
    },
    "id": "eBRc_zrMCSy4",
    "outputId": "f7230c74-116d-4700-8fbb-fad7d4087337"
   },
   "outputs": [
    {
     "name": "stdout",
     "output_type": "stream",
     "text": [
      "Accuracy: 0.8928571428571429\n",
      "                      precision    recall  f1-score   support\n",
      "\n",
      "         ACCESSORIES       0.92      0.77      0.84        30\n",
      "             BLAZERS       0.88      0.78      0.82        18\n",
      "   DRESSES_JUMPSUITS       0.99      0.96      0.98       129\n",
      " HOODIES_SWEATSHIRTS       0.38      0.83      0.53         6\n",
      "             JACKETS       0.91      0.86      0.89        36\n",
      "               JEANS       1.00      1.00      1.00         6\n",
      "          OVERSHIRTS       0.57      0.80      0.67         5\n",
      "         POLO SHIRTS       0.67      0.67      0.67         9\n",
      "              SHIRTS       0.93      0.92      0.93        77\n",
      "               SHOES       1.00      1.00      1.00        90\n",
      "              SHORTS       1.00      0.88      0.94        17\n",
      "       SHORTS_SKORTS       0.71      0.45      0.56        11\n",
      "              SKIRTS       0.71      0.83      0.77        12\n",
      "  SWEATERS_CARDIGANS       0.65      0.65      0.65        17\n",
      "            SWIMWEAR       0.53      1.00      0.70         8\n",
      "            T-SHIRTS       0.92      0.76      0.83        29\n",
      "T-SHIRTS_SWEATSHIRTS       0.86      0.75      0.80         8\n",
      "      TOPS_BODYSUITS       0.76      0.86      0.81        22\n",
      "            TROUSERS       0.96      0.98      0.97        45\n",
      "   WAISTCOATS_GILETS       0.65      0.85      0.73        13\n",
      "\n",
      "            accuracy                           0.89       588\n",
      "           macro avg       0.80      0.83      0.80       588\n",
      "        weighted avg       0.91      0.89      0.90       588\n",
      "\n",
      "Full CSV updated\n"
     ]
    },
    {
     "name": "stderr",
     "output_type": "stream",
     "text": [
      "/tmp/ipykernel_9390/4280631885.py:36: FutureWarning: A value is trying to be set on a copy of a DataFrame or Series through chained assignment using an inplace method.\n",
      "The behavior will change in pandas 3.0. This inplace method will never work because the intermediate object on which we are setting values always behaves as a copy.\n",
      "\n",
      "For example, when doing 'df[col].method(value, inplace=True)', try using 'df.method({col: value}, inplace=True)' or df[col] = df[col].method(value) instead, to perform the operation inplace on the original object.\n",
      "\n",
      "\n",
      "  clothes[\"final_category\"].fillna(clothes[\"product_category\"], inplace=True)\n"
     ]
    }
   ],
   "source": [
    "\n",
    "# Training\n",
    "\n",
    "train_df = clothes[~clothes[\"product_category\"].isin(ambiguous_cats)].copy()\n",
    "predict_df = clothes[clothes[\"product_category\"].isin(ambiguous_cats)].copy()\n",
    "\n",
    "train_df = train_df.dropna(subset=[\"product_category\"])\n",
    "\n",
    "counts = train_df[\"product_category\"].value_counts()\n",
    "valid_cats = counts[counts >= 2].index\n",
    "train_df = train_df[train_df[\"product_category\"].isin(valid_cats)]\n",
    "\n",
    "# Train/test split\n",
    "X_train, X_test, y_train, y_test = train_test_split(\n",
    "    train_df[\"text\"], train_df[\"product_category\"],\n",
    "    test_size=0.2, random_state=42, stratify=train_df[\"product_category\"]\n",
    ")\n",
    "\n",
    "# Build model pipeline\n",
    "model = Pipeline([\n",
    "    (\"tfidf\", TfidfVectorizer(stop_words=\"english\", max_features=20000, ngram_range=(1, 2))),\n",
    "    (\"clf\", LogisticRegression(max_iter=2000, class_weight=\"balanced\"))\n",
    "])\n",
    "\n",
    "# Train model\n",
    "model.fit(X_train, y_train)\n",
    "\n",
    "# evaluation\n",
    "y_pred = model.predict(X_test)\n",
    "print(\"Accuracy:\", accuracy_score(y_test, y_pred))\n",
    "print(classification_report(y_test, y_pred))\n",
    "\n",
    "# Predict categories for ambiguous rows into final_category\n",
    "if not predict_df.empty:\n",
    "    clothes.loc[predict_df.index, \"final_category\"] = model.predict(predict_df[\"text\"])\n",
    "\n",
    "clothes[\"final_category\"].fillna(clothes[\"product_category\"], inplace=True)\n",
    "\n",
    "clothes.to_csv(clothes_path, index=False)\n",
    "\n",
    "print(\"Full CSV updated\")\n"
   ]
  },
  {
   "cell_type": "code",
   "execution_count": 282,
   "metadata": {
    "colab": {
     "base_uri": "https://localhost:8080/",
     "height": 275
    },
    "execution": {
     "iopub.execute_input": "2025-10-29T16:36:28.824355Z",
     "iopub.status.busy": "2025-10-29T16:36:28.822761Z",
     "iopub.status.idle": "2025-10-29T16:36:28.850230Z",
     "shell.execute_reply": "2025-10-29T16:36:28.845419Z",
     "shell.execute_reply.started": "2025-10-29T16:36:28.824278Z"
    },
    "id": "eElB0MO2FyLR",
    "outputId": "100dfb14-3873-495d-fbcb-b0f0496287c5"
   },
   "outputs": [
    {
     "data": {
      "text/html": [
       "<div>\n",
       "<style scoped>\n",
       "    .dataframe tbody tr th:only-of-type {\n",
       "        vertical-align: middle;\n",
       "    }\n",
       "\n",
       "    .dataframe tbody tr th {\n",
       "        vertical-align: top;\n",
       "    }\n",
       "\n",
       "    .dataframe thead th {\n",
       "        text-align: right;\n",
       "    }\n",
       "</style>\n",
       "<table border=\"1\" class=\"dataframe\">\n",
       "  <thead>\n",
       "    <tr style=\"text-align: right;\">\n",
       "      <th></th>\n",
       "      <th>gender</th>\n",
       "      <th>product_category</th>\n",
       "      <th>product_name</th>\n",
       "      <th>details</th>\n",
       "      <th>text</th>\n",
       "      <th>final_category</th>\n",
       "    </tr>\n",
       "  </thead>\n",
       "  <tbody>\n",
       "    <tr>\n",
       "      <th>18</th>\n",
       "      <td>women</td>\n",
       "      <td>SKIRTS</td>\n",
       "      <td>z denim midi skirt</td>\n",
       "      <td>fade highwaist skirt feature fivepocket design...</td>\n",
       "      <td>z denim midi skirt fade highwaist skirt featur...</td>\n",
       "      <td>SKIRTS</td>\n",
       "    </tr>\n",
       "    <tr>\n",
       "      <th>19</th>\n",
       "      <td>women</td>\n",
       "      <td>SKIRTS</td>\n",
       "      <td>faux leather mini skirt chain</td>\n",
       "      <td>highwaist mini skirt lining metal chain link i...</td>\n",
       "      <td>faux leather mini skirt chain highwaist mini s...</td>\n",
       "      <td>SKIRTS</td>\n",
       "    </tr>\n",
       "    <tr>\n",
       "      <th>20</th>\n",
       "      <td>women</td>\n",
       "      <td>SKIRTS</td>\n",
       "      <td>skort pocket</td>\n",
       "      <td>midwaist skort adjustable elasticate waistband...</td>\n",
       "      <td>skort pocket midwaist skort adjustable elastic...</td>\n",
       "      <td>SKIRTS</td>\n",
       "    </tr>\n",
       "    <tr>\n",
       "      <th>21</th>\n",
       "      <td>women</td>\n",
       "      <td>SKIRTS</td>\n",
       "      <td>long satin skirt</td>\n",
       "      <td>long skirt high elastic waist</td>\n",
       "      <td>long satin skirt long skirt high elastic waist</td>\n",
       "      <td>SKIRTS</td>\n",
       "    </tr>\n",
       "    <tr>\n",
       "      <th>22</th>\n",
       "      <td>women</td>\n",
       "      <td>SKIRTS</td>\n",
       "      <td>knot midi skirt</td>\n",
       "      <td>highwaist flow midi skirt knot detail slit hem...</td>\n",
       "      <td>knot midi skirt highwaist flow midi skirt knot...</td>\n",
       "      <td>SKIRTS</td>\n",
       "    </tr>\n",
       "  </tbody>\n",
       "</table>\n",
       "</div>"
      ],
      "text/plain": [
       "   gender product_category                   product_name  \\\n",
       "18  women           SKIRTS             z denim midi skirt   \n",
       "19  women           SKIRTS  faux leather mini skirt chain   \n",
       "20  women           SKIRTS                   skort pocket   \n",
       "21  women           SKIRTS               long satin skirt   \n",
       "22  women           SKIRTS                knot midi skirt   \n",
       "\n",
       "                                              details  \\\n",
       "18  fade highwaist skirt feature fivepocket design...   \n",
       "19  highwaist mini skirt lining metal chain link i...   \n",
       "20  midwaist skort adjustable elasticate waistband...   \n",
       "21                      long skirt high elastic waist   \n",
       "22  highwaist flow midi skirt knot detail slit hem...   \n",
       "\n",
       "                                                 text final_category  \n",
       "18  z denim midi skirt fade highwaist skirt featur...         SKIRTS  \n",
       "19  faux leather mini skirt chain highwaist mini s...         SKIRTS  \n",
       "20  skort pocket midwaist skort adjustable elastic...         SKIRTS  \n",
       "21     long satin skirt long skirt high elastic waist         SKIRTS  \n",
       "22  knot midi skirt highwaist flow midi skirt knot...         SKIRTS  "
      ]
     },
     "execution_count": 282,
     "metadata": {},
     "output_type": "execute_result"
    }
   ],
   "source": [
    "clothes.head()\n"
   ]
  },
  {
   "cell_type": "code",
   "execution_count": 283,
   "metadata": {
    "execution": {
     "iopub.execute_input": "2025-10-29T16:36:28.852930Z",
     "iopub.status.busy": "2025-10-29T16:36:28.852142Z",
     "iopub.status.idle": "2025-10-29T16:36:28.872872Z",
     "shell.execute_reply": "2025-10-29T16:36:28.868768Z",
     "shell.execute_reply.started": "2025-10-29T16:36:28.852846Z"
    },
    "id": "iLVKLcj4It7v"
   },
   "outputs": [],
   "source": [
    "clothes.drop(columns=[\"text\"], inplace=True)\n"
   ]
  },
  {
   "cell_type": "code",
   "execution_count": 284,
   "metadata": {
    "execution": {
     "iopub.execute_input": "2025-10-29T16:36:28.875512Z",
     "iopub.status.busy": "2025-10-29T16:36:28.874963Z",
     "iopub.status.idle": "2025-10-29T16:36:28.922002Z",
     "shell.execute_reply": "2025-10-29T16:36:28.916317Z",
     "shell.execute_reply.started": "2025-10-29T16:36:28.875471Z"
    },
    "id": "XBGz9ujmK2ur"
   },
   "outputs": [],
   "source": [
    "clothes.to_csv(clothes_path, index=False)"
   ]
  },
  {
   "cell_type": "code",
   "execution_count": 285,
   "metadata": {
    "colab": {
     "base_uri": "https://localhost:8080/",
     "height": 206
    },
    "execution": {
     "iopub.execute_input": "2025-10-29T16:36:28.926589Z",
     "iopub.status.busy": "2025-10-29T16:36:28.925717Z",
     "iopub.status.idle": "2025-10-29T16:36:28.966345Z",
     "shell.execute_reply": "2025-10-29T16:36:28.958339Z",
     "shell.execute_reply.started": "2025-10-29T16:36:28.926517Z"
    },
    "id": "MWKG6RSvIujq",
    "outputId": "68d1b7a5-a68d-4ee3-e0ca-be2ca3aa2ea6"
   },
   "outputs": [
    {
     "data": {
      "text/html": [
       "<div>\n",
       "<style scoped>\n",
       "    .dataframe tbody tr th:only-of-type {\n",
       "        vertical-align: middle;\n",
       "    }\n",
       "\n",
       "    .dataframe tbody tr th {\n",
       "        vertical-align: top;\n",
       "    }\n",
       "\n",
       "    .dataframe thead th {\n",
       "        text-align: right;\n",
       "    }\n",
       "</style>\n",
       "<table border=\"1\" class=\"dataframe\">\n",
       "  <thead>\n",
       "    <tr style=\"text-align: right;\">\n",
       "      <th></th>\n",
       "      <th>gender</th>\n",
       "      <th>product_category</th>\n",
       "      <th>product_name</th>\n",
       "      <th>details</th>\n",
       "      <th>final_category</th>\n",
       "    </tr>\n",
       "  </thead>\n",
       "  <tbody>\n",
       "    <tr>\n",
       "      <th>18</th>\n",
       "      <td>women</td>\n",
       "      <td>SKIRTS</td>\n",
       "      <td>z denim midi skirt</td>\n",
       "      <td>fade highwaist skirt feature fivepocket design...</td>\n",
       "      <td>SKIRTS</td>\n",
       "    </tr>\n",
       "    <tr>\n",
       "      <th>19</th>\n",
       "      <td>women</td>\n",
       "      <td>SKIRTS</td>\n",
       "      <td>faux leather mini skirt chain</td>\n",
       "      <td>highwaist mini skirt lining metal chain link i...</td>\n",
       "      <td>SKIRTS</td>\n",
       "    </tr>\n",
       "    <tr>\n",
       "      <th>20</th>\n",
       "      <td>women</td>\n",
       "      <td>SKIRTS</td>\n",
       "      <td>skort pocket</td>\n",
       "      <td>midwaist skort adjustable elasticate waistband...</td>\n",
       "      <td>SKIRTS</td>\n",
       "    </tr>\n",
       "    <tr>\n",
       "      <th>21</th>\n",
       "      <td>women</td>\n",
       "      <td>SKIRTS</td>\n",
       "      <td>long satin skirt</td>\n",
       "      <td>long skirt high elastic waist</td>\n",
       "      <td>SKIRTS</td>\n",
       "    </tr>\n",
       "    <tr>\n",
       "      <th>22</th>\n",
       "      <td>women</td>\n",
       "      <td>SKIRTS</td>\n",
       "      <td>knot midi skirt</td>\n",
       "      <td>highwaist flow midi skirt knot detail slit hem...</td>\n",
       "      <td>SKIRTS</td>\n",
       "    </tr>\n",
       "  </tbody>\n",
       "</table>\n",
       "</div>"
      ],
      "text/plain": [
       "   gender product_category                   product_name  \\\n",
       "18  women           SKIRTS             z denim midi skirt   \n",
       "19  women           SKIRTS  faux leather mini skirt chain   \n",
       "20  women           SKIRTS                   skort pocket   \n",
       "21  women           SKIRTS               long satin skirt   \n",
       "22  women           SKIRTS                knot midi skirt   \n",
       "\n",
       "                                              details final_category  \n",
       "18  fade highwaist skirt feature fivepocket design...         SKIRTS  \n",
       "19  highwaist mini skirt lining metal chain link i...         SKIRTS  \n",
       "20  midwaist skort adjustable elasticate waistband...         SKIRTS  \n",
       "21                      long skirt high elastic waist         SKIRTS  \n",
       "22  highwaist flow midi skirt knot detail slit hem...         SKIRTS  "
      ]
     },
     "execution_count": 285,
     "metadata": {},
     "output_type": "execute_result"
    }
   ],
   "source": [
    "clothes.head()"
   ]
  },
  {
   "cell_type": "code",
   "execution_count": 286,
   "metadata": {
    "execution": {
     "iopub.execute_input": "2025-10-29T16:36:28.972249Z",
     "iopub.status.busy": "2025-10-29T16:36:28.970321Z",
     "iopub.status.idle": "2025-10-29T16:36:29.002716Z",
     "shell.execute_reply": "2025-10-29T16:36:28.995727Z",
     "shell.execute_reply.started": "2025-10-29T16:36:28.972162Z"
    },
    "id": "8hn7jfnDOG_K"
   },
   "outputs": [],
   "source": [
    "clothes.loc[clothes[\"product_category\"].isin(ambiguous_cats), \"product_category\"] = clothes[\"final_category\"]\n",
    "\n",
    "clothes.drop(columns=[\"final_category\"], inplace=True)\n"
   ]
  },
  {
   "cell_type": "code",
   "execution_count": 287,
   "metadata": {
    "colab": {
     "base_uri": "https://localhost:8080/",
     "height": 206
    },
    "execution": {
     "iopub.execute_input": "2025-10-29T16:36:29.006942Z",
     "iopub.status.busy": "2025-10-29T16:36:29.005687Z",
     "iopub.status.idle": "2025-10-29T16:36:29.038590Z",
     "shell.execute_reply": "2025-10-29T16:36:29.031007Z",
     "shell.execute_reply.started": "2025-10-29T16:36:29.006872Z"
    },
    "id": "IqZe9-fjOTsl",
    "outputId": "f03765c4-7507-4f17-9687-b4d52c5d08cb"
   },
   "outputs": [
    {
     "data": {
      "text/html": [
       "<div>\n",
       "<style scoped>\n",
       "    .dataframe tbody tr th:only-of-type {\n",
       "        vertical-align: middle;\n",
       "    }\n",
       "\n",
       "    .dataframe tbody tr th {\n",
       "        vertical-align: top;\n",
       "    }\n",
       "\n",
       "    .dataframe thead th {\n",
       "        text-align: right;\n",
       "    }\n",
       "</style>\n",
       "<table border=\"1\" class=\"dataframe\">\n",
       "  <thead>\n",
       "    <tr style=\"text-align: right;\">\n",
       "      <th></th>\n",
       "      <th>gender</th>\n",
       "      <th>product_category</th>\n",
       "      <th>product_name</th>\n",
       "      <th>details</th>\n",
       "    </tr>\n",
       "  </thead>\n",
       "  <tbody>\n",
       "    <tr>\n",
       "      <th>18</th>\n",
       "      <td>women</td>\n",
       "      <td>SKIRTS</td>\n",
       "      <td>z denim midi skirt</td>\n",
       "      <td>fade highwaist skirt feature fivepocket design...</td>\n",
       "    </tr>\n",
       "    <tr>\n",
       "      <th>19</th>\n",
       "      <td>women</td>\n",
       "      <td>SKIRTS</td>\n",
       "      <td>faux leather mini skirt chain</td>\n",
       "      <td>highwaist mini skirt lining metal chain link i...</td>\n",
       "    </tr>\n",
       "    <tr>\n",
       "      <th>20</th>\n",
       "      <td>women</td>\n",
       "      <td>SKIRTS</td>\n",
       "      <td>skort pocket</td>\n",
       "      <td>midwaist skort adjustable elasticate waistband...</td>\n",
       "    </tr>\n",
       "    <tr>\n",
       "      <th>21</th>\n",
       "      <td>women</td>\n",
       "      <td>SKIRTS</td>\n",
       "      <td>long satin skirt</td>\n",
       "      <td>long skirt high elastic waist</td>\n",
       "    </tr>\n",
       "    <tr>\n",
       "      <th>22</th>\n",
       "      <td>women</td>\n",
       "      <td>SKIRTS</td>\n",
       "      <td>knot midi skirt</td>\n",
       "      <td>highwaist flow midi skirt knot detail slit hem...</td>\n",
       "    </tr>\n",
       "  </tbody>\n",
       "</table>\n",
       "</div>"
      ],
      "text/plain": [
       "   gender product_category                   product_name  \\\n",
       "18  women           SKIRTS             z denim midi skirt   \n",
       "19  women           SKIRTS  faux leather mini skirt chain   \n",
       "20  women           SKIRTS                   skort pocket   \n",
       "21  women           SKIRTS               long satin skirt   \n",
       "22  women           SKIRTS                knot midi skirt   \n",
       "\n",
       "                                              details  \n",
       "18  fade highwaist skirt feature fivepocket design...  \n",
       "19  highwaist mini skirt lining metal chain link i...  \n",
       "20  midwaist skort adjustable elasticate waistband...  \n",
       "21                      long skirt high elastic waist  \n",
       "22  highwaist flow midi skirt knot detail slit hem...  "
      ]
     },
     "execution_count": 287,
     "metadata": {},
     "output_type": "execute_result"
    }
   ],
   "source": [
    "clothes.head()"
   ]
  },
  {
   "cell_type": "code",
   "execution_count": 288,
   "metadata": {
    "colab": {
     "base_uri": "https://localhost:8080/"
    },
    "execution": {
     "iopub.execute_input": "2025-10-29T16:36:29.045821Z",
     "iopub.status.busy": "2025-10-29T16:36:29.044039Z",
     "iopub.status.idle": "2025-10-29T16:36:29.068172Z",
     "shell.execute_reply": "2025-10-29T16:36:29.056990Z",
     "shell.execute_reply.started": "2025-10-29T16:36:29.045674Z"
    },
    "id": "RqxLIP4BOaYJ",
    "outputId": "c0810622-5ce8-4aa1-a3f3-f3d5705cbfe4"
   },
   "outputs": [
    {
     "name": "stdout",
     "output_type": "stream",
     "text": [
      "(3633, 4)\n"
     ]
    }
   ],
   "source": [
    "\n",
    "print(clothes.shape)\n"
   ]
  },
  {
   "cell_type": "code",
   "execution_count": 289,
   "metadata": {
    "execution": {
     "iopub.execute_input": "2025-10-29T16:36:29.074180Z",
     "iopub.status.busy": "2025-10-29T16:36:29.073354Z",
     "iopub.status.idle": "2025-10-29T16:36:29.131612Z",
     "shell.execute_reply": "2025-10-29T16:36:29.125930Z",
     "shell.execute_reply.started": "2025-10-29T16:36:29.074120Z"
    },
    "id": "ph4pxsRaIunb"
   },
   "outputs": [
    {
     "name": "stdout",
     "output_type": "stream",
     "text": [
      "          product_category category_type\n",
      "18                  SKIRTS        Bottom\n",
      "77                  SHIRTS           Top\n",
      "82                   JEANS        Bottom\n",
      "84      SWEATERS_CARDIGANS           Top\n",
      "88                TROUSERS        Bottom\n",
      "89       WAISTCOATS_GILETS           Top\n",
      "90                 BLAZERS           Top\n",
      "94           SHORTS_SKORTS        Bottom\n",
      "96                 JACKETS           Top\n",
      "211      DRESSES_JUMPSUITS         Other\n",
      "961         TOPS_BODYSUITS           Top\n",
      "1069  T-SHIRTS_SWEATSHIRTS           Top\n",
      "1409           ACCESSORIES   Accessories\n",
      "1421                 SHOES         Shoes\n",
      "1440              T-SHIRTS           Top\n",
      "2064   HOODIES_SWEATSHIRTS           Top\n",
      "2075                SHORTS        Bottom\n",
      "2724            OVERSHIRTS           Top\n",
      "2749           POLO SHIRTS           Top\n",
      "2796                 SUITS         Other\n",
      "3014              SWIMWEAR         Other\n"
     ]
    }
   ],
   "source": [
    "\n",
    "tops = [\n",
    "    \"T-SHIRTS\", \"SHIRTS\", \"BLAZERS\", \"JACKETS\", \"OVERSHIRTS\",\n",
    "    \"T-SHIRTS_SWEATSHIRTS\", \"HOODIES_SWEATSHIRTS\", \"POLO SHIRTS\",\n",
    "    \"SWEATERS_CARDIGANS\", \"WAISTCOATS_GILETS\", \"KNITWEAR\", \"TOPS_BODYSUITS\"\n",
    "]\n",
    "\n",
    "bottoms = [\n",
    "    \"TROUSERS\", \"JEANS\", \"SHORTS\", \"SKIRTS\", \"SHORTS_SKORTS\"\n",
    "]\n",
    "\n",
    "shoes = [\"SHOES\"]\n",
    "\n",
    "accessories = [\"ACCESSORIES\"]\n",
    "\n",
    "\n",
    "def assign_category_type(cat):\n",
    "    if cat in tops:\n",
    "        return \"Top\"\n",
    "    elif cat in bottoms:\n",
    "        return \"Bottom\"\n",
    "    elif cat in shoes:\n",
    "        return \"Shoes\"\n",
    "    elif cat in accessories:\n",
    "        return \"Accessories\"\n",
    "    else:\n",
    "        return \"Other\"\n",
    "\n",
    "\n",
    "clothes[\"category_type\"] = clothes[\"product_category\"].apply(assign_category_type)\n",
    "print(clothes[[\"product_category\", \"category_type\"]].drop_duplicates())\n"
   ]
  },
  {
   "cell_type": "code",
   "execution_count": 290,
   "metadata": {
    "execution": {
     "iopub.execute_input": "2025-10-29T16:36:29.134670Z",
     "iopub.status.busy": "2025-10-29T16:36:29.133932Z",
     "iopub.status.idle": "2025-10-29T16:36:29.183374Z",
     "shell.execute_reply": "2025-10-29T16:36:29.176752Z",
     "shell.execute_reply.started": "2025-10-29T16:36:29.134612Z"
    }
   },
   "outputs": [
    {
     "data": {
      "text/html": [
       "<div>\n",
       "<style scoped>\n",
       "    .dataframe tbody tr th:only-of-type {\n",
       "        vertical-align: middle;\n",
       "    }\n",
       "\n",
       "    .dataframe tbody tr th {\n",
       "        vertical-align: top;\n",
       "    }\n",
       "\n",
       "    .dataframe thead th {\n",
       "        text-align: right;\n",
       "    }\n",
       "</style>\n",
       "<table border=\"1\" class=\"dataframe\">\n",
       "  <thead>\n",
       "    <tr style=\"text-align: right;\">\n",
       "      <th></th>\n",
       "      <th>gender</th>\n",
       "      <th>product_category</th>\n",
       "      <th>product_name</th>\n",
       "      <th>details</th>\n",
       "      <th>category_type</th>\n",
       "    </tr>\n",
       "  </thead>\n",
       "  <tbody>\n",
       "    <tr>\n",
       "      <th>18</th>\n",
       "      <td>women</td>\n",
       "      <td>SKIRTS</td>\n",
       "      <td>z denim midi skirt</td>\n",
       "      <td>fade highwaist skirt feature fivepocket design...</td>\n",
       "      <td>Bottom</td>\n",
       "    </tr>\n",
       "    <tr>\n",
       "      <th>19</th>\n",
       "      <td>women</td>\n",
       "      <td>SKIRTS</td>\n",
       "      <td>faux leather mini skirt chain</td>\n",
       "      <td>highwaist mini skirt lining metal chain link i...</td>\n",
       "      <td>Bottom</td>\n",
       "    </tr>\n",
       "    <tr>\n",
       "      <th>20</th>\n",
       "      <td>women</td>\n",
       "      <td>SKIRTS</td>\n",
       "      <td>skort pocket</td>\n",
       "      <td>midwaist skort adjustable elasticate waistband...</td>\n",
       "      <td>Bottom</td>\n",
       "    </tr>\n",
       "    <tr>\n",
       "      <th>21</th>\n",
       "      <td>women</td>\n",
       "      <td>SKIRTS</td>\n",
       "      <td>long satin skirt</td>\n",
       "      <td>long skirt high elastic waist</td>\n",
       "      <td>Bottom</td>\n",
       "    </tr>\n",
       "    <tr>\n",
       "      <th>22</th>\n",
       "      <td>women</td>\n",
       "      <td>SKIRTS</td>\n",
       "      <td>knot midi skirt</td>\n",
       "      <td>highwaist flow midi skirt knot detail slit hem...</td>\n",
       "      <td>Bottom</td>\n",
       "    </tr>\n",
       "  </tbody>\n",
       "</table>\n",
       "</div>"
      ],
      "text/plain": [
       "   gender product_category                   product_name  \\\n",
       "18  women           SKIRTS             z denim midi skirt   \n",
       "19  women           SKIRTS  faux leather mini skirt chain   \n",
       "20  women           SKIRTS                   skort pocket   \n",
       "21  women           SKIRTS               long satin skirt   \n",
       "22  women           SKIRTS                knot midi skirt   \n",
       "\n",
       "                                              details category_type  \n",
       "18  fade highwaist skirt feature fivepocket design...        Bottom  \n",
       "19  highwaist mini skirt lining metal chain link i...        Bottom  \n",
       "20  midwaist skort adjustable elasticate waistband...        Bottom  \n",
       "21                      long skirt high elastic waist        Bottom  \n",
       "22  highwaist flow midi skirt knot detail slit hem...        Bottom  "
      ]
     },
     "execution_count": 290,
     "metadata": {},
     "output_type": "execute_result"
    }
   ],
   "source": [
    "clothes.head()"
   ]
  },
  {
   "cell_type": "code",
   "execution_count": null,
   "metadata": {},
   "outputs": [],
   "source": []
  },
  {
   "cell_type": "code",
   "execution_count": 291,
   "metadata": {
    "execution": {
     "iopub.execute_input": "2025-10-29T16:36:29.188098Z",
     "iopub.status.busy": "2025-10-29T16:36:29.187149Z",
     "iopub.status.idle": "2025-10-29T16:36:29.884195Z",
     "shell.execute_reply": "2025-10-29T16:36:29.879673Z",
     "shell.execute_reply.started": "2025-10-29T16:36:29.188026Z"
    }
   },
   "outputs": [
    {
     "data": {
      "text/html": [
       "<div>\n",
       "<style scoped>\n",
       "    .dataframe tbody tr th:only-of-type {\n",
       "        vertical-align: middle;\n",
       "    }\n",
       "\n",
       "    .dataframe tbody tr th {\n",
       "        vertical-align: top;\n",
       "    }\n",
       "\n",
       "    .dataframe thead th {\n",
       "        text-align: right;\n",
       "    }\n",
       "</style>\n",
       "<table border=\"1\" class=\"dataframe\">\n",
       "  <thead>\n",
       "    <tr style=\"text-align: right;\">\n",
       "      <th></th>\n",
       "      <th>gender</th>\n",
       "      <th>product_category</th>\n",
       "      <th>product_name</th>\n",
       "      <th>details</th>\n",
       "      <th>category_type</th>\n",
       "      <th>material_feature</th>\n",
       "      <th>weather_feature</th>\n",
       "      <th>coverage_feature</th>\n",
       "    </tr>\n",
       "  </thead>\n",
       "  <tbody>\n",
       "    <tr>\n",
       "      <th>18</th>\n",
       "      <td>women</td>\n",
       "      <td>SKIRTS</td>\n",
       "      <td>z denim midi skirt</td>\n",
       "      <td>fade highwaist skirt feature fivepocket design...</td>\n",
       "      <td>Bottom</td>\n",
       "      <td>denim</td>\n",
       "      <td>other</td>\n",
       "      <td>other</td>\n",
       "    </tr>\n",
       "    <tr>\n",
       "      <th>19</th>\n",
       "      <td>women</td>\n",
       "      <td>SKIRTS</td>\n",
       "      <td>faux leather mini skirt chain</td>\n",
       "      <td>highwaist mini skirt lining metal chain link i...</td>\n",
       "      <td>Bottom</td>\n",
       "      <td>leather</td>\n",
       "      <td>other</td>\n",
       "      <td>short</td>\n",
       "    </tr>\n",
       "    <tr>\n",
       "      <th>20</th>\n",
       "      <td>women</td>\n",
       "      <td>SKIRTS</td>\n",
       "      <td>skort pocket</td>\n",
       "      <td>midwaist skort adjustable elasticate waistband...</td>\n",
       "      <td>Bottom</td>\n",
       "      <td>other</td>\n",
       "      <td>other</td>\n",
       "      <td>other</td>\n",
       "    </tr>\n",
       "    <tr>\n",
       "      <th>21</th>\n",
       "      <td>women</td>\n",
       "      <td>SKIRTS</td>\n",
       "      <td>long satin skirt</td>\n",
       "      <td>long skirt high elastic waist</td>\n",
       "      <td>Bottom</td>\n",
       "      <td>other</td>\n",
       "      <td>other</td>\n",
       "      <td>long</td>\n",
       "    </tr>\n",
       "    <tr>\n",
       "      <th>22</th>\n",
       "      <td>women</td>\n",
       "      <td>SKIRTS</td>\n",
       "      <td>knot midi skirt</td>\n",
       "      <td>highwaist flow midi skirt knot detail slit hem...</td>\n",
       "      <td>Bottom</td>\n",
       "      <td>other</td>\n",
       "      <td>other</td>\n",
       "      <td>other</td>\n",
       "    </tr>\n",
       "  </tbody>\n",
       "</table>\n",
       "</div>"
      ],
      "text/plain": [
       "   gender product_category                   product_name  \\\n",
       "18  women           SKIRTS             z denim midi skirt   \n",
       "19  women           SKIRTS  faux leather mini skirt chain   \n",
       "20  women           SKIRTS                   skort pocket   \n",
       "21  women           SKIRTS               long satin skirt   \n",
       "22  women           SKIRTS                knot midi skirt   \n",
       "\n",
       "                                              details category_type  \\\n",
       "18  fade highwaist skirt feature fivepocket design...        Bottom   \n",
       "19  highwaist mini skirt lining metal chain link i...        Bottom   \n",
       "20  midwaist skort adjustable elasticate waistband...        Bottom   \n",
       "21                      long skirt high elastic waist        Bottom   \n",
       "22  highwaist flow midi skirt knot detail slit hem...        Bottom   \n",
       "\n",
       "   material_feature weather_feature coverage_feature  \n",
       "18            denim           other            other  \n",
       "19          leather           other            short  \n",
       "20            other           other            other  \n",
       "21            other           other             long  \n",
       "22            other           other            other  "
      ]
     },
     "execution_count": 291,
     "metadata": {},
     "output_type": "execute_result"
    }
   ],
   "source": [
    "import pandas as pd\n",
    "import numpy as np\n",
    "import re\n",
    "\n",
    "# --- Material and category mappings ---\n",
    "material_mapping = [\n",
    "    \"acetate\", \"alpaca\", \"cotton\", \"cashmere\", \"denim\", \"gabardine\", \"gabardinestyle\", \"gabardinetype\",\n",
    "    \"leather\", \"linen\", \"lyocell\", \"liocell\", \"modal\", \"neoprene\", \"organza\", \"polyester\", \"polyamide\",\n",
    "    \"polyurethane\", \"ramie\", \"silk\", \"suede\", \"velvet\", \"viscose\", \"wool\", \"jute\", \"juteline\"\n",
    "]\n",
    "\n",
    "weather_mapping = {\n",
    "    \"breathable\": [\"breathable\", \"breathability\", \"frontbreathableantiodour\"],\n",
    "    \"absorbent\": [\"absorbent\", \"absorption\"],\n",
    "    \"waterproof\": [\"water\", \"waterrepellent\"],\n",
    "    \"windproof\": [\"wind\", \"windbreaker\"],\n",
    "    \"insulation\": [\"thermal\", \"thermos\", \"thermoseale\", \"insulation\", \"insulate\"],\n",
    "    \"light\": [\"lightweight\", \"lightness\", \"lightly\"],\n",
    "    \"outerwear\": [\"anorak\", \"bomber\", \"hoodie\", \"raincoat\", \"trench\", \"puffer\", \"puffy\"],\n",
    "    \"knitwear\": [\"sweater\", \"sweatshirt\", \"cardigan\", \"knit\", \"pullover\"],\n",
    "    \"other_weather\": []\n",
    "}\n",
    "\n",
    "coverage_mapping = {\n",
    "    \"short\": [\"short\", \"shortsstyle\", \"sleeveless\", \"sleevelessfitte\", \"mini\"],\n",
    "    \"long\": [\"long\", \"longline\", \"longleg\"],\n",
    "    \"other_coverage\": []\n",
    "}\n",
    "\n",
    "# --- Feature extraction functions ---\n",
    "def extract_materials(text, materials):\n",
    "    if pd.isna(text):\n",
    "        return np.nan\n",
    "    text = str(text).lower()\n",
    "    found = [mat for mat in materials if re.search(rf\"\\b{mat}\\b\", text)]\n",
    "    return \", \".join(found) if found else \"other\"\n",
    "\n",
    "def extract_main_category(text, mapping):\n",
    "    if pd.isna(text):\n",
    "        return np.nan\n",
    "    text = str(text).lower()\n",
    "    for category, keywords in mapping.items():\n",
    "        if any(keyword in text for keyword in keywords):\n",
    "            return category\n",
    "    return \"other\"\n",
    "\n",
    "# --- Create a copy of the original dataframe ---\n",
    "clothes_features = clothes.copy()\n",
    "\n",
    "# --- Combine text columns ---\n",
    "clothes_features[\"combined_text\"] = clothes_features[\"product_name\"].fillna(\"\") + \" \" + clothes_features[\"details\"].fillna(\"\")\n",
    "\n",
    "# --- Extract features ---\n",
    "clothes_features[\"material_feature\"] = clothes_features[\"combined_text\"].apply(lambda x: extract_materials(x, material_mapping))\n",
    "clothes_features[\"weather_feature\"] = clothes_features[\"combined_text\"].apply(lambda x: extract_main_category(x, weather_mapping))\n",
    "clothes_features[\"coverage_feature\"] = clothes_features[\"combined_text\"].apply(lambda x: extract_main_category(x, coverage_mapping))\n",
    "\n",
    "# --- Drop the temporary combined_text column ---\n",
    "clothes_features = clothes_features.drop(columns=[\"combined_text\"])\n",
    "\n",
    "# --- Save to CSV ---\n",
    "clothes_features.to_csv(\"clothes_features.csv\", index=False)\n",
    "\n",
    "clothes_features.head()\n"
   ]
  },
  {
   "cell_type": "code",
   "execution_count": 292,
   "metadata": {
    "execution": {
     "iopub.execute_input": "2025-10-29T16:36:29.887522Z",
     "iopub.status.busy": "2025-10-29T16:36:29.887080Z",
     "iopub.status.idle": "2025-10-29T16:36:29.930256Z",
     "shell.execute_reply": "2025-10-29T16:36:29.924788Z",
     "shell.execute_reply.started": "2025-10-29T16:36:29.887487Z"
    }
   },
   "outputs": [],
   "source": [
    "clothes_features.to_csv(\"clothes_features.csv\", index=False)"
   ]
  },
  {
   "cell_type": "code",
   "execution_count": null,
   "metadata": {},
   "outputs": [],
   "source": []
  },
  {
   "cell_type": "code",
   "execution_count": 293,
   "metadata": {
    "execution": {
     "iopub.execute_input": "2025-10-29T16:36:29.933458Z",
     "iopub.status.busy": "2025-10-29T16:36:29.932641Z",
     "iopub.status.idle": "2025-10-29T16:36:29.990722Z",
     "shell.execute_reply": "2025-10-29T16:36:29.986268Z",
     "shell.execute_reply.started": "2025-10-29T16:36:29.933398Z"
    }
   },
   "outputs": [
    {
     "data": {
      "text/html": [
       "<div>\n",
       "<style scoped>\n",
       "    .dataframe tbody tr th:only-of-type {\n",
       "        vertical-align: middle;\n",
       "    }\n",
       "\n",
       "    .dataframe tbody tr th {\n",
       "        vertical-align: top;\n",
       "    }\n",
       "\n",
       "    .dataframe thead th {\n",
       "        text-align: right;\n",
       "    }\n",
       "</style>\n",
       "<table border=\"1\" class=\"dataframe\">\n",
       "  <thead>\n",
       "    <tr style=\"text-align: right;\">\n",
       "      <th></th>\n",
       "      <th>gender</th>\n",
       "      <th>product_category</th>\n",
       "      <th>product_name</th>\n",
       "      <th>details</th>\n",
       "      <th>category_type</th>\n",
       "      <th>material_feature</th>\n",
       "      <th>weather_feature</th>\n",
       "      <th>coverage_feature</th>\n",
       "    </tr>\n",
       "  </thead>\n",
       "  <tbody>\n",
       "    <tr>\n",
       "      <th>77</th>\n",
       "      <td>women</td>\n",
       "      <td>SHIRTS</td>\n",
       "      <td>poplin shirt</td>\n",
       "      <td>collar vneck shirt long sleeve buttonup</td>\n",
       "      <td>Top</td>\n",
       "      <td>other</td>\n",
       "      <td>other</td>\n",
       "      <td>long</td>\n",
       "    </tr>\n",
       "    <tr>\n",
       "      <th>78</th>\n",
       "      <td>women</td>\n",
       "      <td>SHIRTS</td>\n",
       "      <td>poplin shirt</td>\n",
       "      <td>shirt johnny collar long sleeve buttonup</td>\n",
       "      <td>Top</td>\n",
       "      <td>other</td>\n",
       "      <td>other</td>\n",
       "      <td>long</td>\n",
       "    </tr>\n",
       "    <tr>\n",
       "      <th>79</th>\n",
       "      <td>women</td>\n",
       "      <td>SHIRTS</td>\n",
       "      <td>cotton blend oxford shirt</td>\n",
       "      <td>shirt cotton blend johnny collar long sleeve a...</td>\n",
       "      <td>Top</td>\n",
       "      <td>cotton</td>\n",
       "      <td>other</td>\n",
       "      <td>long</td>\n",
       "    </tr>\n",
       "    <tr>\n",
       "      <th>80</th>\n",
       "      <td>women</td>\n",
       "      <td>SHIRTS</td>\n",
       "      <td>oxford shirt</td>\n",
       "      <td>shirt cotton blend johnny collar long sleeve b...</td>\n",
       "      <td>Top</td>\n",
       "      <td>cotton</td>\n",
       "      <td>other</td>\n",
       "      <td>long</td>\n",
       "    </tr>\n",
       "    <tr>\n",
       "      <th>81</th>\n",
       "      <td>women</td>\n",
       "      <td>SHIRTS</td>\n",
       "      <td>stripe oversize shirt</td>\n",
       "      <td>loosefitte shirt feature johnny collar long sl...</td>\n",
       "      <td>Top</td>\n",
       "      <td>other</td>\n",
       "      <td>other</td>\n",
       "      <td>long</td>\n",
       "    </tr>\n",
       "  </tbody>\n",
       "</table>\n",
       "</div>"
      ],
      "text/plain": [
       "   gender product_category               product_name  \\\n",
       "77  women           SHIRTS               poplin shirt   \n",
       "78  women           SHIRTS               poplin shirt   \n",
       "79  women           SHIRTS  cotton blend oxford shirt   \n",
       "80  women           SHIRTS               oxford shirt   \n",
       "81  women           SHIRTS      stripe oversize shirt   \n",
       "\n",
       "                                              details category_type  \\\n",
       "77            collar vneck shirt long sleeve buttonup           Top   \n",
       "78           shirt johnny collar long sleeve buttonup           Top   \n",
       "79  shirt cotton blend johnny collar long sleeve a...           Top   \n",
       "80  shirt cotton blend johnny collar long sleeve b...           Top   \n",
       "81  loosefitte shirt feature johnny collar long sl...           Top   \n",
       "\n",
       "   material_feature weather_feature coverage_feature  \n",
       "77            other           other             long  \n",
       "78            other           other             long  \n",
       "79           cotton           other             long  \n",
       "80           cotton           other             long  \n",
       "81            other           other             long  "
      ]
     },
     "execution_count": 293,
     "metadata": {},
     "output_type": "execute_result"
    }
   ],
   "source": [
    "# SELECT PARTICULAR CATEGORIES\n",
    "\n",
    "\n",
    "for cat in clothes[\"category_type\"].unique():\n",
    "    var_name = cat.replace(\" \", \"_\").lower() + \"_df\"\n",
    "    globals()[var_name] = clothes_features[clothes[\"category_type\"] == cat].copy()\n",
    "\n",
    "\n",
    "top_df.head()"
   ]
  },
  {
   "cell_type": "code",
   "execution_count": null,
   "metadata": {},
   "outputs": [],
   "source": []
  },
  {
   "cell_type": "markdown",
   "metadata": {},
   "source": [
    "# Additional feature engineering?"
   ]
  },
  {
   "cell_type": "code",
   "execution_count": null,
   "metadata": {},
   "outputs": [],
   "source": []
  },
  {
   "cell_type": "code",
   "execution_count": null,
   "metadata": {},
   "outputs": [],
   "source": []
  },
  {
   "cell_type": "code",
   "execution_count": 294,
   "metadata": {
    "execution": {
     "iopub.execute_input": "2025-10-29T16:36:29.993834Z",
     "iopub.status.busy": "2025-10-29T16:36:29.992988Z",
     "iopub.status.idle": "2025-10-29T16:36:30.019355Z",
     "shell.execute_reply": "2025-10-29T16:36:30.012848Z",
     "shell.execute_reply.started": "2025-10-29T16:36:29.993770Z"
    }
   },
   "outputs": [],
   "source": [
    "#IGNORE\n",
    "\n",
    "weather_element_mapping = {\n",
    "    \"breathable\": \"hot\",\n",
    "    \"absorbent\": \"hot\",\n",
    "    \"waterproof\": \"rainy\",\n",
    "    \"windproof\": \"windy\",\n",
    "    \"insulation\": \"cold\",\n",
    "    \"light\": \"hot\",\n",
    "    \"stretchy\": \"neutral\",\n",
    "    \"outerwear\": \"cold\",\n",
    "    \"knitwear\": \"cold\"\n",
    "}\n",
    "\n",
    "\n",
    "material_mapping = {\n",
    "    \"cotton\": \"hot\",\n",
    "    \"linen\": \"hot\",\n",
    "    \"silk\": \"hot\",\n",
    "    \"acetate\": \"hot\",\n",
    "    \"jute\": \"hot\",\n",
    "    \"wool\": \"cold\",\n",
    "    \"alpaca\": \"cold\",\n",
    "    \"cashmere\": \"cold\",\n",
    "    \"suede\": \"cold\",\n",
    "    \"leather\": \"cold\",\n",
    "    \"velvet\": \"cold\",\n",
    "    \"denim\": \"neutral\",\n",
    "    \"gabardine\": \"neutral\",\n",
    "    \"gabardinestyle\": \"neutral\",\n",
    "    \"gabardinetype\": \"neutral\",\n",
    "    \"lyocell\": \"hot\",\n",
    "    \"liocell\": \"hot\",\n",
    "    \"modal\": \"hot\",\n",
    "    \"neoprene\": \"cold\",\n",
    "    \"organza\": \"hot\",\n",
    "    \"polyester\": \"neutral\",\n",
    "    \"polyamide\": \"neutral\",\n",
    "    \"polyurethane\": \"cold\",\n",
    "    \"ramie\": \"hot\",\n",
    "    \"viscose\": \"hot\",\n",
    "    \"juteline\": \"hot\"\n",
    "}\n",
    "\n",
    "\n",
    "coverage_mapping = {\n",
    "    \"short\": \"hot\",\n",
    "    \"long\": \"cold\"\n",
    "}"
   ]
  }
 ],
 "metadata": {
  "colab": {
   "provenance": []
  },
  "kernelspec": {
   "display_name": "Python 3 (ipykernel)",
   "language": "python",
   "name": "python3"
  },
  "language_info": {
   "codemirror_mode": {
    "name": "ipython",
    "version": 3
   },
   "file_extension": ".py",
   "mimetype": "text/x-python",
   "name": "python",
   "nbconvert_exporter": "python",
   "pygments_lexer": "ipython3",
   "version": "3.10.6"
  }
 },
 "nbformat": 4,
 "nbformat_minor": 4
}
