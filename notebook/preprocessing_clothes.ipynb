{
 "cells": [
  {
   "cell_type": "markdown",
   "metadata": {
    "id": "35qrcNRZZobW"
   },
   "source": [
    "**Merge datasets**"
   ]
  },
  {
   "cell_type": "code",
   "execution_count": 32,
   "metadata": {
    "colab": {
     "base_uri": "https://localhost:8080/"
    },
    "execution": {
     "iopub.execute_input": "2025-10-28T17:11:31.851814Z",
     "iopub.status.busy": "2025-10-28T17:11:31.850425Z",
     "iopub.status.idle": "2025-10-28T17:11:32.169501Z",
     "shell.execute_reply": "2025-10-28T17:11:32.167435Z",
     "shell.execute_reply.started": "2025-10-28T17:11:31.851766Z"
    },
    "id": "ltCbZI4QfbOT",
    "outputId": "49a751fc-9e94-4f5f-b44e-933494393148"
   },
   "outputs": [
    {
     "name": "stdout",
     "output_type": "stream",
     "text": [
      "✅ Merged all datasets into '/home/kloor/code/pawarsp/what-to-wear-today/raw_data/clothes.csv' with 4185 rows and 8 columns.\n"
     ]
    }
   ],
   "source": [
    "import os\n",
    "import pandas as pd\n",
    "from glob import glob\n",
    "\n",
    "def merge_all_csvs(base_path, save_path):\n",
    "    all_dfs = []\n",
    "\n",
    "    for gender in [\"Women\", \"Men\"]:\n",
    "        folder_path = os.path.join(base_path, gender)\n",
    "        csv_files = glob(os.path.join(folder_path, \"*.csv\")) + glob(os.path.join(folder_path, \"*.CSV\"))\n",
    "\n",
    "        for file in csv_files:\n",
    "            df = pd.read_csv(file)\n",
    "            # Standardize columns\n",
    "            df.columns = [col.strip().lower().replace(\" \", \"_\") for col in df.columns]\n",
    "            df.columns = [\"product_images\" if c in [\"product_image\", \"product_images\"] else c for c in df.columns]\n",
    "\n",
    "            # Add gender and category\n",
    "            df[\"gender\"] = gender.lower()\n",
    "            df[\"product_category\"] = os.path.splitext(os.path.basename(file))[0]\n",
    "\n",
    "            all_dfs.append(df)\n",
    "\n",
    "    # Concatenate all and save\n",
    "    if all_dfs:\n",
    "        clothes = pd.concat(all_dfs, ignore_index=True, sort=False)\n",
    "        clothes.to_csv(save_path, index=False)\n",
    "        print(f\"✅ Merged all datasets into '{save_path}' with {clothes.shape[0]} rows and {clothes.shape[1]} columns.\")\n",
    "        return clothes\n",
    "    else:\n",
    "        print(\"⚠️ No CSV files found.\")\n",
    "        return None\n",
    "\n",
    "base_path = \"/home/kloor/code/pawarsp/what-to-wear-today/raw_data\"\n",
    "\n",
    "# Save merged CSV to the same folder\n",
    "save_path = os.path.join(base_path, \"clothes.csv\")\n",
    "\n",
    "# Merge and save\n",
    "clothes = merge_all_csvs(base_path, save_path)\n"
   ]
  },
  {
   "cell_type": "code",
   "execution_count": 33,
   "metadata": {
    "colab": {
     "base_uri": "https://localhost:8080/",
     "height": 414
    },
    "execution": {
     "iopub.execute_input": "2025-10-28T17:11:32.170738Z",
     "iopub.status.busy": "2025-10-28T17:11:32.170499Z",
     "iopub.status.idle": "2025-10-28T17:11:32.184890Z",
     "shell.execute_reply": "2025-10-28T17:11:32.181792Z",
     "shell.execute_reply.started": "2025-10-28T17:11:32.170719Z"
    },
    "id": "7oRIqqUsjvqV",
    "outputId": "e35e83f1-9cac-4ba1-8e8b-c85f09574c22"
   },
   "outputs": [
    {
     "data": {
      "text/html": [
       "<div>\n",
       "<style scoped>\n",
       "    .dataframe tbody tr th:only-of-type {\n",
       "        vertical-align: middle;\n",
       "    }\n",
       "\n",
       "    .dataframe tbody tr th {\n",
       "        vertical-align: top;\n",
       "    }\n",
       "\n",
       "    .dataframe thead th {\n",
       "        text-align: right;\n",
       "    }\n",
       "</style>\n",
       "<table border=\"1\" class=\"dataframe\">\n",
       "  <thead>\n",
       "    <tr style=\"text-align: right;\">\n",
       "      <th></th>\n",
       "      <th>unnamed:_0</th>\n",
       "      <th>product_name</th>\n",
       "      <th>link</th>\n",
       "      <th>product_images</th>\n",
       "      <th>price</th>\n",
       "      <th>details</th>\n",
       "      <th>gender</th>\n",
       "      <th>product_category</th>\n",
       "    </tr>\n",
       "  </thead>\n",
       "  <tbody>\n",
       "    <tr>\n",
       "      <th>0</th>\n",
       "      <td>0</td>\n",
       "      <td>3-IN-1 BAR REFILL</td>\n",
       "      <td>https://www.zara.com/in/en/3-in-1-bar-refill-p...</td>\n",
       "      <td>[]</td>\n",
       "      <td>₹ 1,290.00</td>\n",
       "      <td>Creamy texture multifunction makeup bar, avail...</td>\n",
       "      <td>women</td>\n",
       "      <td>BEAUTY</td>\n",
       "    </tr>\n",
       "    <tr>\n",
       "      <th>1</th>\n",
       "      <td>2</td>\n",
       "      <td>LIP OIL</td>\n",
       "      <td>https://www.zara.com/in/en/lip-oil-p24130314.html</td>\n",
       "      <td>[]</td>\n",
       "      <td>₹ 790.00</td>\n",
       "      <td>This creamy lip oil glides like silk to achiev...</td>\n",
       "      <td>women</td>\n",
       "      <td>BEAUTY</td>\n",
       "    </tr>\n",
       "    <tr>\n",
       "      <th>2</th>\n",
       "      <td>4</td>\n",
       "      <td>ULTIMATTE MATTE LIQUID LIPSTICK</td>\n",
       "      <td>https://www.zara.com/in/en/ultimatte-matte-liq...</td>\n",
       "      <td>[]</td>\n",
       "      <td>₹ 790.00</td>\n",
       "      <td>Slick with it. Our favourite lipstick, now in ...</td>\n",
       "      <td>women</td>\n",
       "      <td>BEAUTY</td>\n",
       "    </tr>\n",
       "    <tr>\n",
       "      <th>3</th>\n",
       "      <td>10</td>\n",
       "      <td>FACE BRUSH #3</td>\n",
       "      <td>https://www.zara.com/in/en/face-brush--3-p2414...</td>\n",
       "      <td>[{'https://static.zara.net/photos///2022/I/2/1...</td>\n",
       "      <td>₹ 950.00</td>\n",
       "      <td>Small face brush for the application of powder...</td>\n",
       "      <td>women</td>\n",
       "      <td>BEAUTY</td>\n",
       "    </tr>\n",
       "    <tr>\n",
       "      <th>4</th>\n",
       "      <td>11</td>\n",
       "      <td>FACE BRUSH #2</td>\n",
       "      <td>https://www.zara.com/in/en/face-brush--2-p2414...</td>\n",
       "      <td>[]</td>\n",
       "      <td>₹ 1,290.00</td>\n",
       "      <td>Designed to apply powder and cream products. P...</td>\n",
       "      <td>women</td>\n",
       "      <td>BEAUTY</td>\n",
       "    </tr>\n",
       "  </tbody>\n",
       "</table>\n",
       "</div>"
      ],
      "text/plain": [
       "   unnamed:_0                     product_name  \\\n",
       "0           0                3-IN-1 BAR REFILL   \n",
       "1           2                          LIP OIL   \n",
       "2           4  ULTIMATTE MATTE LIQUID LIPSTICK   \n",
       "3          10                    FACE BRUSH #3   \n",
       "4          11                    FACE BRUSH #2   \n",
       "\n",
       "                                                link  \\\n",
       "0  https://www.zara.com/in/en/3-in-1-bar-refill-p...   \n",
       "1  https://www.zara.com/in/en/lip-oil-p24130314.html   \n",
       "2  https://www.zara.com/in/en/ultimatte-matte-liq...   \n",
       "3  https://www.zara.com/in/en/face-brush--3-p2414...   \n",
       "4  https://www.zara.com/in/en/face-brush--2-p2414...   \n",
       "\n",
       "                                      product_images       price  \\\n",
       "0                                                 []  ₹ 1,290.00   \n",
       "1                                                 []    ₹ 790.00   \n",
       "2                                                 []    ₹ 790.00   \n",
       "3  [{'https://static.zara.net/photos///2022/I/2/1...    ₹ 950.00   \n",
       "4                                                 []  ₹ 1,290.00   \n",
       "\n",
       "                                             details gender product_category  \n",
       "0  Creamy texture multifunction makeup bar, avail...  women           BEAUTY  \n",
       "1  This creamy lip oil glides like silk to achiev...  women           BEAUTY  \n",
       "2  Slick with it. Our favourite lipstick, now in ...  women           BEAUTY  \n",
       "3  Small face brush for the application of powder...  women           BEAUTY  \n",
       "4  Designed to apply powder and cream products. P...  women           BEAUTY  "
      ]
     },
     "execution_count": 33,
     "metadata": {},
     "output_type": "execute_result"
    }
   ],
   "source": [
    "clothes.head()"
   ]
  },
  {
   "cell_type": "markdown",
   "metadata": {
    "id": "GpnSKyRDZyQX"
   },
   "source": [
    "**Data cleaning**"
   ]
  },
  {
   "cell_type": "code",
   "execution_count": 34,
   "metadata": {
    "execution": {
     "iopub.execute_input": "2025-10-28T17:11:32.185969Z",
     "iopub.status.busy": "2025-10-28T17:11:32.185701Z",
     "iopub.status.idle": "2025-10-28T17:11:32.197235Z",
     "shell.execute_reply": "2025-10-28T17:11:32.195726Z",
     "shell.execute_reply.started": "2025-10-28T17:11:32.185948Z"
    },
    "id": "Q-0crbC6fbQ5"
   },
   "outputs": [],
   "source": [
    "clothes = clothes.dropna(subset=[\"product_name\", \"details\"])"
   ]
  },
  {
   "cell_type": "code",
   "execution_count": 35,
   "metadata": {
    "execution": {
     "iopub.execute_input": "2025-10-28T17:11:32.198423Z",
     "iopub.status.busy": "2025-10-28T17:11:32.198183Z",
     "iopub.status.idle": "2025-10-28T17:11:35.166665Z",
     "shell.execute_reply": "2025-10-28T17:11:35.164869Z",
     "shell.execute_reply.started": "2025-10-28T17:11:32.198404Z"
    },
    "scrolled": true
   },
   "outputs": [
    {
     "name": "stdout",
     "output_type": "stream",
     "text": [
      "Requirement already satisfied: spacy in /home/kloor/.pyenv/versions/3.10.6/envs/what_to_wear_today/lib/python3.10/site-packages (3.8.7)\n",
      "Requirement already satisfied: packaging>=20.0 in /home/kloor/.pyenv/versions/3.10.6/envs/what_to_wear_today/lib/python3.10/site-packages (from spacy) (25.0)\n",
      "Requirement already satisfied: setuptools in /home/kloor/.pyenv/versions/3.10.6/envs/what_to_wear_today/lib/python3.10/site-packages (from spacy) (63.2.0)\n",
      "Requirement already satisfied: thinc<8.4.0,>=8.3.4 in /home/kloor/.pyenv/versions/3.10.6/envs/what_to_wear_today/lib/python3.10/site-packages (from spacy) (8.3.6)\n",
      "Requirement already satisfied: cymem<2.1.0,>=2.0.2 in /home/kloor/.pyenv/versions/3.10.6/envs/what_to_wear_today/lib/python3.10/site-packages (from spacy) (2.0.11)\n",
      "Requirement already satisfied: spacy-legacy<3.1.0,>=3.0.11 in /home/kloor/.pyenv/versions/3.10.6/envs/what_to_wear_today/lib/python3.10/site-packages (from spacy) (3.0.12)\n",
      "Requirement already satisfied: preshed<3.1.0,>=3.0.2 in /home/kloor/.pyenv/versions/3.10.6/envs/what_to_wear_today/lib/python3.10/site-packages (from spacy) (3.0.10)\n",
      "Requirement already satisfied: tqdm<5.0.0,>=4.38.0 in /home/kloor/.pyenv/versions/3.10.6/envs/what_to_wear_today/lib/python3.10/site-packages (from spacy) (4.67.1)\n",
      "Requirement already satisfied: requests<3.0.0,>=2.13.0 in /home/kloor/.pyenv/versions/3.10.6/envs/what_to_wear_today/lib/python3.10/site-packages (from spacy) (2.32.5)\n",
      "Requirement already satisfied: wasabi<1.2.0,>=0.9.1 in /home/kloor/.pyenv/versions/3.10.6/envs/what_to_wear_today/lib/python3.10/site-packages (from spacy) (1.1.3)\n",
      "Requirement already satisfied: typer<1.0.0,>=0.3.0 in /home/kloor/.pyenv/versions/3.10.6/envs/what_to_wear_today/lib/python3.10/site-packages (from spacy) (0.20.0)\n",
      "Requirement already satisfied: weasel<0.5.0,>=0.1.0 in /home/kloor/.pyenv/versions/3.10.6/envs/what_to_wear_today/lib/python3.10/site-packages (from spacy) (0.4.1)\n",
      "Requirement already satisfied: catalogue<2.1.0,>=2.0.6 in /home/kloor/.pyenv/versions/3.10.6/envs/what_to_wear_today/lib/python3.10/site-packages (from spacy) (2.0.10)\n",
      "Requirement already satisfied: pydantic!=1.8,!=1.8.1,<3.0.0,>=1.7.4 in /home/kloor/.pyenv/versions/3.10.6/envs/what_to_wear_today/lib/python3.10/site-packages (from spacy) (2.12.3)\n",
      "Requirement already satisfied: spacy-loggers<2.0.0,>=1.0.0 in /home/kloor/.pyenv/versions/3.10.6/envs/what_to_wear_today/lib/python3.10/site-packages (from spacy) (1.0.5)\n",
      "Requirement already satisfied: murmurhash<1.1.0,>=0.28.0 in /home/kloor/.pyenv/versions/3.10.6/envs/what_to_wear_today/lib/python3.10/site-packages (from spacy) (1.0.13)\n",
      "Requirement already satisfied: jinja2 in /home/kloor/.pyenv/versions/3.10.6/envs/what_to_wear_today/lib/python3.10/site-packages (from spacy) (3.1.6)\n",
      "Requirement already satisfied: langcodes<4.0.0,>=3.2.0 in /home/kloor/.pyenv/versions/3.10.6/envs/what_to_wear_today/lib/python3.10/site-packages (from spacy) (3.5.0)\n",
      "Requirement already satisfied: srsly<3.0.0,>=2.4.3 in /home/kloor/.pyenv/versions/3.10.6/envs/what_to_wear_today/lib/python3.10/site-packages (from spacy) (2.5.1)\n",
      "Requirement already satisfied: numpy>=1.19.0 in /home/kloor/.pyenv/versions/3.10.6/envs/what_to_wear_today/lib/python3.10/site-packages (from spacy) (2.2.6)\n",
      "Requirement already satisfied: language-data>=1.2 in /home/kloor/.pyenv/versions/3.10.6/envs/what_to_wear_today/lib/python3.10/site-packages (from langcodes<4.0.0,>=3.2.0->spacy) (1.3.0)\n",
      "Requirement already satisfied: typing-inspection>=0.4.2 in /home/kloor/.pyenv/versions/3.10.6/envs/what_to_wear_today/lib/python3.10/site-packages (from pydantic!=1.8,!=1.8.1,<3.0.0,>=1.7.4->spacy) (0.4.2)\n",
      "Requirement already satisfied: annotated-types>=0.6.0 in /home/kloor/.pyenv/versions/3.10.6/envs/what_to_wear_today/lib/python3.10/site-packages (from pydantic!=1.8,!=1.8.1,<3.0.0,>=1.7.4->spacy) (0.7.0)\n",
      "Requirement already satisfied: pydantic-core==2.41.4 in /home/kloor/.pyenv/versions/3.10.6/envs/what_to_wear_today/lib/python3.10/site-packages (from pydantic!=1.8,!=1.8.1,<3.0.0,>=1.7.4->spacy) (2.41.4)\n",
      "Requirement already satisfied: typing-extensions>=4.14.1 in /home/kloor/.pyenv/versions/3.10.6/envs/what_to_wear_today/lib/python3.10/site-packages (from pydantic!=1.8,!=1.8.1,<3.0.0,>=1.7.4->spacy) (4.15.0)\n",
      "Requirement already satisfied: charset_normalizer<4,>=2 in /home/kloor/.pyenv/versions/3.10.6/envs/what_to_wear_today/lib/python3.10/site-packages (from requests<3.0.0,>=2.13.0->spacy) (3.4.4)\n",
      "Requirement already satisfied: urllib3<3,>=1.21.1 in /home/kloor/.pyenv/versions/3.10.6/envs/what_to_wear_today/lib/python3.10/site-packages (from requests<3.0.0,>=2.13.0->spacy) (2.5.0)\n",
      "Requirement already satisfied: certifi>=2017.4.17 in /home/kloor/.pyenv/versions/3.10.6/envs/what_to_wear_today/lib/python3.10/site-packages (from requests<3.0.0,>=2.13.0->spacy) (2025.10.5)\n",
      "Requirement already satisfied: idna<4,>=2.5 in /home/kloor/.pyenv/versions/3.10.6/envs/what_to_wear_today/lib/python3.10/site-packages (from requests<3.0.0,>=2.13.0->spacy) (3.11)\n",
      "Requirement already satisfied: confection<1.0.0,>=0.0.1 in /home/kloor/.pyenv/versions/3.10.6/envs/what_to_wear_today/lib/python3.10/site-packages (from thinc<8.4.0,>=8.3.4->spacy) (0.1.5)\n",
      "Requirement already satisfied: blis<1.4.0,>=1.3.0 in /home/kloor/.pyenv/versions/3.10.6/envs/what_to_wear_today/lib/python3.10/site-packages (from thinc<8.4.0,>=8.3.4->spacy) (1.3.0)\n",
      "Requirement already satisfied: click>=8.0.0 in /home/kloor/.pyenv/versions/3.10.6/envs/what_to_wear_today/lib/python3.10/site-packages (from typer<1.0.0,>=0.3.0->spacy) (8.3.0)\n",
      "Requirement already satisfied: rich>=10.11.0 in /home/kloor/.pyenv/versions/3.10.6/envs/what_to_wear_today/lib/python3.10/site-packages (from typer<1.0.0,>=0.3.0->spacy) (14.2.0)\n",
      "Requirement already satisfied: shellingham>=1.3.0 in /home/kloor/.pyenv/versions/3.10.6/envs/what_to_wear_today/lib/python3.10/site-packages (from typer<1.0.0,>=0.3.0->spacy) (1.5.4)\n",
      "Requirement already satisfied: smart-open<8.0.0,>=5.2.1 in /home/kloor/.pyenv/versions/3.10.6/envs/what_to_wear_today/lib/python3.10/site-packages (from weasel<0.5.0,>=0.1.0->spacy) (7.4.1)\n",
      "Requirement already satisfied: cloudpathlib<1.0.0,>=0.7.0 in /home/kloor/.pyenv/versions/3.10.6/envs/what_to_wear_today/lib/python3.10/site-packages (from weasel<0.5.0,>=0.1.0->spacy) (0.23.0)\n",
      "Requirement already satisfied: MarkupSafe>=2.0 in /home/kloor/.pyenv/versions/3.10.6/envs/what_to_wear_today/lib/python3.10/site-packages (from jinja2->spacy) (3.0.3)\n",
      "Requirement already satisfied: marisa-trie>=1.1.0 in /home/kloor/.pyenv/versions/3.10.6/envs/what_to_wear_today/lib/python3.10/site-packages (from language-data>=1.2->langcodes<4.0.0,>=3.2.0->spacy) (1.3.1)\n",
      "Requirement already satisfied: pygments<3.0.0,>=2.13.0 in /home/kloor/.pyenv/versions/3.10.6/envs/what_to_wear_today/lib/python3.10/site-packages (from rich>=10.11.0->typer<1.0.0,>=0.3.0->spacy) (2.19.2)\n",
      "Requirement already satisfied: markdown-it-py>=2.2.0 in /home/kloor/.pyenv/versions/3.10.6/envs/what_to_wear_today/lib/python3.10/site-packages (from rich>=10.11.0->typer<1.0.0,>=0.3.0->spacy) (4.0.0)\n",
      "Requirement already satisfied: wrapt in /home/kloor/.pyenv/versions/3.10.6/envs/what_to_wear_today/lib/python3.10/site-packages (from smart-open<8.0.0,>=5.2.1->weasel<0.5.0,>=0.1.0->spacy) (2.0.0)\n",
      "Requirement already satisfied: mdurl~=0.1 in /home/kloor/.pyenv/versions/3.10.6/envs/what_to_wear_today/lib/python3.10/site-packages (from markdown-it-py>=2.2.0->rich>=10.11.0->typer<1.0.0,>=0.3.0->spacy) (0.1.2)\n",
      "\n",
      "\u001b[1m[\u001b[0m\u001b[34;49mnotice\u001b[0m\u001b[1;39;49m]\u001b[0m\u001b[39;49m A new release of pip available: \u001b[0m\u001b[31;49m22.2.1\u001b[0m\u001b[39;49m -> \u001b[0m\u001b[32;49m25.3\u001b[0m\n",
      "\u001b[1m[\u001b[0m\u001b[34;49mnotice\u001b[0m\u001b[1;39;49m]\u001b[0m\u001b[39;49m To update, run: \u001b[0m\u001b[32;49mpython -m pip install --upgrade pip\u001b[0m\n"
     ]
    }
   ],
   "source": [
    "!pip install spacy"
   ]
  },
  {
   "cell_type": "code",
   "execution_count": 36,
   "metadata": {
    "execution": {
     "iopub.execute_input": "2025-10-28T17:11:35.167697Z",
     "iopub.status.busy": "2025-10-28T17:11:35.167454Z",
     "iopub.status.idle": "2025-10-28T17:11:39.383739Z",
     "shell.execute_reply": "2025-10-28T17:11:39.380739Z",
     "shell.execute_reply.started": "2025-10-28T17:11:35.167679Z"
    },
    "scrolled": true
   },
   "outputs": [
    {
     "name": "stdout",
     "output_type": "stream",
     "text": [
      "Collecting en-core-web-sm==3.8.0\n",
      "  Downloading https://github.com/explosion/spacy-models/releases/download/en_core_web_sm-3.8.0/en_core_web_sm-3.8.0-py3-none-any.whl (12.8 MB)\n",
      "\u001b[2K     \u001b[90m━━━━━━━━━━━━━━━━━━━━━━━━━━━━━━━━━━━━━━━━\u001b[0m \u001b[32m12.8/12.8 MB\u001b[0m \u001b[31m33.7 MB/s\u001b[0m eta \u001b[36m0:00:00\u001b[0m00:01\u001b[0m00:01\u001b[0m\n",
      "\u001b[?25h\n",
      "\u001b[1m[\u001b[0m\u001b[34;49mnotice\u001b[0m\u001b[1;39;49m]\u001b[0m\u001b[39;49m A new release of pip available: \u001b[0m\u001b[31;49m22.2.1\u001b[0m\u001b[39;49m -> \u001b[0m\u001b[32;49m25.3\u001b[0m\n",
      "\u001b[1m[\u001b[0m\u001b[34;49mnotice\u001b[0m\u001b[1;39;49m]\u001b[0m\u001b[39;49m To update, run: \u001b[0m\u001b[32;49mpip install --upgrade pip\u001b[0m\n",
      "\u001b[38;5;2m✔ Download and installation successful\u001b[0m\n",
      "You can now load the package via spacy.load('en_core_web_sm')\n"
     ]
    }
   ],
   "source": [
    "!python -m spacy download en_core_web_sm"
   ]
  },
  {
   "cell_type": "code",
   "execution_count": 37,
   "metadata": {
    "colab": {
     "base_uri": "https://localhost:8080/"
    },
    "execution": {
     "iopub.execute_input": "2025-10-28T17:11:39.385196Z",
     "iopub.status.busy": "2025-10-28T17:11:39.384873Z",
     "iopub.status.idle": "2025-10-28T17:11:56.512578Z",
     "shell.execute_reply": "2025-10-28T17:11:56.510027Z",
     "shell.execute_reply.started": "2025-10-28T17:11:39.385177Z"
    },
    "id": "MbVHWqzEj7Ca",
    "outputId": "ac9463bb-f4f3-48e9-94ed-569309a120f0"
   },
   "outputs": [
    {
     "name": "stdout",
     "output_type": "stream",
     "text": [
      "Preprocessing complete and saved to '/home/kloor/code/pawarsp/what-to-wear-today/raw_data/clothes.csv'\n"
     ]
    }
   ],
   "source": [
    "import pandas as pd\n",
    "import re\n",
    "import os\n",
    "import spacy\n",
    "\n",
    "nlp = spacy.load(\"en_core_web_sm\", disable=[\"parser\", \"ner\"])\n",
    "\n",
    "clothes_path = \"/home/kloor/code/pawarsp/what-to-wear-today/raw_data/clothes.csv\"\n",
    "clothes = pd.read_csv(clothes_path)\n",
    "\n",
    "# Basic cleaning: lowercase, remove punctuation, strip\n",
    "def basic_clean(text):\n",
    "    if pd.isna(text):\n",
    "        return \"\"\n",
    "    text = str(text).lower()\n",
    "    text = re.sub(r'[^\\w\\s]', '', text)\n",
    "    text = re.sub(r'\\s+', ' ', text).strip()\n",
    "    return text\n",
    "\n",
    "clothes[\"product_name\"] = clothes[\"product_name\"].apply(basic_clean)\n",
    "clothes[\"details\"] = clothes[\"details\"].apply(basic_clean)\n",
    "\n",
    "# remove unwanted words & numbers\n",
    "def remove_words_numbers(text):\n",
    "    # Remove 'ZW', 'Zara' (case-insensitive) and all numbers\n",
    "    text = re.sub(r'\\b(zw|zara)\\b|\\d+', '', text, flags=re.IGNORECASE)\n",
    "    # Remove extra whitespace again\n",
    "    text = re.sub(r'\\s+', ' ', text).strip()\n",
    "    return text\n",
    "\n",
    "clothes[\"product_name\"] = clothes[\"product_name\"].apply(remove_words_numbers)\n",
    "clothes[\"details\"] = clothes[\"details\"].apply(remove_words_numbers)\n",
    "\n",
    "# Tokenization,lemmatization,stopword removal\n",
    "def preprocess_spacy(text):\n",
    "    if not text:\n",
    "        return \"\"\n",
    "    doc = nlp(text)\n",
    "    tokens = [token.lemma_ for token in doc if token.is_alpha and not token.is_stop]\n",
    "    return \" \".join(tokens)\n",
    "\n",
    "clothes[\"product_name_clean\"] = clothes[\"product_name\"].apply(preprocess_spacy)\n",
    "clothes[\"details_clean\"] = clothes[\"details\"].apply(preprocess_spacy)\n",
    "\n",
    "save_path = os.path.join(os.path.dirname(clothes_path), \"clothes.csv\")\n",
    "clothes.to_csv(save_path, index=False)\n",
    "print(f\"Preprocessing complete and saved to '{save_path}'\")\n"
   ]
  },
  {
   "cell_type": "code",
   "execution_count": 38,
   "metadata": {
    "colab": {
     "base_uri": "https://localhost:8080/",
     "height": 660
    },
    "execution": {
     "iopub.execute_input": "2025-10-28T17:11:56.514311Z",
     "iopub.status.busy": "2025-10-28T17:11:56.514015Z",
     "iopub.status.idle": "2025-10-28T17:11:56.533027Z",
     "shell.execute_reply": "2025-10-28T17:11:56.529444Z",
     "shell.execute_reply.started": "2025-10-28T17:11:56.514287Z"
    },
    "id": "G-SFRtFQj7Fj",
    "outputId": "56bbbe89-e867-4c54-f7b6-71f5b03c7a15"
   },
   "outputs": [
    {
     "data": {
      "text/html": [
       "<div>\n",
       "<style scoped>\n",
       "    .dataframe tbody tr th:only-of-type {\n",
       "        vertical-align: middle;\n",
       "    }\n",
       "\n",
       "    .dataframe tbody tr th {\n",
       "        vertical-align: top;\n",
       "    }\n",
       "\n",
       "    .dataframe thead th {\n",
       "        text-align: right;\n",
       "    }\n",
       "</style>\n",
       "<table border=\"1\" class=\"dataframe\">\n",
       "  <thead>\n",
       "    <tr style=\"text-align: right;\">\n",
       "      <th></th>\n",
       "      <th>unnamed:_0</th>\n",
       "      <th>product_name</th>\n",
       "      <th>link</th>\n",
       "      <th>product_images</th>\n",
       "      <th>price</th>\n",
       "      <th>details</th>\n",
       "      <th>gender</th>\n",
       "      <th>product_category</th>\n",
       "      <th>product_name_clean</th>\n",
       "      <th>details_clean</th>\n",
       "    </tr>\n",
       "  </thead>\n",
       "  <tbody>\n",
       "    <tr>\n",
       "      <th>0</th>\n",
       "      <td>0</td>\n",
       "      <td>in bar refill</td>\n",
       "      <td>https://www.zara.com/in/en/3-in-1-bar-refill-p...</td>\n",
       "      <td>[]</td>\n",
       "      <td>₹ 1,290.00</td>\n",
       "      <td>creamy texture multifunction makeup bar availa...</td>\n",
       "      <td>women</td>\n",
       "      <td>BEAUTY</td>\n",
       "      <td>bar refill</td>\n",
       "      <td>creamy texture multifunction makeup bar availa...</td>\n",
       "    </tr>\n",
       "    <tr>\n",
       "      <th>1</th>\n",
       "      <td>2</td>\n",
       "      <td>lip oil</td>\n",
       "      <td>https://www.zara.com/in/en/lip-oil-p24130314.html</td>\n",
       "      <td>[]</td>\n",
       "      <td>₹ 790.00</td>\n",
       "      <td>this creamy lip oil glides like silk to achiev...</td>\n",
       "      <td>women</td>\n",
       "      <td>BEAUTY</td>\n",
       "      <td>lip oil</td>\n",
       "      <td>creamy lip oil glide like silk achieve uniform...</td>\n",
       "    </tr>\n",
       "    <tr>\n",
       "      <th>2</th>\n",
       "      <td>4</td>\n",
       "      <td>ultimatte matte liquid lipstick</td>\n",
       "      <td>https://www.zara.com/in/en/ultimatte-matte-liq...</td>\n",
       "      <td>[]</td>\n",
       "      <td>₹ 790.00</td>\n",
       "      <td>slick with it our favourite lipstick now in a ...</td>\n",
       "      <td>women</td>\n",
       "      <td>BEAUTY</td>\n",
       "      <td>ultimatte matte liquid lipstick</td>\n",
       "      <td>slick favourite lipstick liquid version covera...</td>\n",
       "    </tr>\n",
       "    <tr>\n",
       "      <th>3</th>\n",
       "      <td>10</td>\n",
       "      <td>face brush</td>\n",
       "      <td>https://www.zara.com/in/en/face-brush--3-p2414...</td>\n",
       "      <td>[{'https://static.zara.net/photos///2022/I/2/1...</td>\n",
       "      <td>₹ 950.00</td>\n",
       "      <td>small face brush for the application of powder...</td>\n",
       "      <td>women</td>\n",
       "      <td>BEAUTY</td>\n",
       "      <td>face brush</td>\n",
       "      <td>small face brush application powder cream liqu...</td>\n",
       "    </tr>\n",
       "    <tr>\n",
       "      <th>4</th>\n",
       "      <td>11</td>\n",
       "      <td>face brush</td>\n",
       "      <td>https://www.zara.com/in/en/face-brush--2-p2414...</td>\n",
       "      <td>[]</td>\n",
       "      <td>₹ 1,290.00</td>\n",
       "      <td>designed to apply powder and cream products pe...</td>\n",
       "      <td>women</td>\n",
       "      <td>BEAUTY</td>\n",
       "      <td>face brush</td>\n",
       "      <td>design apply powder cream product perfect blus...</td>\n",
       "    </tr>\n",
       "  </tbody>\n",
       "</table>\n",
       "</div>"
      ],
      "text/plain": [
       "   unnamed:_0                     product_name  \\\n",
       "0           0                    in bar refill   \n",
       "1           2                          lip oil   \n",
       "2           4  ultimatte matte liquid lipstick   \n",
       "3          10                       face brush   \n",
       "4          11                       face brush   \n",
       "\n",
       "                                                link  \\\n",
       "0  https://www.zara.com/in/en/3-in-1-bar-refill-p...   \n",
       "1  https://www.zara.com/in/en/lip-oil-p24130314.html   \n",
       "2  https://www.zara.com/in/en/ultimatte-matte-liq...   \n",
       "3  https://www.zara.com/in/en/face-brush--3-p2414...   \n",
       "4  https://www.zara.com/in/en/face-brush--2-p2414...   \n",
       "\n",
       "                                      product_images       price  \\\n",
       "0                                                 []  ₹ 1,290.00   \n",
       "1                                                 []    ₹ 790.00   \n",
       "2                                                 []    ₹ 790.00   \n",
       "3  [{'https://static.zara.net/photos///2022/I/2/1...    ₹ 950.00   \n",
       "4                                                 []  ₹ 1,290.00   \n",
       "\n",
       "                                             details gender product_category  \\\n",
       "0  creamy texture multifunction makeup bar availa...  women           BEAUTY   \n",
       "1  this creamy lip oil glides like silk to achiev...  women           BEAUTY   \n",
       "2  slick with it our favourite lipstick now in a ...  women           BEAUTY   \n",
       "3  small face brush for the application of powder...  women           BEAUTY   \n",
       "4  designed to apply powder and cream products pe...  women           BEAUTY   \n",
       "\n",
       "                product_name_clean  \\\n",
       "0                       bar refill   \n",
       "1                          lip oil   \n",
       "2  ultimatte matte liquid lipstick   \n",
       "3                       face brush   \n",
       "4                       face brush   \n",
       "\n",
       "                                       details_clean  \n",
       "0  creamy texture multifunction makeup bar availa...  \n",
       "1  creamy lip oil glide like silk achieve uniform...  \n",
       "2  slick favourite lipstick liquid version covera...  \n",
       "3  small face brush application powder cream liqu...  \n",
       "4  design apply powder cream product perfect blus...  "
      ]
     },
     "execution_count": 38,
     "metadata": {},
     "output_type": "execute_result"
    }
   ],
   "source": [
    "clothes.head()"
   ]
  },
  {
   "cell_type": "code",
   "execution_count": 39,
   "metadata": {
    "colab": {
     "base_uri": "https://localhost:8080/"
    },
    "execution": {
     "iopub.execute_input": "2025-10-28T17:11:56.535627Z",
     "iopub.status.busy": "2025-10-28T17:11:56.535120Z",
     "iopub.status.idle": "2025-10-28T17:11:56.570257Z",
     "shell.execute_reply": "2025-10-28T17:11:56.567622Z",
     "shell.execute_reply.started": "2025-10-28T17:11:56.535593Z"
    },
    "id": "0cfPDbphpxMI",
    "outputId": "d4e650d8-420f-4207-d645-8cdf97243122"
   },
   "outputs": [
    {
     "name": "stdout",
     "output_type": "stream",
     "text": [
      "✅original columns replaced and saved to '/home/kloor/code/pawarsp/what-to-wear-today/raw_data/clothes.csv'\n"
     ]
    }
   ],
   "source": [
    "\n",
    "clothes.drop(columns=[\"product_name\", \"details\", \"link\", \"product_images\", \"price\", \"unnamed:_0\" ], inplace=True)\n",
    "clothes.rename(columns={\"product_name_clean\": \"product_name\", \"details_clean\": \"details\"}, inplace=True)\n",
    "\n",
    "clothes.to_csv(clothes_path, index=False)\n",
    "print(f\"✅original columns replaced and saved to '{clothes_path}'\")"
   ]
  },
  {
   "cell_type": "code",
   "execution_count": 40,
   "metadata": {
    "colab": {
     "base_uri": "https://localhost:8080/",
     "height": 206
    },
    "execution": {
     "iopub.execute_input": "2025-10-28T17:11:56.573572Z",
     "iopub.status.busy": "2025-10-28T17:11:56.573152Z",
     "iopub.status.idle": "2025-10-28T17:11:56.591800Z",
     "shell.execute_reply": "2025-10-28T17:11:56.588193Z",
     "shell.execute_reply.started": "2025-10-28T17:11:56.573540Z"
    },
    "id": "IUXTH6ldj7I-",
    "outputId": "768f35fa-c1e7-4f26-8dc2-b14e1ce69ec9"
   },
   "outputs": [
    {
     "data": {
      "text/html": [
       "<div>\n",
       "<style scoped>\n",
       "    .dataframe tbody tr th:only-of-type {\n",
       "        vertical-align: middle;\n",
       "    }\n",
       "\n",
       "    .dataframe tbody tr th {\n",
       "        vertical-align: top;\n",
       "    }\n",
       "\n",
       "    .dataframe thead th {\n",
       "        text-align: right;\n",
       "    }\n",
       "</style>\n",
       "<table border=\"1\" class=\"dataframe\">\n",
       "  <thead>\n",
       "    <tr style=\"text-align: right;\">\n",
       "      <th></th>\n",
       "      <th>gender</th>\n",
       "      <th>product_category</th>\n",
       "      <th>product_name</th>\n",
       "      <th>details</th>\n",
       "    </tr>\n",
       "  </thead>\n",
       "  <tbody>\n",
       "    <tr>\n",
       "      <th>0</th>\n",
       "      <td>women</td>\n",
       "      <td>BEAUTY</td>\n",
       "      <td>bar refill</td>\n",
       "      <td>creamy texture multifunction makeup bar availa...</td>\n",
       "    </tr>\n",
       "    <tr>\n",
       "      <th>1</th>\n",
       "      <td>women</td>\n",
       "      <td>BEAUTY</td>\n",
       "      <td>lip oil</td>\n",
       "      <td>creamy lip oil glide like silk achieve uniform...</td>\n",
       "    </tr>\n",
       "    <tr>\n",
       "      <th>2</th>\n",
       "      <td>women</td>\n",
       "      <td>BEAUTY</td>\n",
       "      <td>ultimatte matte liquid lipstick</td>\n",
       "      <td>slick favourite lipstick liquid version covera...</td>\n",
       "    </tr>\n",
       "    <tr>\n",
       "      <th>3</th>\n",
       "      <td>women</td>\n",
       "      <td>BEAUTY</td>\n",
       "      <td>face brush</td>\n",
       "      <td>small face brush application powder cream liqu...</td>\n",
       "    </tr>\n",
       "    <tr>\n",
       "      <th>4</th>\n",
       "      <td>women</td>\n",
       "      <td>BEAUTY</td>\n",
       "      <td>face brush</td>\n",
       "      <td>design apply powder cream product perfect blus...</td>\n",
       "    </tr>\n",
       "  </tbody>\n",
       "</table>\n",
       "</div>"
      ],
      "text/plain": [
       "  gender product_category                     product_name  \\\n",
       "0  women           BEAUTY                       bar refill   \n",
       "1  women           BEAUTY                          lip oil   \n",
       "2  women           BEAUTY  ultimatte matte liquid lipstick   \n",
       "3  women           BEAUTY                       face brush   \n",
       "4  women           BEAUTY                       face brush   \n",
       "\n",
       "                                             details  \n",
       "0  creamy texture multifunction makeup bar availa...  \n",
       "1  creamy lip oil glide like silk achieve uniform...  \n",
       "2  slick favourite lipstick liquid version covera...  \n",
       "3  small face brush application powder cream liqu...  \n",
       "4  design apply powder cream product perfect blus...  "
      ]
     },
     "execution_count": 40,
     "metadata": {},
     "output_type": "execute_result"
    }
   ],
   "source": [
    "clothes.head()"
   ]
  },
  {
   "cell_type": "code",
   "execution_count": 41,
   "metadata": {
    "execution": {
     "iopub.execute_input": "2025-10-28T17:11:56.593973Z",
     "iopub.status.busy": "2025-10-28T17:11:56.593637Z",
     "iopub.status.idle": "2025-10-28T17:11:56.629137Z",
     "shell.execute_reply": "2025-10-28T17:11:56.626104Z",
     "shell.execute_reply.started": "2025-10-28T17:11:56.593946Z"
    },
    "id": "BV2prTEjqEoq"
   },
   "outputs": [],
   "source": [
    "\n",
    "drop_categories = ['PERFUMESNEW', 'ACCESSORIES_JEWELLERY', 'BEAUTY', 'BAGS', 'PERFUMES', 'BAGS_BACKPACKS']\n",
    "\n",
    "clothes = clothes[~clothes[\"product_category\"].str.upper().isin(drop_categories)]\n",
    "clothes.to_csv(clothes_path, index=False)\n"
   ]
  },
  {
   "cell_type": "markdown",
   "metadata": {
    "id": "gB0vHwfdZ5SQ"
   },
   "source": [
    "**Featuring engineering**"
   ]
  },
  {
   "cell_type": "code",
   "execution_count": 42,
   "metadata": {
    "execution": {
     "iopub.execute_input": "2025-10-28T17:11:56.631060Z",
     "iopub.status.busy": "2025-10-28T17:11:56.630621Z",
     "iopub.status.idle": "2025-10-28T17:11:56.642044Z",
     "shell.execute_reply": "2025-10-28T17:11:56.639255Z",
     "shell.execute_reply.started": "2025-10-28T17:11:56.631025Z"
    },
    "id": "p40bqx2jaAfe"
   },
   "outputs": [],
   "source": [
    "import pandas as pd\n",
    "from sklearn.model_selection import train_test_split\n",
    "from sklearn.feature_extraction.text import TfidfVectorizer\n",
    "from sklearn.linear_model import LogisticRegression\n",
    "from sklearn.pipeline import Pipeline\n",
    "from sklearn.metrics import accuracy_score, classification_report"
   ]
  },
  {
   "cell_type": "code",
   "execution_count": 43,
   "metadata": {
    "execution": {
     "iopub.execute_input": "2025-10-28T17:11:56.643434Z",
     "iopub.status.busy": "2025-10-28T17:11:56.643091Z",
     "iopub.status.idle": "2025-10-28T17:11:56.668848Z",
     "shell.execute_reply": "2025-10-28T17:11:56.665952Z",
     "shell.execute_reply.started": "2025-10-28T17:11:56.643406Z"
    },
    "id": "kKGI90RuaGmm"
   },
   "outputs": [],
   "source": [
    "required_cols = [\"product_name\", \"details\", \"product_category\"]\n",
    "for col in required_cols:\n",
    "    if col not in clothes.columns:\n",
    "        raise ValueError(f\"Missing required column: '{col}'\")\n",
    "\n",
    "clothes[\"product_name\"] = clothes[\"product_name\"].astype(str)\n",
    "clothes[\"details\"] = clothes[\"details\"].astype(str)\n",
    "clothes[\"text\"] = clothes[\"product_name\"].fillna('') + \" \" + clothes[\"details\"].fillna('')\n",
    "\n",
    "# Define ambiguous categories to reassign\n",
    "ambiguous_cats = [\"WORKWEARNEW\", \"BASICS\", \"LOUNGEWEARNEW\",\n",
    "                  \"SPECIAL PRICES\", \"LINEN\", \"ZARA ATHLETICZ\", \"ZARA ORIGINS\", \"CO-ORD SETS\"]\n"
   ]
  },
  {
   "cell_type": "code",
   "execution_count": 44,
   "metadata": {
    "colab": {
     "base_uri": "https://localhost:8080/"
    },
    "execution": {
     "iopub.execute_input": "2025-10-28T17:11:56.671751Z",
     "iopub.status.busy": "2025-10-28T17:11:56.671245Z",
     "iopub.status.idle": "2025-10-28T17:12:03.550298Z",
     "shell.execute_reply": "2025-10-28T17:12:03.544759Z",
     "shell.execute_reply.started": "2025-10-28T17:11:56.671710Z"
    },
    "id": "eBRc_zrMCSy4",
    "outputId": "f7230c74-116d-4700-8fbb-fad7d4087337"
   },
   "outputs": [
    {
     "name": "stdout",
     "output_type": "stream",
     "text": [
      "Accuracy: 0.8562401263823065\n",
      "                      precision    recall  f1-score   support\n",
      "\n",
      "         ACCESSORIES       1.00      0.77      0.87        30\n",
      "             BLAZERS       0.78      0.78      0.78        18\n",
      "   DRESSES_JUMPSUITS       0.95      0.94      0.94       129\n",
      " HOODIES_SWEATSHIRTS       0.50      0.50      0.50         6\n",
      "             JACKETS       0.85      0.92      0.88        36\n",
      "               JEANS       1.00      1.00      1.00         6\n",
      "            KNITWEAR       0.64      0.61      0.62        46\n",
      "          OVERSHIRTS       0.60      0.60      0.60         5\n",
      "         POLO SHIRTS       0.50      1.00      0.67         9\n",
      "              SHIRTS       0.93      0.91      0.92        77\n",
      "               SHOES       0.99      0.99      0.99        90\n",
      "              SHORTS       0.89      1.00      0.94        17\n",
      "       SHORTS_SKORTS       0.82      0.82      0.82        11\n",
      "              SKIRTS       0.71      0.83      0.77        12\n",
      "  SWEATERS_CARDIGANS       0.50      0.31      0.38        16\n",
      "            SWIMWEAR       0.46      0.75      0.57         8\n",
      "            T-SHIRTS       0.89      0.83      0.86        29\n",
      "T-SHIRTS_SWEATSHIRTS       1.00      0.88      0.93         8\n",
      "      TOPS_BODYSUITS       0.61      0.50      0.55        22\n",
      "            TROUSERS       0.98      1.00      0.99        45\n",
      "   WAISTCOATS_GILETS       0.56      0.69      0.62        13\n",
      "\n",
      "            accuracy                           0.86       633\n",
      "           macro avg       0.77      0.79      0.77       633\n",
      "        weighted avg       0.86      0.86      0.86       633\n",
      "\n",
      "Full CSV updated\n"
     ]
    },
    {
     "name": "stderr",
     "output_type": "stream",
     "text": [
      "/tmp/ipykernel_130134/1083568523.py:36: FutureWarning: A value is trying to be set on a copy of a DataFrame or Series through chained assignment using an inplace method.\n",
      "The behavior will change in pandas 3.0. This inplace method will never work because the intermediate object on which we are setting values always behaves as a copy.\n",
      "\n",
      "For example, when doing 'df[col].method(value, inplace=True)', try using 'df.method({col: value}, inplace=True)' or df[col] = df[col].method(value) instead, to perform the operation inplace on the original object.\n",
      "\n",
      "\n",
      "  clothes[\"final_category\"].fillna(clothes[\"product_category\"], inplace=True)\n"
     ]
    }
   ],
   "source": [
    "\n",
    "# Training\n",
    "\n",
    "train_df = clothes[~clothes[\"product_category\"].isin(ambiguous_cats)].copy()\n",
    "predict_df = clothes[clothes[\"product_category\"].isin(ambiguous_cats)].copy()\n",
    "\n",
    "train_df = train_df.dropna(subset=[\"product_category\"])\n",
    "\n",
    "counts = train_df[\"product_category\"].value_counts()\n",
    "valid_cats = counts[counts >= 2].index\n",
    "train_df = train_df[train_df[\"product_category\"].isin(valid_cats)]\n",
    "\n",
    "# Train/test split\n",
    "X_train, X_test, y_train, y_test = train_test_split(\n",
    "    train_df[\"text\"], train_df[\"product_category\"],\n",
    "    test_size=0.2, random_state=42, stratify=train_df[\"product_category\"]\n",
    ")\n",
    "\n",
    "# Build model pipeline\n",
    "model = Pipeline([\n",
    "    (\"tfidf\", TfidfVectorizer(stop_words=\"english\", max_features=20000, ngram_range=(1, 2))),\n",
    "    (\"clf\", LogisticRegression(max_iter=2000, class_weight=\"balanced\"))\n",
    "])\n",
    "\n",
    "# Train model\n",
    "model.fit(X_train, y_train)\n",
    "\n",
    "# evaluation\n",
    "y_pred = model.predict(X_test)\n",
    "print(\"Accuracy:\", accuracy_score(y_test, y_pred))\n",
    "print(classification_report(y_test, y_pred))\n",
    "\n",
    "# Predict categories for ambiguous rows into final_category\n",
    "if not predict_df.empty:\n",
    "    clothes.loc[predict_df.index, \"final_category\"] = model.predict(predict_df[\"text\"])\n",
    "\n",
    "clothes[\"final_category\"].fillna(clothes[\"product_category\"], inplace=True)\n",
    "\n",
    "clothes.to_csv(\"clothes_updated_final.csv\", index=False)\n",
    "\n",
    "print(\"Full CSV updated\")\n"
   ]
  },
  {
   "cell_type": "code",
   "execution_count": 45,
   "metadata": {
    "colab": {
     "base_uri": "https://localhost:8080/",
     "height": 275
    },
    "execution": {
     "iopub.execute_input": "2025-10-28T17:12:03.552357Z",
     "iopub.status.busy": "2025-10-28T17:12:03.551900Z",
     "iopub.status.idle": "2025-10-28T17:12:03.572852Z",
     "shell.execute_reply": "2025-10-28T17:12:03.569818Z",
     "shell.execute_reply.started": "2025-10-28T17:12:03.552319Z"
    },
    "id": "eElB0MO2FyLR",
    "outputId": "100dfb14-3873-495d-fbcb-b0f0496287c5"
   },
   "outputs": [
    {
     "data": {
      "text/html": [
       "<div>\n",
       "<style scoped>\n",
       "    .dataframe tbody tr th:only-of-type {\n",
       "        vertical-align: middle;\n",
       "    }\n",
       "\n",
       "    .dataframe tbody tr th {\n",
       "        vertical-align: top;\n",
       "    }\n",
       "\n",
       "    .dataframe thead th {\n",
       "        text-align: right;\n",
       "    }\n",
       "</style>\n",
       "<table border=\"1\" class=\"dataframe\">\n",
       "  <thead>\n",
       "    <tr style=\"text-align: right;\">\n",
       "      <th></th>\n",
       "      <th>gender</th>\n",
       "      <th>product_category</th>\n",
       "      <th>product_name</th>\n",
       "      <th>details</th>\n",
       "      <th>text</th>\n",
       "      <th>final_category</th>\n",
       "    </tr>\n",
       "  </thead>\n",
       "  <tbody>\n",
       "    <tr>\n",
       "      <th>18</th>\n",
       "      <td>women</td>\n",
       "      <td>SKIRTS</td>\n",
       "      <td>z denim midi skirt</td>\n",
       "      <td>fade highwaist skirt feature fivepocket design...</td>\n",
       "      <td>z denim midi skirt fade highwaist skirt featur...</td>\n",
       "      <td>SKIRTS</td>\n",
       "    </tr>\n",
       "    <tr>\n",
       "      <th>19</th>\n",
       "      <td>women</td>\n",
       "      <td>SKIRTS</td>\n",
       "      <td>faux leather mini skirt chain</td>\n",
       "      <td>highwaist mini skirt lining metal chain link i...</td>\n",
       "      <td>faux leather mini skirt chain highwaist mini s...</td>\n",
       "      <td>SKIRTS</td>\n",
       "    </tr>\n",
       "    <tr>\n",
       "      <th>20</th>\n",
       "      <td>women</td>\n",
       "      <td>SKIRTS</td>\n",
       "      <td>skort pocket</td>\n",
       "      <td>midwaist skort adjustable elasticate waistband...</td>\n",
       "      <td>skort pocket midwaist skort adjustable elastic...</td>\n",
       "      <td>SKIRTS</td>\n",
       "    </tr>\n",
       "    <tr>\n",
       "      <th>21</th>\n",
       "      <td>women</td>\n",
       "      <td>SKIRTS</td>\n",
       "      <td>long satin skirt</td>\n",
       "      <td>long skirt high elastic waist</td>\n",
       "      <td>long satin skirt long skirt high elastic waist</td>\n",
       "      <td>SKIRTS</td>\n",
       "    </tr>\n",
       "    <tr>\n",
       "      <th>22</th>\n",
       "      <td>women</td>\n",
       "      <td>SKIRTS</td>\n",
       "      <td>knot midi skirt</td>\n",
       "      <td>highwaist flow midi skirt knot detail slit hem...</td>\n",
       "      <td>knot midi skirt highwaist flow midi skirt knot...</td>\n",
       "      <td>SKIRTS</td>\n",
       "    </tr>\n",
       "  </tbody>\n",
       "</table>\n",
       "</div>"
      ],
      "text/plain": [
       "   gender product_category                   product_name  \\\n",
       "18  women           SKIRTS             z denim midi skirt   \n",
       "19  women           SKIRTS  faux leather mini skirt chain   \n",
       "20  women           SKIRTS                   skort pocket   \n",
       "21  women           SKIRTS               long satin skirt   \n",
       "22  women           SKIRTS                knot midi skirt   \n",
       "\n",
       "                                              details  \\\n",
       "18  fade highwaist skirt feature fivepocket design...   \n",
       "19  highwaist mini skirt lining metal chain link i...   \n",
       "20  midwaist skort adjustable elasticate waistband...   \n",
       "21                      long skirt high elastic waist   \n",
       "22  highwaist flow midi skirt knot detail slit hem...   \n",
       "\n",
       "                                                 text final_category  \n",
       "18  z denim midi skirt fade highwaist skirt featur...         SKIRTS  \n",
       "19  faux leather mini skirt chain highwaist mini s...         SKIRTS  \n",
       "20  skort pocket midwaist skort adjustable elastic...         SKIRTS  \n",
       "21     long satin skirt long skirt high elastic waist         SKIRTS  \n",
       "22  knot midi skirt highwaist flow midi skirt knot...         SKIRTS  "
      ]
     },
     "execution_count": 45,
     "metadata": {},
     "output_type": "execute_result"
    }
   ],
   "source": [
    "clothes.head()\n"
   ]
  },
  {
   "cell_type": "code",
   "execution_count": 46,
   "metadata": {
    "execution": {
     "iopub.execute_input": "2025-10-28T17:12:03.576417Z",
     "iopub.status.busy": "2025-10-28T17:12:03.575852Z",
     "iopub.status.idle": "2025-10-28T17:12:03.589931Z",
     "shell.execute_reply": "2025-10-28T17:12:03.585475Z",
     "shell.execute_reply.started": "2025-10-28T17:12:03.576375Z"
    },
    "id": "iLVKLcj4It7v"
   },
   "outputs": [],
   "source": [
    "clothes.drop(columns=[\"text\"], inplace=True)\n"
   ]
  },
  {
   "cell_type": "code",
   "execution_count": 47,
   "metadata": {
    "execution": {
     "iopub.execute_input": "2025-10-28T17:12:03.594126Z",
     "iopub.status.busy": "2025-10-28T17:12:03.593393Z",
     "iopub.status.idle": "2025-10-28T17:12:03.639178Z",
     "shell.execute_reply": "2025-10-28T17:12:03.635991Z",
     "shell.execute_reply.started": "2025-10-28T17:12:03.594076Z"
    },
    "id": "XBGz9ujmK2ur"
   },
   "outputs": [],
   "source": [
    "clothes.to_csv(clothes_path, index=False)"
   ]
  },
  {
   "cell_type": "code",
   "execution_count": 48,
   "metadata": {
    "colab": {
     "base_uri": "https://localhost:8080/",
     "height": 206
    },
    "execution": {
     "iopub.execute_input": "2025-10-28T17:12:03.641868Z",
     "iopub.status.busy": "2025-10-28T17:12:03.641361Z",
     "iopub.status.idle": "2025-10-28T17:12:03.662757Z",
     "shell.execute_reply": "2025-10-28T17:12:03.659019Z",
     "shell.execute_reply.started": "2025-10-28T17:12:03.641823Z"
    },
    "id": "MWKG6RSvIujq",
    "outputId": "68d1b7a5-a68d-4ee3-e0ca-be2ca3aa2ea6"
   },
   "outputs": [
    {
     "data": {
      "text/html": [
       "<div>\n",
       "<style scoped>\n",
       "    .dataframe tbody tr th:only-of-type {\n",
       "        vertical-align: middle;\n",
       "    }\n",
       "\n",
       "    .dataframe tbody tr th {\n",
       "        vertical-align: top;\n",
       "    }\n",
       "\n",
       "    .dataframe thead th {\n",
       "        text-align: right;\n",
       "    }\n",
       "</style>\n",
       "<table border=\"1\" class=\"dataframe\">\n",
       "  <thead>\n",
       "    <tr style=\"text-align: right;\">\n",
       "      <th></th>\n",
       "      <th>gender</th>\n",
       "      <th>product_category</th>\n",
       "      <th>product_name</th>\n",
       "      <th>details</th>\n",
       "      <th>final_category</th>\n",
       "    </tr>\n",
       "  </thead>\n",
       "  <tbody>\n",
       "    <tr>\n",
       "      <th>18</th>\n",
       "      <td>women</td>\n",
       "      <td>SKIRTS</td>\n",
       "      <td>z denim midi skirt</td>\n",
       "      <td>fade highwaist skirt feature fivepocket design...</td>\n",
       "      <td>SKIRTS</td>\n",
       "    </tr>\n",
       "    <tr>\n",
       "      <th>19</th>\n",
       "      <td>women</td>\n",
       "      <td>SKIRTS</td>\n",
       "      <td>faux leather mini skirt chain</td>\n",
       "      <td>highwaist mini skirt lining metal chain link i...</td>\n",
       "      <td>SKIRTS</td>\n",
       "    </tr>\n",
       "    <tr>\n",
       "      <th>20</th>\n",
       "      <td>women</td>\n",
       "      <td>SKIRTS</td>\n",
       "      <td>skort pocket</td>\n",
       "      <td>midwaist skort adjustable elasticate waistband...</td>\n",
       "      <td>SKIRTS</td>\n",
       "    </tr>\n",
       "    <tr>\n",
       "      <th>21</th>\n",
       "      <td>women</td>\n",
       "      <td>SKIRTS</td>\n",
       "      <td>long satin skirt</td>\n",
       "      <td>long skirt high elastic waist</td>\n",
       "      <td>SKIRTS</td>\n",
       "    </tr>\n",
       "    <tr>\n",
       "      <th>22</th>\n",
       "      <td>women</td>\n",
       "      <td>SKIRTS</td>\n",
       "      <td>knot midi skirt</td>\n",
       "      <td>highwaist flow midi skirt knot detail slit hem...</td>\n",
       "      <td>SKIRTS</td>\n",
       "    </tr>\n",
       "  </tbody>\n",
       "</table>\n",
       "</div>"
      ],
      "text/plain": [
       "   gender product_category                   product_name  \\\n",
       "18  women           SKIRTS             z denim midi skirt   \n",
       "19  women           SKIRTS  faux leather mini skirt chain   \n",
       "20  women           SKIRTS                   skort pocket   \n",
       "21  women           SKIRTS               long satin skirt   \n",
       "22  women           SKIRTS                knot midi skirt   \n",
       "\n",
       "                                              details final_category  \n",
       "18  fade highwaist skirt feature fivepocket design...         SKIRTS  \n",
       "19  highwaist mini skirt lining metal chain link i...         SKIRTS  \n",
       "20  midwaist skort adjustable elasticate waistband...         SKIRTS  \n",
       "21                      long skirt high elastic waist         SKIRTS  \n",
       "22  highwaist flow midi skirt knot detail slit hem...         SKIRTS  "
      ]
     },
     "execution_count": 48,
     "metadata": {},
     "output_type": "execute_result"
    }
   ],
   "source": [
    "clothes.head()"
   ]
  },
  {
   "cell_type": "code",
   "execution_count": 49,
   "metadata": {
    "execution": {
     "iopub.execute_input": "2025-10-28T17:12:03.665427Z",
     "iopub.status.busy": "2025-10-28T17:12:03.664908Z",
     "iopub.status.idle": "2025-10-28T17:12:03.681719Z",
     "shell.execute_reply": "2025-10-28T17:12:03.676967Z",
     "shell.execute_reply.started": "2025-10-28T17:12:03.665385Z"
    },
    "id": "8hn7jfnDOG_K"
   },
   "outputs": [],
   "source": [
    "clothes.loc[clothes[\"product_category\"].isin(ambiguous_cats), \"product_category\"] = clothes[\"final_category\"]\n",
    "\n",
    "clothes.drop(columns=[\"final_category\"], inplace=True)\n"
   ]
  },
  {
   "cell_type": "code",
   "execution_count": 50,
   "metadata": {
    "colab": {
     "base_uri": "https://localhost:8080/",
     "height": 206
    },
    "execution": {
     "iopub.execute_input": "2025-10-28T17:12:03.684331Z",
     "iopub.status.busy": "2025-10-28T17:12:03.683590Z",
     "iopub.status.idle": "2025-10-28T17:12:03.730470Z",
     "shell.execute_reply": "2025-10-28T17:12:03.727497Z",
     "shell.execute_reply.started": "2025-10-28T17:12:03.684276Z"
    },
    "id": "IqZe9-fjOTsl",
    "outputId": "f03765c4-7507-4f17-9687-b4d52c5d08cb"
   },
   "outputs": [
    {
     "data": {
      "text/html": [
       "<div>\n",
       "<style scoped>\n",
       "    .dataframe tbody tr th:only-of-type {\n",
       "        vertical-align: middle;\n",
       "    }\n",
       "\n",
       "    .dataframe tbody tr th {\n",
       "        vertical-align: top;\n",
       "    }\n",
       "\n",
       "    .dataframe thead th {\n",
       "        text-align: right;\n",
       "    }\n",
       "</style>\n",
       "<table border=\"1\" class=\"dataframe\">\n",
       "  <thead>\n",
       "    <tr style=\"text-align: right;\">\n",
       "      <th></th>\n",
       "      <th>gender</th>\n",
       "      <th>product_category</th>\n",
       "      <th>product_name</th>\n",
       "      <th>details</th>\n",
       "    </tr>\n",
       "  </thead>\n",
       "  <tbody>\n",
       "    <tr>\n",
       "      <th>18</th>\n",
       "      <td>women</td>\n",
       "      <td>SKIRTS</td>\n",
       "      <td>z denim midi skirt</td>\n",
       "      <td>fade highwaist skirt feature fivepocket design...</td>\n",
       "    </tr>\n",
       "    <tr>\n",
       "      <th>19</th>\n",
       "      <td>women</td>\n",
       "      <td>SKIRTS</td>\n",
       "      <td>faux leather mini skirt chain</td>\n",
       "      <td>highwaist mini skirt lining metal chain link i...</td>\n",
       "    </tr>\n",
       "    <tr>\n",
       "      <th>20</th>\n",
       "      <td>women</td>\n",
       "      <td>SKIRTS</td>\n",
       "      <td>skort pocket</td>\n",
       "      <td>midwaist skort adjustable elasticate waistband...</td>\n",
       "    </tr>\n",
       "    <tr>\n",
       "      <th>21</th>\n",
       "      <td>women</td>\n",
       "      <td>SKIRTS</td>\n",
       "      <td>long satin skirt</td>\n",
       "      <td>long skirt high elastic waist</td>\n",
       "    </tr>\n",
       "    <tr>\n",
       "      <th>22</th>\n",
       "      <td>women</td>\n",
       "      <td>SKIRTS</td>\n",
       "      <td>knot midi skirt</td>\n",
       "      <td>highwaist flow midi skirt knot detail slit hem...</td>\n",
       "    </tr>\n",
       "  </tbody>\n",
       "</table>\n",
       "</div>"
      ],
      "text/plain": [
       "   gender product_category                   product_name  \\\n",
       "18  women           SKIRTS             z denim midi skirt   \n",
       "19  women           SKIRTS  faux leather mini skirt chain   \n",
       "20  women           SKIRTS                   skort pocket   \n",
       "21  women           SKIRTS               long satin skirt   \n",
       "22  women           SKIRTS                knot midi skirt   \n",
       "\n",
       "                                              details  \n",
       "18  fade highwaist skirt feature fivepocket design...  \n",
       "19  highwaist mini skirt lining metal chain link i...  \n",
       "20  midwaist skort adjustable elasticate waistband...  \n",
       "21                      long skirt high elastic waist  \n",
       "22  highwaist flow midi skirt knot detail slit hem...  "
      ]
     },
     "execution_count": 50,
     "metadata": {},
     "output_type": "execute_result"
    }
   ],
   "source": [
    "\n",
    "clothes.to_csv(clothes_path, index=False)\n",
    "clothes.head()"
   ]
  },
  {
   "cell_type": "code",
   "execution_count": 51,
   "metadata": {
    "colab": {
     "base_uri": "https://localhost:8080/"
    },
    "execution": {
     "iopub.execute_input": "2025-10-28T17:12:03.732660Z",
     "iopub.status.busy": "2025-10-28T17:12:03.732063Z",
     "iopub.status.idle": "2025-10-28T17:12:03.744673Z",
     "shell.execute_reply": "2025-10-28T17:12:03.737463Z",
     "shell.execute_reply.started": "2025-10-28T17:12:03.732621Z"
    },
    "id": "RqxLIP4BOaYJ",
    "outputId": "c0810622-5ce8-4aa1-a3f3-f3d5705cbfe4"
   },
   "outputs": [
    {
     "name": "stdout",
     "output_type": "stream",
     "text": [
      "(3633, 4)\n"
     ]
    }
   ],
   "source": [
    "\n",
    "print(clothes.shape)\n"
   ]
  },
  {
   "cell_type": "code",
   "execution_count": 52,
   "metadata": {
    "execution": {
     "iopub.execute_input": "2025-10-28T17:17:19.072829Z",
     "iopub.status.busy": "2025-10-28T17:17:19.055144Z",
     "iopub.status.idle": "2025-10-28T17:17:19.291083Z",
     "shell.execute_reply": "2025-10-28T17:17:19.284812Z",
     "shell.execute_reply.started": "2025-10-28T17:17:19.072494Z"
    },
    "id": "ph4pxsRaIunb"
   },
   "outputs": [
    {
     "name": "stdout",
     "output_type": "stream",
     "text": [
      "          product_category category_type\n",
      "18                  SKIRTS        Bottom\n",
      "77                  SHIRTS           Top\n",
      "82                   JEANS        Bottom\n",
      "84                KNITWEAR           Top\n",
      "88                TROUSERS        Bottom\n",
      "89       WAISTCOATS_GILETS           Top\n",
      "90                 BLAZERS           Top\n",
      "94           SHORTS_SKORTS        Bottom\n",
      "96                 JACKETS           Top\n",
      "211      DRESSES_JUMPSUITS        Bottom\n",
      "961         TOPS_BODYSUITS           Top\n",
      "1069  T-SHIRTS_SWEATSHIRTS           Top\n",
      "1409           ACCESSORIES   Accessories\n",
      "1421                 SHOES         Shoes\n",
      "1440              T-SHIRTS           Top\n",
      "2064   HOODIES_SWEATSHIRTS           Top\n",
      "2075                SHORTS        Bottom\n",
      "2724            OVERSHIRTS           Top\n",
      "2749           POLO SHIRTS           Top\n",
      "2796                 SUITS         Other\n",
      "3014              SWIMWEAR         Other\n",
      "3665    SWEATERS_CARDIGANS           Top\n"
     ]
    }
   ],
   "source": [
    "# --- 1. Define lists for each broad category ---\n",
    "tops = [\n",
    "    \"T-SHIRTS\", \"SHIRTS\", \"BLAZERS\", \"JACKETS\", \"OVERSHIRTS\",\n",
    "    \"T-SHIRTS_SWEATSHIRTS\", \"HOODIES_SWEATSHIRTS\", \"POLO SHIRTS\",\n",
    "    \"SWEATERS_CARDIGANS\", \"WAISTCOATS_GILETS\", \"KNITWEAR\", \"TOPS_BODYSUITS\"\n",
    "]\n",
    "\n",
    "bottoms = [\n",
    "    \"TROUSERS\", \"JEANS\", \"SHORTS\", \"SKIRTS\", \"SHORTS_SKORTS\", \"DRESSES_JUMPSUITS\"\n",
    "]\n",
    "\n",
    "shoes = [\"SHOES\"]\n",
    "\n",
    "accessories = [\"ACCESSORIES\"]\n",
    "\n",
    "# --- 2. Define function to map product_category to category_type ---\n",
    "def assign_category_type(cat):\n",
    "    if cat in tops:\n",
    "        return \"Top\"\n",
    "    elif cat in bottoms:\n",
    "        return \"Bottom\"\n",
    "    elif cat in shoes:\n",
    "        return \"Shoes\"\n",
    "    elif cat in accessories:\n",
    "        return \"Accessories\"\n",
    "    else:\n",
    "        return \"Other\"\n",
    "\n",
    "# --- 3. Apply function to create new column ---\n",
    "clothes[\"category_type\"] = clothes[\"product_category\"].apply(assign_category_type)\n",
    "print(clothes[[\"product_category\", \"category_type\"]].drop_duplicates())\n"
   ]
  },
  {
   "cell_type": "code",
   "execution_count": 53,
   "metadata": {
    "execution": {
     "iopub.execute_input": "2025-10-28T17:18:24.157029Z",
     "iopub.status.busy": "2025-10-28T17:18:24.155905Z",
     "iopub.status.idle": "2025-10-28T17:18:24.297575Z",
     "shell.execute_reply": "2025-10-28T17:18:24.295273Z",
     "shell.execute_reply.started": "2025-10-28T17:18:24.157000Z"
    }
   },
   "outputs": [
    {
     "data": {
      "text/html": [
       "<div>\n",
       "<style scoped>\n",
       "    .dataframe tbody tr th:only-of-type {\n",
       "        vertical-align: middle;\n",
       "    }\n",
       "\n",
       "    .dataframe tbody tr th {\n",
       "        vertical-align: top;\n",
       "    }\n",
       "\n",
       "    .dataframe thead th {\n",
       "        text-align: right;\n",
       "    }\n",
       "</style>\n",
       "<table border=\"1\" class=\"dataframe\">\n",
       "  <thead>\n",
       "    <tr style=\"text-align: right;\">\n",
       "      <th></th>\n",
       "      <th>gender</th>\n",
       "      <th>product_category</th>\n",
       "      <th>product_name</th>\n",
       "      <th>details</th>\n",
       "      <th>category_type</th>\n",
       "    </tr>\n",
       "  </thead>\n",
       "  <tbody>\n",
       "    <tr>\n",
       "      <th>18</th>\n",
       "      <td>women</td>\n",
       "      <td>SKIRTS</td>\n",
       "      <td>z denim midi skirt</td>\n",
       "      <td>fade highwaist skirt feature fivepocket design...</td>\n",
       "      <td>Bottom</td>\n",
       "    </tr>\n",
       "    <tr>\n",
       "      <th>19</th>\n",
       "      <td>women</td>\n",
       "      <td>SKIRTS</td>\n",
       "      <td>faux leather mini skirt chain</td>\n",
       "      <td>highwaist mini skirt lining metal chain link i...</td>\n",
       "      <td>Bottom</td>\n",
       "    </tr>\n",
       "    <tr>\n",
       "      <th>20</th>\n",
       "      <td>women</td>\n",
       "      <td>SKIRTS</td>\n",
       "      <td>skort pocket</td>\n",
       "      <td>midwaist skort adjustable elasticate waistband...</td>\n",
       "      <td>Bottom</td>\n",
       "    </tr>\n",
       "    <tr>\n",
       "      <th>21</th>\n",
       "      <td>women</td>\n",
       "      <td>SKIRTS</td>\n",
       "      <td>long satin skirt</td>\n",
       "      <td>long skirt high elastic waist</td>\n",
       "      <td>Bottom</td>\n",
       "    </tr>\n",
       "    <tr>\n",
       "      <th>22</th>\n",
       "      <td>women</td>\n",
       "      <td>SKIRTS</td>\n",
       "      <td>knot midi skirt</td>\n",
       "      <td>highwaist flow midi skirt knot detail slit hem...</td>\n",
       "      <td>Bottom</td>\n",
       "    </tr>\n",
       "  </tbody>\n",
       "</table>\n",
       "</div>"
      ],
      "text/plain": [
       "   gender product_category                   product_name  \\\n",
       "18  women           SKIRTS             z denim midi skirt   \n",
       "19  women           SKIRTS  faux leather mini skirt chain   \n",
       "20  women           SKIRTS                   skort pocket   \n",
       "21  women           SKIRTS               long satin skirt   \n",
       "22  women           SKIRTS                knot midi skirt   \n",
       "\n",
       "                                              details category_type  \n",
       "18  fade highwaist skirt feature fivepocket design...        Bottom  \n",
       "19  highwaist mini skirt lining metal chain link i...        Bottom  \n",
       "20  midwaist skort adjustable elasticate waistband...        Bottom  \n",
       "21                      long skirt high elastic waist        Bottom  \n",
       "22  highwaist flow midi skirt knot detail slit hem...        Bottom  "
      ]
     },
     "execution_count": 53,
     "metadata": {},
     "output_type": "execute_result"
    }
   ],
   "source": [
    "clothes.to_csv(clothes_path, index=False)\n",
    "clothes.head()"
   ]
  },
  {
   "cell_type": "code",
   "execution_count": null,
   "metadata": {},
   "outputs": [],
   "source": []
  },
  {
   "cell_type": "code",
   "execution_count": 54,
   "metadata": {
    "execution": {
     "iopub.execute_input": "2025-10-28T17:22:55.920460Z",
     "iopub.status.busy": "2025-10-28T17:22:55.911254Z",
     "iopub.status.idle": "2025-10-28T17:22:56.025155Z",
     "shell.execute_reply": "2025-10-28T17:22:56.022852Z",
     "shell.execute_reply.started": "2025-10-28T17:22:55.919969Z"
    }
   },
   "outputs": [],
   "source": [
    "for cat in clothes[\"category_type\"].unique():\n",
    "    var_name = cat.replace(\" \", \"_\").lower() + \"_df\"\n",
    "    globals()[var_name] = clothes[clothes[\"category_type\"] == cat].copy()"
   ]
  },
  {
   "cell_type": "code",
   "execution_count": 58,
   "metadata": {
    "execution": {
     "iopub.execute_input": "2025-10-28T17:24:04.569960Z",
     "iopub.status.busy": "2025-10-28T17:24:04.569529Z",
     "iopub.status.idle": "2025-10-28T17:24:04.582036Z",
     "shell.execute_reply": "2025-10-28T17:24:04.579766Z",
     "shell.execute_reply.started": "2025-10-28T17:24:04.569936Z"
    }
   },
   "outputs": [
    {
     "data": {
      "text/html": [
       "<div>\n",
       "<style scoped>\n",
       "    .dataframe tbody tr th:only-of-type {\n",
       "        vertical-align: middle;\n",
       "    }\n",
       "\n",
       "    .dataframe tbody tr th {\n",
       "        vertical-align: top;\n",
       "    }\n",
       "\n",
       "    .dataframe thead th {\n",
       "        text-align: right;\n",
       "    }\n",
       "</style>\n",
       "<table border=\"1\" class=\"dataframe\">\n",
       "  <thead>\n",
       "    <tr style=\"text-align: right;\">\n",
       "      <th></th>\n",
       "      <th>gender</th>\n",
       "      <th>product_category</th>\n",
       "      <th>product_name</th>\n",
       "      <th>details</th>\n",
       "      <th>category_type</th>\n",
       "    </tr>\n",
       "  </thead>\n",
       "  <tbody>\n",
       "    <tr>\n",
       "      <th>77</th>\n",
       "      <td>women</td>\n",
       "      <td>SHIRTS</td>\n",
       "      <td>poplin shirt</td>\n",
       "      <td>collar vneck shirt long sleeve buttonup</td>\n",
       "      <td>Top</td>\n",
       "    </tr>\n",
       "    <tr>\n",
       "      <th>78</th>\n",
       "      <td>women</td>\n",
       "      <td>SHIRTS</td>\n",
       "      <td>poplin shirt</td>\n",
       "      <td>shirt johnny collar long sleeve buttonup</td>\n",
       "      <td>Top</td>\n",
       "    </tr>\n",
       "    <tr>\n",
       "      <th>79</th>\n",
       "      <td>women</td>\n",
       "      <td>SHIRTS</td>\n",
       "      <td>cotton blend oxford shirt</td>\n",
       "      <td>shirt cotton blend johnny collar long sleeve a...</td>\n",
       "      <td>Top</td>\n",
       "    </tr>\n",
       "    <tr>\n",
       "      <th>80</th>\n",
       "      <td>women</td>\n",
       "      <td>SHIRTS</td>\n",
       "      <td>oxford shirt</td>\n",
       "      <td>shirt cotton blend johnny collar long sleeve b...</td>\n",
       "      <td>Top</td>\n",
       "    </tr>\n",
       "    <tr>\n",
       "      <th>81</th>\n",
       "      <td>women</td>\n",
       "      <td>SHIRTS</td>\n",
       "      <td>stripe oversize shirt</td>\n",
       "      <td>loosefitte shirt feature johnny collar long sl...</td>\n",
       "      <td>Top</td>\n",
       "    </tr>\n",
       "  </tbody>\n",
       "</table>\n",
       "</div>"
      ],
      "text/plain": [
       "   gender product_category               product_name  \\\n",
       "77  women           SHIRTS               poplin shirt   \n",
       "78  women           SHIRTS               poplin shirt   \n",
       "79  women           SHIRTS  cotton blend oxford shirt   \n",
       "80  women           SHIRTS               oxford shirt   \n",
       "81  women           SHIRTS      stripe oversize shirt   \n",
       "\n",
       "                                              details category_type  \n",
       "77            collar vneck shirt long sleeve buttonup           Top  \n",
       "78           shirt johnny collar long sleeve buttonup           Top  \n",
       "79  shirt cotton blend johnny collar long sleeve a...           Top  \n",
       "80  shirt cotton blend johnny collar long sleeve b...           Top  \n",
       "81  loosefitte shirt feature johnny collar long sl...           Top  "
      ]
     },
     "execution_count": 58,
     "metadata": {},
     "output_type": "execute_result"
    }
   ],
   "source": [
    "top_df.head()"
   ]
  },
  {
   "cell_type": "code",
   "execution_count": null,
   "metadata": {},
   "outputs": [],
   "source": []
  }
 ],
 "metadata": {
  "colab": {
   "provenance": []
  },
  "kernelspec": {
   "display_name": "Python 3 (ipykernel)",
   "language": "python",
   "name": "python3"
  },
  "language_info": {
   "codemirror_mode": {
    "name": "ipython",
    "version": 3
   },
   "file_extension": ".py",
   "mimetype": "text/x-python",
   "name": "python",
   "nbconvert_exporter": "python",
   "pygments_lexer": "ipython3",
   "version": "3.10.6"
  }
 },
 "nbformat": 4,
 "nbformat_minor": 4
}
