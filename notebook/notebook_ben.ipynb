{
 "cells": [
  {
   "cell_type": "markdown",
   "id": "ee623800",
   "metadata": {},
   "source": [
    "# Import packages"
   ]
  },
  {
   "cell_type": "code",
   "execution_count": 215,
   "id": "f9306c38-2aeb-420c-a9cd-29ba61c8e531",
   "metadata": {
    "execution": {
     "iopub.execute_input": "2025-10-27T16:36:32.353448Z",
     "iopub.status.busy": "2025-10-27T16:36:32.353076Z",
     "iopub.status.idle": "2025-10-27T16:36:33.435504Z",
     "shell.execute_reply": "2025-10-27T16:36:33.432473Z",
     "shell.execute_reply.started": "2025-10-27T16:36:32.353411Z"
    }
   },
   "outputs": [],
   "source": [
    "import openmeteo_requests\n",
    "import pandas as pd\n",
    "import requests_cache\n",
    "from retry_requests import retry\n",
    "import matplotlib.pyplot as plt\n",
    "import numpy as np\n",
    "\n",
    "from typing import Dict, List, Tuple, Sequence\n"
   ]
  },
  {
   "cell_type": "markdown",
   "id": "60606c07",
   "metadata": {},
   "source": [
    "# Import raw weather data from Open-Meteo API"
   ]
  },
  {
   "cell_type": "code",
   "execution_count": 216,
   "id": "1d3132e9-0df2-42f9-93a1-ba637c65c00f",
   "metadata": {
    "execution": {
     "iopub.execute_input": "2025-10-27T16:36:41.673628Z",
     "iopub.status.busy": "2025-10-27T16:36:41.672878Z",
     "iopub.status.idle": "2025-10-27T16:36:42.571934Z",
     "shell.execute_reply": "2025-10-27T16:36:42.569962Z",
     "shell.execute_reply.started": "2025-10-27T16:36:41.673580Z"
    },
    "scrolled": true
   },
   "outputs": [
    {
     "name": "stdout",
     "output_type": "stream",
     "text": [
      "Coordinates: 52.5483283996582°N 13.407821655273438°E\n",
      "Elevation: 38.0 m asl\n",
      "Timezone: b'Europe/Berlin'b'GMT+1'\n",
      "Timezone difference to GMT+0: 3600s\n",
      "\n",
      "Hourly data\n",
      "                            date  temperature_2m  relative_humidity_2m  \\\n",
      "0     2020-10-14 23:00:00+00:00       10.308500             93.205261   \n",
      "1     2020-10-15 00:00:00+00:00       10.608500             92.596809   \n",
      "2     2020-10-15 01:00:00+00:00       10.408501             93.524292   \n",
      "3     2020-10-15 02:00:00+00:00       10.358500             93.207855   \n",
      "4     2020-10-15 03:00:00+00:00       10.458500             90.736458   \n",
      "...                         ...             ...                   ...   \n",
      "43843 2025-10-15 18:00:00+00:00       11.758500             86.669823   \n",
      "43844 2025-10-15 19:00:00+00:00       11.608500             87.826500   \n",
      "43845 2025-10-15 20:00:00+00:00       11.558500             87.234390   \n",
      "43846 2025-10-15 21:00:00+00:00       11.508500             87.229691   \n",
      "43847 2025-10-15 22:00:00+00:00       11.308500             88.689003   \n",
      "\n",
      "       dew_point_2m  apparent_temperature  rain  wind_speed_10m  cloud_cover  \\\n",
      "0          9.258500              7.490734   0.3       18.014393        100.0   \n",
      "1          9.458500              8.003060   0.1       16.935310         99.0   \n",
      "2          9.408501              7.789260   0.1       16.935310        100.0   \n",
      "3          9.308500              7.229817   0.1       20.240196        100.0   \n",
      "4          9.008500              7.118605   0.0       21.129885        100.0   \n",
      "...             ...                   ...   ...             ...          ...   \n",
      "43843      9.608500             10.796570   0.0        5.950899        100.0   \n",
      "43844      9.658501             10.686743   0.0        5.771239        100.0   \n",
      "43845      9.508500             10.426756   0.0        6.924738        100.0   \n",
      "43846      9.458500             10.183384   0.0        8.155807        100.0   \n",
      "43847      9.508500             10.146514   0.0        7.132181        100.0   \n",
      "\n",
      "       pressure_msl  \n",
      "0       1010.400024  \n",
      "1       1011.000000  \n",
      "2       1011.200012  \n",
      "3       1011.299988  \n",
      "4       1011.599976  \n",
      "...             ...  \n",
      "43843   1024.099976  \n",
      "43844   1023.900024  \n",
      "43845   1023.599976  \n",
      "43846   1023.500000  \n",
      "43847   1023.299988  \n",
      "\n",
      "[43848 rows x 9 columns]\n"
     ]
    }
   ],
   "source": [
    "# Setup the Open-Meteo API client with cache and retry on error\n",
    "cache_session = requests_cache.CachedSession('.cache', expire_after = -1)\n",
    "retry_session = retry(cache_session, retries = 5, backoff_factor = 0.2)\n",
    "openmeteo = openmeteo_requests.Client(session = retry_session)\n",
    "\n",
    "# Make sure all required weather variables are listed here\n",
    "# The order of variables in hourly or daily is important to assign them correctly below\n",
    "url = \"https://archive-api.open-meteo.com/v1/archive\"\n",
    "params = {\n",
    "\t\"latitude\": 52.52,\n",
    "\t\"longitude\": 13.41,\n",
    "\t\"start_date\": \"2020-10-15\",\n",
    "\t\"end_date\": \"2025-10-15\",\n",
    "\t\"hourly\": [\"temperature_2m\", \"relative_humidity_2m\", \"dew_point_2m\", \"apparent_temperature\", \"rain\", \"wind_speed_10m\", \"cloud_cover\", \"pressure_msl\"],\n",
    "\t\"timezone\": \"Europe/Berlin\",\n",
    "}\n",
    "responses = openmeteo.weather_api(url, params=params)\n",
    "\n",
    "# Process first location. Add a for-loop for multiple locations or weather models\n",
    "response = responses[0]\n",
    "print(f\"Coordinates: {response.Latitude()}°N {response.Longitude()}°E\")\n",
    "print(f\"Elevation: {response.Elevation()} m asl\")\n",
    "print(f\"Timezone: {response.Timezone()}{response.TimezoneAbbreviation()}\")\n",
    "print(f\"Timezone difference to GMT+0: {response.UtcOffsetSeconds()}s\")\n",
    "\n",
    "# Process hourly data. The order of variables needs to be the same as requested.\n",
    "hourly = response.Hourly()\n",
    "hourly_temperature_2m = hourly.Variables(0).ValuesAsNumpy()\n",
    "hourly_relative_humidity_2m = hourly.Variables(1).ValuesAsNumpy()\n",
    "hourly_dew_point_2m = hourly.Variables(2).ValuesAsNumpy()\n",
    "hourly_apparent_temperature = hourly.Variables(3).ValuesAsNumpy()\n",
    "hourly_rain = hourly.Variables(4).ValuesAsNumpy()\n",
    "hourly_wind_speed_10m = hourly.Variables(5).ValuesAsNumpy()\n",
    "hourly_cloud_cover = hourly.Variables(6).ValuesAsNumpy()\n",
    "hourly_pressure_msl = hourly.Variables(7).ValuesAsNumpy()\n",
    "\n",
    "hourly_data = {\"date\": pd.date_range(\n",
    "\tstart = pd.to_datetime(hourly.Time(), unit = \"s\", utc = True),\n",
    "\tend = pd.to_datetime(hourly.TimeEnd(), unit = \"s\", utc = True),\n",
    "\tfreq = pd.Timedelta(seconds = hourly.Interval()),\n",
    "\tinclusive = \"left\"\n",
    ")}\n",
    "\n",
    "hourly_data[\"temperature_2m\"] = hourly_temperature_2m\n",
    "hourly_data[\"relative_humidity_2m\"] = hourly_relative_humidity_2m\n",
    "hourly_data[\"dew_point_2m\"] = hourly_dew_point_2m\n",
    "hourly_data[\"apparent_temperature\"] = hourly_apparent_temperature\n",
    "hourly_data[\"rain\"] = hourly_rain\n",
    "hourly_data[\"wind_speed_10m\"] = hourly_wind_speed_10m\n",
    "hourly_data[\"cloud_cover\"] = hourly_cloud_cover\n",
    "hourly_data[\"pressure_msl\"] = hourly_pressure_msl\n",
    "\n",
    "hourly_dataframe = pd.DataFrame(data = hourly_data)\n",
    "print(\"\\nHourly data\\n\", hourly_dataframe)"
   ]
  },
  {
   "cell_type": "code",
   "execution_count": 217,
   "id": "bffa522c-9840-4cd7-8472-dc472a44e536",
   "metadata": {},
   "outputs": [],
   "source": [
    "#hourly_dataframe.to_csv(\"./raw_data/weather_data_20221015-20251015.csv\")"
   ]
  },
  {
   "cell_type": "markdown",
   "id": "0e10b149",
   "metadata": {},
   "source": [
    "# Data exploration and additional variables"
   ]
  },
  {
   "cell_type": "code",
   "execution_count": 218,
   "id": "b824b558-d7e8-4f63-aee2-e6c72c72aff0",
   "metadata": {},
   "outputs": [
    {
     "data": {
      "text/plain": [
       "(43848, 9)"
      ]
     },
     "execution_count": 218,
     "metadata": {},
     "output_type": "execute_result"
    }
   ],
   "source": [
    "hourly_dataframe.shape"
   ]
  },
  {
   "cell_type": "code",
   "execution_count": 219,
   "id": "69770664",
   "metadata": {},
   "outputs": [
    {
     "data": {
      "text/plain": [
       "date                    datetime64[ns, UTC]\n",
       "temperature_2m                      float32\n",
       "relative_humidity_2m                float32\n",
       "dew_point_2m                        float32\n",
       "apparent_temperature                float32\n",
       "rain                                float32\n",
       "wind_speed_10m                      float32\n",
       "cloud_cover                         float32\n",
       "pressure_msl                        float32\n",
       "dtype: object"
      ]
     },
     "execution_count": 219,
     "metadata": {},
     "output_type": "execute_result"
    }
   ],
   "source": [
    "hourly_dataframe.dtypes"
   ]
  },
  {
   "cell_type": "code",
   "execution_count": 220,
   "id": "cf583b52",
   "metadata": {},
   "outputs": [
    {
     "data": {
      "text/html": [
       "<div>\n",
       "<style scoped>\n",
       "    .dataframe tbody tr th:only-of-type {\n",
       "        vertical-align: middle;\n",
       "    }\n",
       "\n",
       "    .dataframe tbody tr th {\n",
       "        vertical-align: top;\n",
       "    }\n",
       "\n",
       "    .dataframe thead th {\n",
       "        text-align: right;\n",
       "    }\n",
       "</style>\n",
       "<table border=\"1\" class=\"dataframe\">\n",
       "  <thead>\n",
       "    <tr style=\"text-align: right;\">\n",
       "      <th></th>\n",
       "      <th>temperature_2m</th>\n",
       "      <th>relative_humidity_2m</th>\n",
       "      <th>dew_point_2m</th>\n",
       "      <th>apparent_temperature</th>\n",
       "      <th>rain</th>\n",
       "      <th>wind_speed_10m</th>\n",
       "      <th>cloud_cover</th>\n",
       "      <th>pressure_msl</th>\n",
       "    </tr>\n",
       "  </thead>\n",
       "  <tbody>\n",
       "    <tr>\n",
       "      <th>count</th>\n",
       "      <td>43848.000000</td>\n",
       "      <td>43848.000000</td>\n",
       "      <td>43848.000000</td>\n",
       "      <td>43848.000000</td>\n",
       "      <td>43848.000000</td>\n",
       "      <td>43848.000000</td>\n",
       "      <td>43848.000000</td>\n",
       "      <td>43848.000000</td>\n",
       "    </tr>\n",
       "    <tr>\n",
       "      <th>mean</th>\n",
       "      <td>10.969949</td>\n",
       "      <td>75.118752</td>\n",
       "      <td>6.133422</td>\n",
       "      <td>8.407594</td>\n",
       "      <td>0.068352</td>\n",
       "      <td>13.076891</td>\n",
       "      <td>67.152321</td>\n",
       "      <td>1015.805786</td>\n",
       "    </tr>\n",
       "    <tr>\n",
       "      <th>std</th>\n",
       "      <td>8.132426</td>\n",
       "      <td>17.685669</td>\n",
       "      <td>6.264606</td>\n",
       "      <td>9.509990</td>\n",
       "      <td>0.339710</td>\n",
       "      <td>6.379364</td>\n",
       "      <td>39.591610</td>\n",
       "      <td>9.596687</td>\n",
       "    </tr>\n",
       "    <tr>\n",
       "      <th>min</th>\n",
       "      <td>-14.891500</td>\n",
       "      <td>11.133884</td>\n",
       "      <td>-16.441500</td>\n",
       "      <td>-20.370838</td>\n",
       "      <td>0.000000</td>\n",
       "      <td>0.000000</td>\n",
       "      <td>0.000000</td>\n",
       "      <td>978.599976</td>\n",
       "    </tr>\n",
       "    <tr>\n",
       "      <th>25%</th>\n",
       "      <td>4.658500</td>\n",
       "      <td>63.571275</td>\n",
       "      <td>1.658500</td>\n",
       "      <td>0.769679</td>\n",
       "      <td>0.000000</td>\n",
       "      <td>8.311245</td>\n",
       "      <td>27.000000</td>\n",
       "      <td>1009.900024</td>\n",
       "    </tr>\n",
       "    <tr>\n",
       "      <th>50%</th>\n",
       "      <td>10.608500</td>\n",
       "      <td>79.578133</td>\n",
       "      <td>6.258500</td>\n",
       "      <td>7.782395</td>\n",
       "      <td>0.000000</td>\n",
       "      <td>12.074766</td>\n",
       "      <td>94.000000</td>\n",
       "      <td>1016.200012</td>\n",
       "    </tr>\n",
       "    <tr>\n",
       "      <th>75%</th>\n",
       "      <td>17.008501</td>\n",
       "      <td>89.670626</td>\n",
       "      <td>10.958500</td>\n",
       "      <td>15.833138</td>\n",
       "      <td>0.000000</td>\n",
       "      <td>16.781561</td>\n",
       "      <td>100.000000</td>\n",
       "      <td>1022.099976</td>\n",
       "    </tr>\n",
       "    <tr>\n",
       "      <th>max</th>\n",
       "      <td>37.708500</td>\n",
       "      <td>100.000000</td>\n",
       "      <td>21.358500</td>\n",
       "      <td>36.522781</td>\n",
       "      <td>13.700000</td>\n",
       "      <td>49.743870</td>\n",
       "      <td>100.000000</td>\n",
       "      <td>1046.300049</td>\n",
       "    </tr>\n",
       "  </tbody>\n",
       "</table>\n",
       "</div>"
      ],
      "text/plain": [
       "       temperature_2m  relative_humidity_2m  dew_point_2m  \\\n",
       "count    43848.000000          43848.000000  43848.000000   \n",
       "mean        10.969949             75.118752      6.133422   \n",
       "std          8.132426             17.685669      6.264606   \n",
       "min        -14.891500             11.133884    -16.441500   \n",
       "25%          4.658500             63.571275      1.658500   \n",
       "50%         10.608500             79.578133      6.258500   \n",
       "75%         17.008501             89.670626     10.958500   \n",
       "max         37.708500            100.000000     21.358500   \n",
       "\n",
       "       apparent_temperature          rain  wind_speed_10m   cloud_cover  \\\n",
       "count          43848.000000  43848.000000    43848.000000  43848.000000   \n",
       "mean               8.407594      0.068352       13.076891     67.152321   \n",
       "std                9.509990      0.339710        6.379364     39.591610   \n",
       "min              -20.370838      0.000000        0.000000      0.000000   \n",
       "25%                0.769679      0.000000        8.311245     27.000000   \n",
       "50%                7.782395      0.000000       12.074766     94.000000   \n",
       "75%               15.833138      0.000000       16.781561    100.000000   \n",
       "max               36.522781     13.700000       49.743870    100.000000   \n",
       "\n",
       "       pressure_msl  \n",
       "count  43848.000000  \n",
       "mean    1015.805786  \n",
       "std        9.596687  \n",
       "min      978.599976  \n",
       "25%     1009.900024  \n",
       "50%     1016.200012  \n",
       "75%     1022.099976  \n",
       "max     1046.300049  "
      ]
     },
     "execution_count": 220,
     "metadata": {},
     "output_type": "execute_result"
    }
   ],
   "source": [
    "#Check basic statistics\n",
    "hourly_dataframe.describe()"
   ]
  },
  {
   "cell_type": "code",
   "execution_count": 221,
   "id": "f01917b9",
   "metadata": {},
   "outputs": [
    {
     "data": {
      "text/plain": [
       "date                    0\n",
       "temperature_2m          0\n",
       "relative_humidity_2m    0\n",
       "dew_point_2m            0\n",
       "apparent_temperature    0\n",
       "rain                    0\n",
       "wind_speed_10m          0\n",
       "cloud_cover             0\n",
       "pressure_msl            0\n",
       "dtype: int64"
      ]
     },
     "execution_count": 221,
     "metadata": {},
     "output_type": "execute_result"
    }
   ],
   "source": [
    "#check null values\n",
    "hourly_dataframe.isnull().sum()"
   ]
  },
  {
   "cell_type": "code",
   "execution_count": 222,
   "id": "c712d144",
   "metadata": {},
   "outputs": [],
   "source": [
    "hourly_dataframe.set_index('date',inplace = True, drop = True)"
   ]
  },
  {
   "cell_type": "code",
   "execution_count": 223,
   "id": "c643fc2f",
   "metadata": {},
   "outputs": [
    {
     "data": {
      "text/html": [
       "<div>\n",
       "<style scoped>\n",
       "    .dataframe tbody tr th:only-of-type {\n",
       "        vertical-align: middle;\n",
       "    }\n",
       "\n",
       "    .dataframe tbody tr th {\n",
       "        vertical-align: top;\n",
       "    }\n",
       "\n",
       "    .dataframe thead th {\n",
       "        text-align: right;\n",
       "    }\n",
       "</style>\n",
       "<table border=\"1\" class=\"dataframe\">\n",
       "  <thead>\n",
       "    <tr style=\"text-align: right;\">\n",
       "      <th></th>\n",
       "      <th>temperature_2m</th>\n",
       "      <th>relative_humidity_2m</th>\n",
       "      <th>dew_point_2m</th>\n",
       "      <th>apparent_temperature</th>\n",
       "      <th>rain</th>\n",
       "      <th>wind_speed_10m</th>\n",
       "      <th>cloud_cover</th>\n",
       "      <th>pressure_msl</th>\n",
       "    </tr>\n",
       "    <tr>\n",
       "      <th>date</th>\n",
       "      <th></th>\n",
       "      <th></th>\n",
       "      <th></th>\n",
       "      <th></th>\n",
       "      <th></th>\n",
       "      <th></th>\n",
       "      <th></th>\n",
       "      <th></th>\n",
       "    </tr>\n",
       "  </thead>\n",
       "  <tbody>\n",
       "    <tr>\n",
       "      <th>2020-10-14 23:00:00+00:00</th>\n",
       "      <td>10.308500</td>\n",
       "      <td>93.205261</td>\n",
       "      <td>9.258500</td>\n",
       "      <td>7.490734</td>\n",
       "      <td>0.3</td>\n",
       "      <td>18.014393</td>\n",
       "      <td>100.0</td>\n",
       "      <td>1010.400024</td>\n",
       "    </tr>\n",
       "    <tr>\n",
       "      <th>2020-10-15 00:00:00+00:00</th>\n",
       "      <td>10.608500</td>\n",
       "      <td>92.596809</td>\n",
       "      <td>9.458500</td>\n",
       "      <td>8.003060</td>\n",
       "      <td>0.1</td>\n",
       "      <td>16.935310</td>\n",
       "      <td>99.0</td>\n",
       "      <td>1011.000000</td>\n",
       "    </tr>\n",
       "    <tr>\n",
       "      <th>2020-10-15 01:00:00+00:00</th>\n",
       "      <td>10.408501</td>\n",
       "      <td>93.524292</td>\n",
       "      <td>9.408501</td>\n",
       "      <td>7.789260</td>\n",
       "      <td>0.1</td>\n",
       "      <td>16.935310</td>\n",
       "      <td>100.0</td>\n",
       "      <td>1011.200012</td>\n",
       "    </tr>\n",
       "    <tr>\n",
       "      <th>2020-10-15 02:00:00+00:00</th>\n",
       "      <td>10.358500</td>\n",
       "      <td>93.207855</td>\n",
       "      <td>9.308500</td>\n",
       "      <td>7.229817</td>\n",
       "      <td>0.1</td>\n",
       "      <td>20.240196</td>\n",
       "      <td>100.0</td>\n",
       "      <td>1011.299988</td>\n",
       "    </tr>\n",
       "    <tr>\n",
       "      <th>2020-10-15 03:00:00+00:00</th>\n",
       "      <td>10.458500</td>\n",
       "      <td>90.736458</td>\n",
       "      <td>9.008500</td>\n",
       "      <td>7.118605</td>\n",
       "      <td>0.0</td>\n",
       "      <td>21.129885</td>\n",
       "      <td>100.0</td>\n",
       "      <td>1011.599976</td>\n",
       "    </tr>\n",
       "  </tbody>\n",
       "</table>\n",
       "</div>"
      ],
      "text/plain": [
       "                           temperature_2m  relative_humidity_2m  dew_point_2m  \\\n",
       "date                                                                            \n",
       "2020-10-14 23:00:00+00:00       10.308500             93.205261      9.258500   \n",
       "2020-10-15 00:00:00+00:00       10.608500             92.596809      9.458500   \n",
       "2020-10-15 01:00:00+00:00       10.408501             93.524292      9.408501   \n",
       "2020-10-15 02:00:00+00:00       10.358500             93.207855      9.308500   \n",
       "2020-10-15 03:00:00+00:00       10.458500             90.736458      9.008500   \n",
       "\n",
       "                           apparent_temperature  rain  wind_speed_10m  \\\n",
       "date                                                                    \n",
       "2020-10-14 23:00:00+00:00              7.490734   0.3       18.014393   \n",
       "2020-10-15 00:00:00+00:00              8.003060   0.1       16.935310   \n",
       "2020-10-15 01:00:00+00:00              7.789260   0.1       16.935310   \n",
       "2020-10-15 02:00:00+00:00              7.229817   0.1       20.240196   \n",
       "2020-10-15 03:00:00+00:00              7.118605   0.0       21.129885   \n",
       "\n",
       "                           cloud_cover  pressure_msl  \n",
       "date                                                  \n",
       "2020-10-14 23:00:00+00:00        100.0   1010.400024  \n",
       "2020-10-15 00:00:00+00:00         99.0   1011.000000  \n",
       "2020-10-15 01:00:00+00:00        100.0   1011.200012  \n",
       "2020-10-15 02:00:00+00:00        100.0   1011.299988  \n",
       "2020-10-15 03:00:00+00:00        100.0   1011.599976  "
      ]
     },
     "execution_count": 223,
     "metadata": {},
     "output_type": "execute_result"
    }
   ],
   "source": [
    "hourly_dataframe.head()"
   ]
  },
  {
   "cell_type": "code",
   "execution_count": 224,
   "id": "fefe0cbc",
   "metadata": {},
   "outputs": [
    {
     "data": {
      "image/png": "[encoded data removed]",
      "text/plain": [
       "<Figure size 1500x400 with 8 Axes>"
      ]
     },
     "metadata": {},
     "output_type": "display_data"
    }
   ],
   "source": [
    "#Plot every variable to check if we have obvious outliers\n",
    "fig, ax = plt.subplots(2,4, figsize = (15,4))\n",
    "axes = ax.flatten()\n",
    "\n",
    "for i, a in enumerate(axes):\n",
    "    a.plot(hourly_dataframe.iloc[:,i])\n",
    "    a.set_title(f\"{hourly_dataframe.columns[i]}\")\n",
    "\n",
    "plt.tight_layout()\n",
    "plt.show()"
   ]
  },
  {
   "cell_type": "code",
   "execution_count": 225,
   "id": "d57d554c",
   "metadata": {},
   "outputs": [
    {
     "name": "stdout",
     "output_type": "stream",
     "text": [
      "Expected number of rows : 43848\n",
      "Actual number of rows : 43848\n",
      "Missing rows : 0\n"
     ]
    }
   ],
   "source": [
    "# Check if we have missing rows\n",
    "\n",
    "# nb of rows expected\n",
    "expected_rows= int((hourly_dataframe.index.max(\n",
    ") - hourly_dataframe.index.min()).total_seconds() / 3600) +1\n",
    "print(f'Expected number of rows : {expected_rows}')\n",
    "\n",
    "# Current rows\n",
    "actual_rows = len(hourly_dataframe)\n",
    "print(f'Actual number of rows : {actual_rows}')\n",
    "\n",
    "#Missing rows\n",
    "missing_rows = expected_rows - actual_rows\n",
    "print(f'Missing rows : {missing_rows}')\n"
   ]
  },
  {
   "cell_type": "code",
   "execution_count": null,
   "id": "a94555f6",
   "metadata": {},
   "outputs": [],
   "source": [
    "def fill_missing_timestamps(df:pd.DataFrame)->pd.DataFrame:\n",
    "    '''\n",
    "    Check if some rows are missing; fill them with linear interpolation and return\n",
    "    the full dataframe.\n",
    "    Datetime data have to be the index.\n",
    "    '''\n",
    "    full_index = pd.date_range(start=df.index.min(),\n",
    "                           end=df.index.max(),\n",
    "                           freq='h')\n",
    "\n",
    "    missing_timestamps = full_index.difference(df.index)\n",
    "\n",
    "    df = df.reindex(full_index)\n",
    "    df= df.interpolate(method='linear')\n",
    "    df.index.name = 'datetime'\n",
    "    if len(missing_timestamps) != 0:\n",
    "        print(f\"{len(missing_timestamps)} missing timestamp(s) interpolated\")\n",
    "    return df\n"
   ]
  },
  {
   "cell_type": "code",
   "execution_count": 242,
   "id": "daee3308",
   "metadata": {},
   "outputs": [],
   "source": [
    "hourly_dataframe = fill_missing_timestamps(hourly_dataframe)"
   ]
  },
  {
   "cell_type": "code",
   "execution_count": 12,
   "id": "742a2ddb",
   "metadata": {},
   "outputs": [],
   "source": [
    "#Retrieve data as a variable\n",
    "hourly_dataframe = hourly_dataframe.reset_index().rename(columns={'index': 'date'})"
   ]
  },
  {
   "cell_type": "code",
   "execution_count": 13,
   "id": "d965c107",
   "metadata": {},
   "outputs": [],
   "source": [
    "#Create cyclical variables\n",
    "#NB : if we finally decide to take more years in the dataset, then we should compute cyclical variables\n",
    "#for the year\n",
    "hourly_dataframe['Day_of_Year_sin'] = np.sin(2 * np.pi * hourly_dataframe['date'].dt.dayofyear / 365)\n",
    "hourly_dataframe['Day_of_Year_cos'] = np.cos(2 * np.pi * hourly_dataframe['date'].dt.dayofyear / 365)\n",
    "hourly_dataframe['Day_of_Week_sin'] = np.sin(2 * np.pi * hourly_dataframe['date'].dt.weekday / 7)\n",
    "hourly_dataframe['Day_of_Week_cos'] = np.cos(2 * np.pi * hourly_dataframe['date'].dt.weekday / 7)\n",
    "hourly_dataframe['Hour_sin'] = np.sin(2 * np.pi * hourly_dataframe['date'].dt.hour / 24)\n",
    "hourly_dataframe['Hour_cos'] = np.cos(2 * np.pi * hourly_dataframe['date'].dt.hour / 24)"
   ]
  },
  {
   "cell_type": "code",
   "execution_count": 14,
   "id": "9b9f4857",
   "metadata": {},
   "outputs": [
    {
     "data": {
      "text/html": [
       "<div>\n",
       "<style scoped>\n",
       "    .dataframe tbody tr th:only-of-type {\n",
       "        vertical-align: middle;\n",
       "    }\n",
       "\n",
       "    .dataframe tbody tr th {\n",
       "        vertical-align: top;\n",
       "    }\n",
       "\n",
       "    .dataframe thead th {\n",
       "        text-align: right;\n",
       "    }\n",
       "</style>\n",
       "<table border=\"1\" class=\"dataframe\">\n",
       "  <thead>\n",
       "    <tr style=\"text-align: right;\">\n",
       "      <th></th>\n",
       "      <th>date</th>\n",
       "      <th>temperature_2m</th>\n",
       "      <th>relative_humidity_2m</th>\n",
       "      <th>dew_point_2m</th>\n",
       "      <th>apparent_temperature</th>\n",
       "      <th>rain</th>\n",
       "      <th>wind_speed_10m</th>\n",
       "      <th>cloud_cover</th>\n",
       "      <th>pressure_msl</th>\n",
       "      <th>Day_of_Year_sin</th>\n",
       "      <th>Day_of_Year_cos</th>\n",
       "      <th>Day_of_Week_sin</th>\n",
       "      <th>Day_of_Week_cos</th>\n",
       "      <th>Hour_sin</th>\n",
       "      <th>Hour_cos</th>\n",
       "    </tr>\n",
       "  </thead>\n",
       "  <tbody>\n",
       "    <tr>\n",
       "      <th>0</th>\n",
       "      <td>2020-10-14 23:00:00+00:00</td>\n",
       "      <td>10.308500</td>\n",
       "      <td>93.205261</td>\n",
       "      <td>9.258500</td>\n",
       "      <td>7.490734</td>\n",
       "      <td>0.3</td>\n",
       "      <td>18.014393</td>\n",
       "      <td>100.0</td>\n",
       "      <td>1010.400024</td>\n",
       "      <td>-0.970064</td>\n",
       "      <td>0.242850</td>\n",
       "      <td>0.974928</td>\n",
       "      <td>-0.222521</td>\n",
       "      <td>-0.258819</td>\n",
       "      <td>0.965926</td>\n",
       "    </tr>\n",
       "    <tr>\n",
       "      <th>1</th>\n",
       "      <td>2020-10-15 00:00:00+00:00</td>\n",
       "      <td>10.608500</td>\n",
       "      <td>92.596809</td>\n",
       "      <td>9.458500</td>\n",
       "      <td>8.003060</td>\n",
       "      <td>0.1</td>\n",
       "      <td>16.935310</td>\n",
       "      <td>99.0</td>\n",
       "      <td>1011.000000</td>\n",
       "      <td>-0.965740</td>\n",
       "      <td>0.259512</td>\n",
       "      <td>0.433884</td>\n",
       "      <td>-0.900969</td>\n",
       "      <td>0.000000</td>\n",
       "      <td>1.000000</td>\n",
       "    </tr>\n",
       "    <tr>\n",
       "      <th>2</th>\n",
       "      <td>2020-10-15 01:00:00+00:00</td>\n",
       "      <td>10.408501</td>\n",
       "      <td>93.524292</td>\n",
       "      <td>9.408501</td>\n",
       "      <td>7.789260</td>\n",
       "      <td>0.1</td>\n",
       "      <td>16.935310</td>\n",
       "      <td>100.0</td>\n",
       "      <td>1011.200012</td>\n",
       "      <td>-0.965740</td>\n",
       "      <td>0.259512</td>\n",
       "      <td>0.433884</td>\n",
       "      <td>-0.900969</td>\n",
       "      <td>0.258819</td>\n",
       "      <td>0.965926</td>\n",
       "    </tr>\n",
       "    <tr>\n",
       "      <th>3</th>\n",
       "      <td>2020-10-15 02:00:00+00:00</td>\n",
       "      <td>10.358500</td>\n",
       "      <td>93.207855</td>\n",
       "      <td>9.308500</td>\n",
       "      <td>7.229817</td>\n",
       "      <td>0.1</td>\n",
       "      <td>20.240196</td>\n",
       "      <td>100.0</td>\n",
       "      <td>1011.299988</td>\n",
       "      <td>-0.965740</td>\n",
       "      <td>0.259512</td>\n",
       "      <td>0.433884</td>\n",
       "      <td>-0.900969</td>\n",
       "      <td>0.500000</td>\n",
       "      <td>0.866025</td>\n",
       "    </tr>\n",
       "    <tr>\n",
       "      <th>4</th>\n",
       "      <td>2020-10-15 03:00:00+00:00</td>\n",
       "      <td>10.458500</td>\n",
       "      <td>90.736458</td>\n",
       "      <td>9.008500</td>\n",
       "      <td>7.118605</td>\n",
       "      <td>0.0</td>\n",
       "      <td>21.129885</td>\n",
       "      <td>100.0</td>\n",
       "      <td>1011.599976</td>\n",
       "      <td>-0.965740</td>\n",
       "      <td>0.259512</td>\n",
       "      <td>0.433884</td>\n",
       "      <td>-0.900969</td>\n",
       "      <td>0.707107</td>\n",
       "      <td>0.707107</td>\n",
       "    </tr>\n",
       "  </tbody>\n",
       "</table>\n",
       "</div>"
      ],
      "text/plain": [
       "                       date  temperature_2m  relative_humidity_2m  \\\n",
       "0 2020-10-14 23:00:00+00:00       10.308500             93.205261   \n",
       "1 2020-10-15 00:00:00+00:00       10.608500             92.596809   \n",
       "2 2020-10-15 01:00:00+00:00       10.408501             93.524292   \n",
       "3 2020-10-15 02:00:00+00:00       10.358500             93.207855   \n",
       "4 2020-10-15 03:00:00+00:00       10.458500             90.736458   \n",
       "\n",
       "   dew_point_2m  apparent_temperature  rain  wind_speed_10m  cloud_cover  \\\n",
       "0      9.258500              7.490734   0.3       18.014393        100.0   \n",
       "1      9.458500              8.003060   0.1       16.935310         99.0   \n",
       "2      9.408501              7.789260   0.1       16.935310        100.0   \n",
       "3      9.308500              7.229817   0.1       20.240196        100.0   \n",
       "4      9.008500              7.118605   0.0       21.129885        100.0   \n",
       "\n",
       "   pressure_msl  Day_of_Year_sin  Day_of_Year_cos  Day_of_Week_sin  \\\n",
       "0   1010.400024        -0.970064         0.242850         0.974928   \n",
       "1   1011.000000        -0.965740         0.259512         0.433884   \n",
       "2   1011.200012        -0.965740         0.259512         0.433884   \n",
       "3   1011.299988        -0.965740         0.259512         0.433884   \n",
       "4   1011.599976        -0.965740         0.259512         0.433884   \n",
       "\n",
       "   Day_of_Week_cos  Hour_sin  Hour_cos  \n",
       "0        -0.222521 -0.258819  0.965926  \n",
       "1        -0.900969  0.000000  1.000000  \n",
       "2        -0.900969  0.258819  0.965926  \n",
       "3        -0.900969  0.500000  0.866025  \n",
       "4        -0.900969  0.707107  0.707107  "
      ]
     },
     "execution_count": 14,
     "metadata": {},
     "output_type": "execute_result"
    }
   ],
   "source": [
    "hourly_dataframe.head()"
   ]
  },
  {
   "cell_type": "code",
   "execution_count": 15,
   "id": "9c4f27f6",
   "metadata": {},
   "outputs": [],
   "source": [
    "#We don't need the date column anymore, so let's drop it\n",
    "hourly_dataframe.drop(columns = ['date'], inplace = True)"
   ]
  },
  {
   "cell_type": "code",
   "execution_count": 16,
   "id": "c585e22c",
   "metadata": {},
   "outputs": [
    {
     "data": {
      "text/html": [
       "<div>\n",
       "<style scoped>\n",
       "    .dataframe tbody tr th:only-of-type {\n",
       "        vertical-align: middle;\n",
       "    }\n",
       "\n",
       "    .dataframe tbody tr th {\n",
       "        vertical-align: top;\n",
       "    }\n",
       "\n",
       "    .dataframe thead th {\n",
       "        text-align: right;\n",
       "    }\n",
       "</style>\n",
       "<table border=\"1\" class=\"dataframe\">\n",
       "  <thead>\n",
       "    <tr style=\"text-align: right;\">\n",
       "      <th></th>\n",
       "      <th>temperature_2m</th>\n",
       "      <th>relative_humidity_2m</th>\n",
       "      <th>dew_point_2m</th>\n",
       "      <th>apparent_temperature</th>\n",
       "      <th>rain</th>\n",
       "      <th>wind_speed_10m</th>\n",
       "      <th>cloud_cover</th>\n",
       "      <th>pressure_msl</th>\n",
       "      <th>Day_of_Year_sin</th>\n",
       "      <th>Day_of_Year_cos</th>\n",
       "      <th>Day_of_Week_sin</th>\n",
       "      <th>Day_of_Week_cos</th>\n",
       "      <th>Hour_sin</th>\n",
       "      <th>Hour_cos</th>\n",
       "    </tr>\n",
       "  </thead>\n",
       "  <tbody>\n",
       "    <tr>\n",
       "      <th>0</th>\n",
       "      <td>10.308500</td>\n",
       "      <td>93.205261</td>\n",
       "      <td>9.258500</td>\n",
       "      <td>7.490734</td>\n",
       "      <td>0.3</td>\n",
       "      <td>18.014393</td>\n",
       "      <td>100.0</td>\n",
       "      <td>1010.400024</td>\n",
       "      <td>-0.970064</td>\n",
       "      <td>0.242850</td>\n",
       "      <td>0.974928</td>\n",
       "      <td>-0.222521</td>\n",
       "      <td>-0.258819</td>\n",
       "      <td>9.659258e-01</td>\n",
       "    </tr>\n",
       "    <tr>\n",
       "      <th>1</th>\n",
       "      <td>10.608500</td>\n",
       "      <td>92.596809</td>\n",
       "      <td>9.458500</td>\n",
       "      <td>8.003060</td>\n",
       "      <td>0.1</td>\n",
       "      <td>16.935310</td>\n",
       "      <td>99.0</td>\n",
       "      <td>1011.000000</td>\n",
       "      <td>-0.965740</td>\n",
       "      <td>0.259512</td>\n",
       "      <td>0.433884</td>\n",
       "      <td>-0.900969</td>\n",
       "      <td>0.000000</td>\n",
       "      <td>1.000000e+00</td>\n",
       "    </tr>\n",
       "    <tr>\n",
       "      <th>2</th>\n",
       "      <td>10.408501</td>\n",
       "      <td>93.524292</td>\n",
       "      <td>9.408501</td>\n",
       "      <td>7.789260</td>\n",
       "      <td>0.1</td>\n",
       "      <td>16.935310</td>\n",
       "      <td>100.0</td>\n",
       "      <td>1011.200012</td>\n",
       "      <td>-0.965740</td>\n",
       "      <td>0.259512</td>\n",
       "      <td>0.433884</td>\n",
       "      <td>-0.900969</td>\n",
       "      <td>0.258819</td>\n",
       "      <td>9.659258e-01</td>\n",
       "    </tr>\n",
       "    <tr>\n",
       "      <th>3</th>\n",
       "      <td>10.358500</td>\n",
       "      <td>93.207855</td>\n",
       "      <td>9.308500</td>\n",
       "      <td>7.229817</td>\n",
       "      <td>0.1</td>\n",
       "      <td>20.240196</td>\n",
       "      <td>100.0</td>\n",
       "      <td>1011.299988</td>\n",
       "      <td>-0.965740</td>\n",
       "      <td>0.259512</td>\n",
       "      <td>0.433884</td>\n",
       "      <td>-0.900969</td>\n",
       "      <td>0.500000</td>\n",
       "      <td>8.660254e-01</td>\n",
       "    </tr>\n",
       "    <tr>\n",
       "      <th>4</th>\n",
       "      <td>10.458500</td>\n",
       "      <td>90.736458</td>\n",
       "      <td>9.008500</td>\n",
       "      <td>7.118605</td>\n",
       "      <td>0.0</td>\n",
       "      <td>21.129885</td>\n",
       "      <td>100.0</td>\n",
       "      <td>1011.599976</td>\n",
       "      <td>-0.965740</td>\n",
       "      <td>0.259512</td>\n",
       "      <td>0.433884</td>\n",
       "      <td>-0.900969</td>\n",
       "      <td>0.707107</td>\n",
       "      <td>7.071068e-01</td>\n",
       "    </tr>\n",
       "    <tr>\n",
       "      <th>...</th>\n",
       "      <td>...</td>\n",
       "      <td>...</td>\n",
       "      <td>...</td>\n",
       "      <td>...</td>\n",
       "      <td>...</td>\n",
       "      <td>...</td>\n",
       "      <td>...</td>\n",
       "      <td>...</td>\n",
       "      <td>...</td>\n",
       "      <td>...</td>\n",
       "      <td>...</td>\n",
       "      <td>...</td>\n",
       "      <td>...</td>\n",
       "      <td>...</td>\n",
       "    </tr>\n",
       "    <tr>\n",
       "      <th>43843</th>\n",
       "      <td>11.758500</td>\n",
       "      <td>86.669823</td>\n",
       "      <td>9.608500</td>\n",
       "      <td>10.796570</td>\n",
       "      <td>0.0</td>\n",
       "      <td>5.950899</td>\n",
       "      <td>100.0</td>\n",
       "      <td>1024.099976</td>\n",
       "      <td>-0.970064</td>\n",
       "      <td>0.242850</td>\n",
       "      <td>0.974928</td>\n",
       "      <td>-0.222521</td>\n",
       "      <td>-1.000000</td>\n",
       "      <td>-1.836970e-16</td>\n",
       "    </tr>\n",
       "    <tr>\n",
       "      <th>43844</th>\n",
       "      <td>11.608500</td>\n",
       "      <td>87.826500</td>\n",
       "      <td>9.658501</td>\n",
       "      <td>10.686743</td>\n",
       "      <td>0.0</td>\n",
       "      <td>5.771239</td>\n",
       "      <td>100.0</td>\n",
       "      <td>1023.900024</td>\n",
       "      <td>-0.970064</td>\n",
       "      <td>0.242850</td>\n",
       "      <td>0.974928</td>\n",
       "      <td>-0.222521</td>\n",
       "      <td>-0.965926</td>\n",
       "      <td>2.588190e-01</td>\n",
       "    </tr>\n",
       "    <tr>\n",
       "      <th>43845</th>\n",
       "      <td>11.558500</td>\n",
       "      <td>87.234390</td>\n",
       "      <td>9.508500</td>\n",
       "      <td>10.426756</td>\n",
       "      <td>0.0</td>\n",
       "      <td>6.924738</td>\n",
       "      <td>100.0</td>\n",
       "      <td>1023.599976</td>\n",
       "      <td>-0.970064</td>\n",
       "      <td>0.242850</td>\n",
       "      <td>0.974928</td>\n",
       "      <td>-0.222521</td>\n",
       "      <td>-0.866025</td>\n",
       "      <td>5.000000e-01</td>\n",
       "    </tr>\n",
       "    <tr>\n",
       "      <th>43846</th>\n",
       "      <td>11.508500</td>\n",
       "      <td>87.229691</td>\n",
       "      <td>9.458500</td>\n",
       "      <td>10.183384</td>\n",
       "      <td>0.0</td>\n",
       "      <td>8.155807</td>\n",
       "      <td>100.0</td>\n",
       "      <td>1023.500000</td>\n",
       "      <td>-0.970064</td>\n",
       "      <td>0.242850</td>\n",
       "      <td>0.974928</td>\n",
       "      <td>-0.222521</td>\n",
       "      <td>-0.707107</td>\n",
       "      <td>7.071068e-01</td>\n",
       "    </tr>\n",
       "    <tr>\n",
       "      <th>43847</th>\n",
       "      <td>11.308500</td>\n",
       "      <td>88.689003</td>\n",
       "      <td>9.508500</td>\n",
       "      <td>10.146514</td>\n",
       "      <td>0.0</td>\n",
       "      <td>7.132181</td>\n",
       "      <td>100.0</td>\n",
       "      <td>1023.299988</td>\n",
       "      <td>-0.970064</td>\n",
       "      <td>0.242850</td>\n",
       "      <td>0.974928</td>\n",
       "      <td>-0.222521</td>\n",
       "      <td>-0.500000</td>\n",
       "      <td>8.660254e-01</td>\n",
       "    </tr>\n",
       "  </tbody>\n",
       "</table>\n",
       "<p>43848 rows × 14 columns</p>\n",
       "</div>"
      ],
      "text/plain": [
       "       temperature_2m  relative_humidity_2m  dew_point_2m  \\\n",
       "0           10.308500             93.205261      9.258500   \n",
       "1           10.608500             92.596809      9.458500   \n",
       "2           10.408501             93.524292      9.408501   \n",
       "3           10.358500             93.207855      9.308500   \n",
       "4           10.458500             90.736458      9.008500   \n",
       "...               ...                   ...           ...   \n",
       "43843       11.758500             86.669823      9.608500   \n",
       "43844       11.608500             87.826500      9.658501   \n",
       "43845       11.558500             87.234390      9.508500   \n",
       "43846       11.508500             87.229691      9.458500   \n",
       "43847       11.308500             88.689003      9.508500   \n",
       "\n",
       "       apparent_temperature  rain  wind_speed_10m  cloud_cover  pressure_msl  \\\n",
       "0                  7.490734   0.3       18.014393        100.0   1010.400024   \n",
       "1                  8.003060   0.1       16.935310         99.0   1011.000000   \n",
       "2                  7.789260   0.1       16.935310        100.0   1011.200012   \n",
       "3                  7.229817   0.1       20.240196        100.0   1011.299988   \n",
       "4                  7.118605   0.0       21.129885        100.0   1011.599976   \n",
       "...                     ...   ...             ...          ...           ...   \n",
       "43843             10.796570   0.0        5.950899        100.0   1024.099976   \n",
       "43844             10.686743   0.0        5.771239        100.0   1023.900024   \n",
       "43845             10.426756   0.0        6.924738        100.0   1023.599976   \n",
       "43846             10.183384   0.0        8.155807        100.0   1023.500000   \n",
       "43847             10.146514   0.0        7.132181        100.0   1023.299988   \n",
       "\n",
       "       Day_of_Year_sin  Day_of_Year_cos  Day_of_Week_sin  Day_of_Week_cos  \\\n",
       "0            -0.970064         0.242850         0.974928        -0.222521   \n",
       "1            -0.965740         0.259512         0.433884        -0.900969   \n",
       "2            -0.965740         0.259512         0.433884        -0.900969   \n",
       "3            -0.965740         0.259512         0.433884        -0.900969   \n",
       "4            -0.965740         0.259512         0.433884        -0.900969   \n",
       "...                ...              ...              ...              ...   \n",
       "43843        -0.970064         0.242850         0.974928        -0.222521   \n",
       "43844        -0.970064         0.242850         0.974928        -0.222521   \n",
       "43845        -0.970064         0.242850         0.974928        -0.222521   \n",
       "43846        -0.970064         0.242850         0.974928        -0.222521   \n",
       "43847        -0.970064         0.242850         0.974928        -0.222521   \n",
       "\n",
       "       Hour_sin      Hour_cos  \n",
       "0     -0.258819  9.659258e-01  \n",
       "1      0.000000  1.000000e+00  \n",
       "2      0.258819  9.659258e-01  \n",
       "3      0.500000  8.660254e-01  \n",
       "4      0.707107  7.071068e-01  \n",
       "...         ...           ...  \n",
       "43843 -1.000000 -1.836970e-16  \n",
       "43844 -0.965926  2.588190e-01  \n",
       "43845 -0.866025  5.000000e-01  \n",
       "43846 -0.707107  7.071068e-01  \n",
       "43847 -0.500000  8.660254e-01  \n",
       "\n",
       "[43848 rows x 14 columns]"
      ]
     },
     "execution_count": 16,
     "metadata": {},
     "output_type": "execute_result"
    }
   ],
   "source": [
    "hourly_dataframe"
   ]
  },
  {
   "cell_type": "markdown",
   "id": "3bf7d338",
   "metadata": {},
   "source": [
    "👆 In the preprocessed dataset, we have :\n",
    "- $26$k rows  (~ 3 years of weather data)\n",
    "- $14$ features composed of:\n",
    "    - $4$ <font color=green>**target**</font> (we will use the past values of the temperature, wind, rain, humidity as a feature)\n",
    "    - $10$ <font color=orange>**past covariates**</font> (= features which past values are known)\n",
    "    - $0$ <font color=blue>**future covariates**</font> (= features which future values are known, e.g. public holidays)"
   ]
  },
  {
   "cell_type": "code",
   "execution_count": 17,
   "id": "e676605c",
   "metadata": {},
   "outputs": [
    {
     "data": {
      "text/plain": [
       "(43848, 14)"
      ]
     },
     "execution_count": 17,
     "metadata": {},
     "output_type": "execute_result"
    }
   ],
   "source": [
    "hourly_dataframe.shape"
   ]
  },
  {
   "cell_type": "markdown",
   "id": "ead65020",
   "metadata": {},
   "source": [
    "👨🏻‍🏫 This weather dataset is a DataFrame (dimension = 2) which is a single Time Series from the beginning of October 2022 to October 2025 with records every hour.\n",
    "\n",
    "* `df.shape = (n_timesteps, n_features) = (26328, 14)`\n",
    "\n",
    "🎯 The goal is to predict the temperature, wind, rain, humidity for the next 12 hours using the past values."
   ]
  },
  {
   "cell_type": "code",
   "execution_count": 18,
   "id": "dcac4988",
   "metadata": {},
   "outputs": [],
   "source": [
    "# Let's define the global variables of our dataset\n",
    "TARGET = ['temperature_2m','relative_humidity_2m', 'rain','wind_speed_10m']\n",
    "N_TARGETS = 4\n",
    "N_FEATURES = 14\n"
   ]
  },
  {
   "cell_type": "code",
   "execution_count": 211,
   "id": "fc884752",
   "metadata": {},
   "outputs": [],
   "source": [
    "TARGET_INDEX = [hourly_dataframe.columns.get_loc(t) for t in TARGET]"
   ]
  },
  {
   "cell_type": "markdown",
   "id": "596c1577",
   "metadata": {},
   "source": [
    "# Data preparation"
   ]
  },
  {
   "cell_type": "markdown",
   "id": "95b86365",
   "metadata": {},
   "source": [
    "## Create folds for cross-validation\n",
    "\n",
    "Each of them with shape `(FOLD_LENGTH, n_features)` "
   ]
  },
  {
   "cell_type": "markdown",
   "id": "89201525",
   "metadata": {},
   "source": [
    "Let's define some global variables that we will use for our tests everywhere in this notebook:"
   ]
  },
  {
   "cell_type": "code",
   "execution_count": 19,
   "id": "bf9623fc",
   "metadata": {},
   "outputs": [],
   "source": [
    "# --------------------------------------------------- #\n",
    "# Let's consider FOLDS with a length of 3 years       #\n",
    "# (2 years will be used for train, 1 for test!)       #\n",
    "# --------------------------------------------------- #\n",
    "\n",
    "FOLD_LENGTH = 24*365 * 3 # every hour\n",
    "                        # three years\n",
    "\n",
    "# --------------------------------------------------- #\n",
    "# Let's consider FOLDS starting every trimester       #\n",
    "# --------------------------------------------------- #\n",
    "\n",
    "FOLD_STRIDE = 24*91 # every hour\n",
    "                   # 1 quarter = 91 days\n",
    "\n",
    "# --------------------------------------------------- #\n",
    "# Let's consider a train-test-split ratio of 2/3      #\n",
    "# --------------------------------------------------- #\n",
    "\n",
    "TRAIN_TEST_RATIO = 0.66\n"
   ]
  },
  {
   "cell_type": "code",
   "execution_count": 20,
   "id": "efe29a5a",
   "metadata": {},
   "outputs": [],
   "source": [
    "def get_folds(\n",
    "    df: pd.DataFrame,\n",
    "    fold_length: int,\n",
    "    fold_stride: int) -> List[pd.DataFrame]:\n",
    "    \"\"\"\n",
    "    This function slides through the Time Series dataframe of shape (n_timesteps, n_features) to create folds\n",
    "    - of equal `fold_length`\n",
    "    - using `fold_stride` between each fold\n",
    "\n",
    "    Args:\n",
    "        df (pd.DataFrame): Overall dataframe\n",
    "        fold_length (int): How long each fold should be in rows\n",
    "        fold_stride (int): How many timesteps to move forward between taking each fold\n",
    "\n",
    "    Returns:\n",
    "        List[pd.DataFrame]: A list where each fold is a dataframe within\n",
    "    \"\"\"\n",
    "    result = []\n",
    "    i = 0\n",
    "    while(fold_length   <= (df.shape[0] - i + 1)):\n",
    "        tmp_df = df.iloc[i:(i+fold_length), :]\n",
    "        result.append(tmp_df)\n",
    "        i = i + fold_stride\n",
    "    return result\n"
   ]
  },
  {
   "cell_type": "code",
   "execution_count": 21,
   "id": "2fa4d2d0",
   "metadata": {},
   "outputs": [
    {
     "name": "stdout",
     "output_type": "stream",
     "text": [
      "The function generated 9 folds.\n",
      "Each fold has a shape equal to (26280, 14).\n"
     ]
    }
   ],
   "source": [
    "folds = get_folds(hourly_dataframe, FOLD_LENGTH, FOLD_STRIDE)\n",
    "\n",
    "print(f'The function generated {len(folds)} folds.')\n",
    "print(f'Each fold has a shape equal to {folds[0].shape}.')\n"
   ]
  },
  {
   "cell_type": "markdown",
   "id": "916915bd",
   "metadata": {},
   "source": [
    "## Temporal Train/Test split"
   ]
  },
  {
   "cell_type": "code",
   "execution_count": 136,
   "id": "cc90ae74",
   "metadata": {},
   "outputs": [],
   "source": [
    "INPUT_DAYS = 3 #number of days for the input_length ; 3 days seems okay since we want to predict the next 12 hours\n",
    "INPUT_LENGTH = 24 * INPUT_DAYS # records every hour\n",
    "INPUT_LENGTH = 12 # records every hour\n",
    "INPUT_LENGTH = 24*14\n",
    "INPUT_LENGTH = 24"
   ]
  },
  {
   "cell_type": "code",
   "execution_count": 137,
   "id": "c2699b6c",
   "metadata": {},
   "outputs": [],
   "source": [
    "def train_test_split(fold:pd.DataFrame,\n",
    "                     train_test_ratio: float,\n",
    "                     input_length: int) -> Tuple[pd.DataFrame]:\n",
    "    \"\"\"From a fold dataframe, take a train dataframe and test dataframe based on\n",
    "    the split ratio.\n",
    "    - df_train should contain all the timesteps until round(train_test_ratio * len(fold))\n",
    "    - df_test should contain all the timesteps needed to create all (X_test, y_test) tuples\n",
    "\n",
    "    Args:\n",
    "        fold (pd.DataFrame): A fold of timesteps\n",
    "        train_test_ratio (float): The ratio between train and test 0-1\n",
    "        input_length (int): How long each X_i will be\n",
    "\n",
    "    Returns:\n",
    "        Tuple[pd.DataFrame]: A tuple of two dataframes (fold_train, fold_test)\n",
    "    \"\"\"\n",
    "\n",
    "    fold_train = fold.iloc[0:round(train_test_ratio * len(fold)),:]\n",
    "    fold_test = fold.iloc[round((train_test_ratio * len(fold)) - input_length):,:]\n",
    "\n",
    "    return (fold_train, fold_test)\n"
   ]
  },
  {
   "cell_type": "markdown",
   "id": "84efd02d",
   "metadata": {},
   "source": [
    "Let's test the function on one fold"
   ]
  },
  {
   "cell_type": "code",
   "execution_count": 138,
   "id": "caca48fb",
   "metadata": {},
   "outputs": [],
   "source": [
    "fold = folds[0]\n",
    "(fold_train, fold_test) = train_test_split(fold, TRAIN_TEST_RATIO, INPUT_LENGTH)"
   ]
  },
  {
   "cell_type": "code",
   "execution_count": 139,
   "id": "d12b0db3",
   "metadata": {},
   "outputs": [],
   "source": [
    "assert fold_train.shape[0] == round(TRAIN_TEST_RATIO * fold.shape[0])"
   ]
  },
  {
   "cell_type": "markdown",
   "id": "cf8c598f",
   "metadata": {},
   "source": [
    "## Create (X, y) sequences"
   ]
  },
  {
   "cell_type": "code",
   "execution_count": 140,
   "id": "fcd4f594",
   "metadata": {},
   "outputs": [
    {
     "name": "stdout",
     "output_type": "stream",
     "text": [
      "N_FEATURES = 14\n",
      "INPUT_LENGTH = 24 timesteps = 1 days = 0 weeks\n"
     ]
    }
   ],
   "source": [
    "# INPUT X\n",
    "print(f'N_FEATURES = {N_FEATURES}')\n",
    "print(f'INPUT_LENGTH = {INPUT_LENGTH} timesteps = {int(INPUT_LENGTH/24)} days = {int(INPUT_LENGTH/24/7)} weeks')\n"
   ]
  },
  {
   "cell_type": "markdown",
   "id": "92829407",
   "metadata": {},
   "source": [
    "☝️ `X` is the **input** of our model. \n",
    "- It contains $14$ features: the past values of the <font color=green>**target**</font> + $10$ <font color=orange>**past-covariates**</font>\n",
    "- Each sequence has a length equal to $72$ timesteps (=$3$ days)"
   ]
  },
  {
   "cell_type": "code",
   "execution_count": 141,
   "id": "f305730d",
   "metadata": {},
   "outputs": [
    {
     "name": "stdout",
     "output_type": "stream",
     "text": [
      "N_TARGETS = 4\n",
      "OUTPUT_LENGTH = 24\n"
     ]
    }
   ],
   "source": [
    "# TARGET Y\n",
    "print(f'N_TARGETS = {N_TARGETS}')\n",
    "\n",
    "# Let's predict 12 values ahead of us\n",
    "# OUTPUT_LENGTH = 12\n",
    "OUTPUT_LENGTH = 24\n",
    "print(f'OUTPUT_LENGTH = {OUTPUT_LENGTH}')"
   ]
  },
  {
   "cell_type": "markdown",
   "id": "8469ce7b",
   "metadata": {},
   "source": [
    "☝️ `y` is the <font color=green>**target**</font> that we want to predic:t\n",
    "- It is the value at the 12 next timesteps (= 12 next hours)"
   ]
  },
  {
   "cell_type": "markdown",
   "id": "4e206dfe",
   "metadata": {},
   "source": [
    "Let's build sequences by scanning folds chronologically and create all the possible pairs $(X_i, y_i)$, based on : \n",
    "  \n",
    "  - an `input_length` (let's still use `INPUT_LENGTH = 24 * 3`, i.e. two weeks) \n",
    "  - and a `sequence_stride`"
   ]
  },
  {
   "cell_type": "markdown",
   "id": "5db85fd1",
   "metadata": {},
   "source": [
    "👉 Let's scan the fold with a temporal stride of 1 hours (the minimum one):"
   ]
  },
  {
   "cell_type": "code",
   "execution_count": 142,
   "id": "2f333de3",
   "metadata": {},
   "outputs": [],
   "source": [
    "SEQUENCE_STRIDE = 1  #We need to brainstorm about it   i had 3 before"
   ]
  },
  {
   "cell_type": "code",
   "execution_count": 143,
   "id": "a9c637c5",
   "metadata": {},
   "outputs": [],
   "source": [
    "def get_X_y_strides(fold: pd.DataFrame, input_length: int, output_length: int,\n",
    "    sequence_stride: int) -> Tuple[np.array]:\n",
    "    \"\"\"slides through a `fold` Time Series (2D array) to create sequences of equal\n",
    "        * `input_length` for X,\n",
    "        * `output_length` for y,\n",
    "    using a temporal gap `sequence_stride` between each sequence\n",
    "\n",
    "    Args:\n",
    "        fold (pd.DataFrame): One single fold dataframe\n",
    "        input_length (int): Length of each X_i\n",
    "        output_length (int): Length of each y_i\n",
    "        sequence_stride (int): How many timesteps to take before taking the next X_i\n",
    "\n",
    "    Returns:\n",
    "        Tuple[np.array]: A tuple of numpy arrays (X, y)\n",
    "    \"\"\"\n",
    "    X, y = [], []\n",
    "\n",
    "    for i in range(0, len(fold), sequence_stride):\n",
    "        # Exits the loop as soon as the last fold index would exceed the last index\n",
    "        if (i + input_length + output_length) >= len(fold):\n",
    "            break\n",
    "        X_i = fold.iloc[i:i + input_length, :]\n",
    "        y_i = fold.iloc[i + input_length:i + input_length + output_length, :][TARGET]\n",
    "        X.append(X_i)\n",
    "        y.append(y_i)\n",
    "\n",
    "    return (np.array(X), np.array(y))\n"
   ]
  },
  {
   "cell_type": "markdown",
   "id": "a3f14808",
   "metadata": {},
   "source": [
    "🧑🏻‍🎓 Some clarifications about scanning a fold sequentially :"
   ]
  },
  {
   "cell_type": "code",
   "execution_count": 144,
   "id": "5134e2cb",
   "metadata": {},
   "outputs": [
    {
     "name": "stdout",
     "output_type": "stream",
     "text": [
      "FOLD_LENGTH\n",
      "= 26280 timesteps\n",
      "= 1095 days\n",
      "= 156 weeks\n"
     ]
    }
   ],
   "source": [
    "print(\"FOLD_LENGTH\")\n",
    "print(f\"= {FOLD_LENGTH} timesteps\")\n",
    "print(f\"= {int(FOLD_LENGTH/24)} days\") # 24 records per day, every 1 hour\n",
    "print(f\"= {int(FOLD_LENGTH/24/7)} weeks\")"
   ]
  },
  {
   "cell_type": "code",
   "execution_count": 145,
   "id": "8578c17c",
   "metadata": {},
   "outputs": [
    {
     "name": "stdout",
     "output_type": "stream",
     "text": [
      "(17297, 24, 14)\n",
      "(17297, 24, 4)\n"
     ]
    }
   ],
   "source": [
    "#Build the X_train,y_train, X_test, y_test for one fold\n",
    "\n",
    "X_train, y_train = get_X_y_strides(fold_train, INPUT_LENGTH, OUTPUT_LENGTH, SEQUENCE_STRIDE)\n",
    "X_test, y_test = get_X_y_strides(fold_test, INPUT_LENGTH, OUTPUT_LENGTH, SEQUENCE_STRIDE)\n",
    "\n",
    "print(X_train.shape)\n",
    "print(y_train.shape)"
   ]
  },
  {
   "cell_type": "code",
   "execution_count": 156,
   "id": "5ee3e56d",
   "metadata": {},
   "outputs": [
    {
     "name": "stdout",
     "output_type": "stream",
     "text": [
      "(8911, 24, 14)\n",
      "(8911, 24, 4)\n"
     ]
    }
   ],
   "source": [
    "print(X_test.shape)\n",
    "print(y_test.shape)"
   ]
  },
  {
   "cell_type": "code",
   "execution_count": 146,
   "id": "0f7931c4",
   "metadata": {},
   "outputs": [],
   "source": [
    "N_TRAIN = X_train.shape[0]\n",
    "N_TEST = X_test.shape[0]"
   ]
  },
  {
   "cell_type": "code",
   "execution_count": null,
   "id": "74045c93",
   "metadata": {},
   "outputs": [
    {
     "name": "stdout",
     "output_type": "stream",
     "text": [
      "279/279 [==============================] - 0s 1ms/step\n",
      "y_pred_baseline shape: (8911, 24, 4)\n",
      "279/279 [==============================] - 1s 2ms/step - loss: 93.6370 - mae: 5.2988\n",
      "Baseline MSE: 93.6370, MAE: 5.2988\n"
     ]
    }
   ],
   "source": [
    "import tensorflow as tf\n",
    "from tensorflow.keras import models, layers, optimizers\n",
    "\n",
    "def init_baseline():\n",
    "    forecast_horizon= OUTPUT_LENGTH\n",
    "    target_indices = TARGET_INDEX\n",
    "    model = models.Sequential()\n",
    "    model.add(layers.Lambda(lambda x: tf.tile(\n",
    "        tf.expand_dims(tf.gather(x[:, -1, :], target_indices, axis=1), axis=1),\n",
    "        [1, forecast_horizon, 1]\n",
    "    )))\n",
    "    model.compile(loss='mse', optimizer=optimizers.Adam(0.02), metrics=['mae'])\n",
    "    return model\n",
    "\n",
    "\n",
    "baseline_model = init_baseline()\n",
    "\n",
    "y_pred_baseline = baseline_model.predict(X_test)\n",
    "print(\"y_pred_baseline shape:\", y_pred_baseline.shape)\n",
    "\n",
    "loss, mae = baseline_model.evaluate(X_test, y_test)\n",
    "print(f\"Baseline MSE: {loss:.4f}, MAE: {mae:.4f}\")\n"
   ]
  },
  {
   "cell_type": "markdown",
   "id": "91fa2c45",
   "metadata": {},
   "source": [
    "# Modelling"
   ]
  },
  {
   "cell_type": "markdown",
   "id": "f207e3af",
   "metadata": {},
   "source": [
    "**The MAE as a metrics to monitor the temperature prediction**"
   ]
  },
  {
   "cell_type": "markdown",
   "id": "ed64469e",
   "metadata": {},
   "source": [
    "## Definition of the model and evaluation on a single fold"
   ]
  },
  {
   "cell_type": "code",
   "execution_count": 33,
   "id": "a8f9805e",
   "metadata": {},
   "outputs": [
    {
     "name": "stderr",
     "output_type": "stream",
     "text": [
      "2025-10-29 14:39:30.693061: I tensorflow/core/platform/cpu_feature_guard.cc:193] This TensorFlow binary is optimized with oneAPI Deep Neural Network Library (oneDNN) to use the following CPU instructions in performance-critical operations:  AVX2 AVX512F AVX512_VNNI FMA\n",
      "To enable them in other operations, rebuild TensorFlow with the appropriate compiler flags.\n",
      "2025-10-29 14:39:32.918650: I tensorflow/core/util/util.cc:169] oneDNN custom operations are on. You may see slightly different numerical results due to floating-point round-off errors from different computation orders. To turn them off, set the environment variable `TF_ENABLE_ONEDNN_OPTS=0`.\n",
      "2025-10-29 14:39:32.999891: W tensorflow/stream_executor/platform/default/dso_loader.cc:64] Could not load dynamic library 'libcudart.so.11.0'; dlerror: libcudart.so.11.0: cannot open shared object file: No such file or directory\n",
      "2025-10-29 14:39:32.999930: I tensorflow/stream_executor/cuda/cudart_stub.cc:29] Ignore above cudart dlerror if you do not have a GPU set up on your machine.\n",
      "2025-10-29 14:39:33.168017: E tensorflow/stream_executor/cuda/cuda_blas.cc:2981] Unable to register cuBLAS factory: Attempting to register factory for plugin cuBLAS when one has already been registered\n",
      "2025-10-29 14:39:39.720531: W tensorflow/stream_executor/platform/default/dso_loader.cc:64] Could not load dynamic library 'libnvinfer.so.7'; dlerror: libnvinfer.so.7: cannot open shared object file: No such file or directory\n",
      "2025-10-29 14:39:39.721216: W tensorflow/stream_executor/platform/default/dso_loader.cc:64] Could not load dynamic library 'libnvinfer_plugin.so.7'; dlerror: libnvinfer_plugin.so.7: cannot open shared object file: No such file or directory\n",
      "2025-10-29 14:39:39.721249: W tensorflow/compiler/tf2tensorrt/utils/py_utils.cc:38] TF-TRT Warning: Cannot dlopen some TensorRT libraries. If you would like to use Nvidia GPU with TensorRT, please make sure the missing libraries mentioned above are installed properly.\n"
     ]
    }
   ],
   "source": [
    "from tensorflow import keras"
   ]
  },
  {
   "cell_type": "code",
   "execution_count": 147,
   "id": "7214fa62",
   "metadata": {},
   "outputs": [],
   "source": [
    "from tensorflow import keras\n",
    "from tensorflow.keras import models, layers, optimizers, metrics\n",
    "from tensorflow.keras.regularizers import L1L2\n",
    "from tensorflow.keras.layers import Normalization, Input\n",
    "\n",
    "def init_model(X_train, y_train):\n",
    "\n",
    "    # 0 - Normalization\n",
    "    # ======================\n",
    "    normalizer = Normalization()\n",
    "    normalizer.adapt(X_train)\n",
    "\n",
    "    # 1 - RNN architecture\n",
    "    # ======================\n",
    "    model = models.Sequential()\n",
    "    #model.add(Input(shape=X_train[0].shape)) --> no need because Normalization apprend l'input\n",
    "    ## 1.0 - All the rows will be standardized through the already adapted normalization layer\n",
    "    model.add(normalizer)\n",
    "    ## 1.1 - Recurrent Layer\n",
    "    model.add(layers.LSTM(64,\n",
    "                          activation='tanh',\n",
    "                          return_sequences = True,\n",
    "                          kernel_regularizer=L1L2(l1=0.01, l2=0.01),\n",
    "                          ))\n",
    "\n",
    "    ## 1.2 - Predictive Dense Layers\n",
    "    output_length = y_train.shape[2]\n",
    "    model.add(layers.TimeDistributed(layers.Dense(output_length, activation='linear')))\n",
    "    #model.add(layers.Dense(output_length, activation='linear'))\n",
    "\n",
    "    # 2 - Compiler\n",
    "    # ======================\n",
    "    adam = optimizers.Adam(learning_rate=0.001)\n",
    "    model.compile(loss='mse', optimizer=adam, metrics=[\"mae\"])\n",
    "\n",
    "    return model"
   ]
  },
  {
   "cell_type": "code",
   "execution_count": 148,
   "id": "59a15521",
   "metadata": {},
   "outputs": [
    {
     "data": {
      "text/plain": [
       "(24, 14)"
      ]
     },
     "execution_count": 148,
     "metadata": {},
     "output_type": "execute_result"
    }
   ],
   "source": [
    "X_train.shape[1:]"
   ]
  },
  {
   "cell_type": "code",
   "execution_count": 76,
   "id": "c7964de4",
   "metadata": {},
   "outputs": [],
   "source": [
    "#Other version\n",
    "\n",
    "from tensorflow import keras\n",
    "from tensorflow.keras import models, layers, optimizers, metrics,Sequential\n",
    "from tensorflow.keras.regularizers import L1L2\n",
    "from tensorflow.keras.layers import Normalization, Input,Bidirectional,LSTM\n",
    "\n",
    "def init_model(X_train, y_train):\n",
    "\n",
    "    model = Sequential()\n",
    "    normalizer = Normalization()\n",
    "    normalizer.adapt(X_train)\n",
    "    model.add(layers.Bidirectional(LSTM(256, return_sequences=True), input_shape=X_train.shape[1:]))\n",
    "    # model.add(LayerNormalization())\n",
    "    # model.add(Dropout(0.2))\n",
    "    model.add(layers.Bidirectional(LSTM(128, return_sequences=True)))\n",
    "    # model.add(LayerNormalization())\n",
    "    # model.add(Dropout(0.2))\n",
    "    model.add(Bidirectional(LSTM(64, return_sequences=True)))\n",
    "    # model.add(Dropout(0.2))\n",
    "    model.add(layers.Dense(64, activation='relu'))\n",
    "    output_length = y_train.shape[2]\n",
    "    model.add(layers.Dense(output_length, activation='linear'))\n",
    "\n",
    "    # 2 - Compiler\n",
    "    # ======================\n",
    "    adam = optimizers.Adam(learning_rate=0.001)\n",
    "    model.compile(loss='mse', optimizer=adam, metrics=[\"mae\"])\n",
    "\n",
    "    return model"
   ]
  },
  {
   "cell_type": "code",
   "execution_count": null,
   "id": "ab861ddb",
   "metadata": {},
   "outputs": [],
   "source": []
  },
  {
   "cell_type": "code",
   "execution_count": 77,
   "id": "beb587f0",
   "metadata": {},
   "outputs": [
    {
     "data": {
      "text/plain": [
       "(5774, 12, 4)"
      ]
     },
     "execution_count": 77,
     "metadata": {},
     "output_type": "execute_result"
    }
   ],
   "source": [
    "y_train.shape"
   ]
  },
  {
   "cell_type": "code",
   "execution_count": 149,
   "id": "399b72d0",
   "metadata": {},
   "outputs": [
    {
     "name": "stdout",
     "output_type": "stream",
     "text": [
      "Model: \"sequential_28\"\n",
      "_________________________________________________________________\n",
      " Layer (type)                Output Shape              Param #   \n",
      "=================================================================\n",
      " normalization_27 (Normaliza  (None, None, 14)         29        \n",
      " tion)                                                           \n",
      "                                                                 \n",
      " lstm_33 (LSTM)              (None, None, 64)          20224     \n",
      "                                                                 \n",
      " time_distributed_20 (TimeDi  (None, None, 4)          260       \n",
      " stributed)                                                      \n",
      "                                                                 \n",
      "=================================================================\n",
      "Total params: 20,513\n",
      "Trainable params: 20,484\n",
      "Non-trainable params: 29\n",
      "_________________________________________________________________\n"
     ]
    }
   ],
   "source": [
    "model = init_model(X_train, y_train)\n",
    "model.summary()"
   ]
  },
  {
   "cell_type": "code",
   "execution_count": 150,
   "id": "e5de48e2",
   "metadata": {},
   "outputs": [],
   "source": [
    "def plot_history(history):\n",
    "\n",
    "    fig, ax = plt.subplots(1,2, figsize=(20,7))\n",
    "    # --- LOSS: MSE ---\n",
    "    ax[0].plot(history.history['loss'])\n",
    "    ax[0].plot(history.history['val_loss'])\n",
    "    ax[0].set_title('MSE')\n",
    "    ax[0].set_ylabel('Loss')\n",
    "    ax[0].set_xlabel('Epoch')\n",
    "    ax[0].legend(['Train', 'Validation'], loc='best')\n",
    "    ax[0].grid(axis=\"x\",linewidth=0.5)\n",
    "    ax[0].grid(axis=\"y\",linewidth=0.5)\n",
    "\n",
    "    # --- METRICS:MAE ---\n",
    "\n",
    "    ax[1].plot(history.history['mae'])\n",
    "    ax[1].plot(history.history['val_mae'])\n",
    "    ax[1].set_title('MAE')\n",
    "    ax[1].set_ylabel('MAE')\n",
    "    ax[1].set_xlabel('Epoch')\n",
    "    ax[1].legend(['Train', 'Validation'], loc='best')\n",
    "    ax[1].grid(axis=\"x\",linewidth=0.5)\n",
    "    ax[1].grid(axis=\"y\",linewidth=0.5)\n",
    "\n",
    "    return ax\n"
   ]
  },
  {
   "cell_type": "code",
   "execution_count": 151,
   "id": "44d99d27",
   "metadata": {},
   "outputs": [],
   "source": [
    "from keras.callbacks import EarlyStopping\n",
    "\n",
    "\n",
    "def fit_model(model):\n",
    "    es = EarlyStopping(patience = 3,monitor= 'val_loss', restore_best_weights = True, mode = 'min')\n",
    "\n",
    "    history = model.fit(X_train,\n",
    "                        y_train,\n",
    "                        epochs = 50,\n",
    "                        batch_size = 32,\n",
    "                        validation_split= 0.3,\n",
    "                        callbacks = [es],\n",
    "                        verbose = 0\n",
    "    )\n",
    "\n",
    "    return model,history"
   ]
  },
  {
   "cell_type": "code",
   "execution_count": 152,
   "id": "a92e3cfe",
   "metadata": {},
   "outputs": [
    {
     "name": "stdout",
     "output_type": "stream",
     "text": [
      "Model: \"sequential_29\"\n",
      "_________________________________________________________________\n",
      " Layer (type)                Output Shape              Param #   \n",
      "=================================================================\n",
      " normalization_28 (Normaliza  (None, None, 14)         29        \n",
      " tion)                                                           \n",
      "                                                                 \n",
      " lstm_34 (LSTM)              (None, None, 64)          20224     \n",
      "                                                                 \n",
      " time_distributed_21 (TimeDi  (None, None, 4)          260       \n",
      " stributed)                                                      \n",
      "                                                                 \n",
      "=================================================================\n",
      "Total params: 20,513\n",
      "Trainable params: 20,484\n",
      "Non-trainable params: 29\n",
      "_________________________________________________________________\n"
     ]
    }
   ],
   "source": [
    "# 1 - Initializing the RNN model\n",
    "# ====================================\n",
    "\n",
    "model = init_model(X_train, y_train)\n",
    "model.summary()\n",
    "\n",
    "# 2 - Training\n",
    "# ====================================\n",
    "model, history = fit_model(model)"
   ]
  },
  {
   "cell_type": "code",
   "execution_count": 153,
   "id": "b24255b9",
   "metadata": {},
   "outputs": [
    {
     "data": {
      "image/png": "[encoded data removed]",
      "text/plain": [
       "<Figure size 2000x700 with 2 Axes>"
      ]
     },
     "metadata": {},
     "output_type": "display_data"
    }
   ],
   "source": [
    "plot_history(history);"
   ]
  },
  {
   "cell_type": "code",
   "execution_count": 154,
   "id": "ec5e8e4c",
   "metadata": {},
   "outputs": [
    {
     "name": "stdout",
     "output_type": "stream",
     "text": [
      "279/279 [==============================] - 7s 23ms/step - loss: 165.6959 - mae: 7.9419\n",
      "The LSTM MAE on the test set is equal to 7.94 Celsius degrees\n"
     ]
    }
   ],
   "source": [
    "# 3 - Evaluation\n",
    "# ====================================\n",
    "res = model.evaluate(X_test, y_test)\n",
    "print(f\"The LSTM MAE on the test set is equal to {round(res[1],2)} Celsius degrees\")\n"
   ]
  },
  {
   "cell_type": "code",
   "execution_count": 155,
   "id": "45e5443e",
   "metadata": {},
   "outputs": [
    {
     "name": "stdout",
     "output_type": "stream",
     "text": [
      "279/279 [==============================] - 9s 22ms/step\n"
     ]
    },
    {
     "data": {
      "text/plain": [
       "(8911, 24, 4)"
      ]
     },
     "execution_count": 155,
     "metadata": {},
     "output_type": "execute_result"
    }
   ],
   "source": [
    "y_pred = model.predict(X_test)\n",
    "y_pred.shape"
   ]
  },
  {
   "cell_type": "code",
   "execution_count": 160,
   "id": "5545a682",
   "metadata": {},
   "outputs": [
    {
     "data": {
      "text/plain": [
       "array([2.0690289, 6.120437 , 8.270967 , 8.509909 , 8.542845 , 8.54734  ,\n",
       "       8.547954 , 8.54804  , 8.548051 , 8.548048 , 8.548048 , 8.548046 ,\n",
       "       8.548046 , 8.548045 , 8.548046 , 8.548041 , 8.548032 , 8.5480175,\n",
       "       8.548009 , 8.547989 , 8.547977 , 8.547974 , 8.547977 , 8.547991 ],\n",
       "      dtype=float32)"
      ]
     },
     "execution_count": 160,
     "metadata": {},
     "output_type": "execute_result"
    }
   ],
   "source": [
    "y_pred[0,:,0]"
   ]
  },
  {
   "cell_type": "code",
   "execution_count": 161,
   "id": "9977e938",
   "metadata": {},
   "outputs": [
    {
     "data": {
      "text/plain": [
       "array([14.0085   , 11.2085   , 10.5085   ,  9.7085   ,  9.7585   ,\n",
       "        9.6085005,  9.158501 ,  8.6085005,  8.5585   ,  8.9585   ,\n",
       "        9.6085005,  9.658501 ,  9.1085005,  8.3085   ,  8.908501 ,\n",
       "       11.2085   , 13.2585   , 14.5085   , 15.408501 , 15.8585005,\n",
       "       13.8085   , 14.0585   , 14.158501 , 12.658501 ], dtype=float32)"
      ]
     },
     "execution_count": 161,
     "metadata": {},
     "output_type": "execute_result"
    }
   ],
   "source": [
    "y_test[0,:,0]"
   ]
  },
  {
   "cell_type": "markdown",
   "id": "7033efbd",
   "metadata": {},
   "source": [
    "## Cross-validation"
   ]
  },
  {
   "cell_type": "code",
   "execution_count": 41,
   "id": "080aa3af",
   "metadata": {},
   "outputs": [
    {
     "name": "stdout",
     "output_type": "stream",
     "text": [
      "N_FEATURES = 14\n",
      "N_TARGETS = 4\n",
      "\n",
      "FOLD_LENGTH = 26280\n",
      "FOLD_STRIDE = 2184\n",
      "TRAIN_TEST_RATIO = 0.66\n",
      "\n",
      "N_TRAIN = 5754\n",
      "N_TEST = 2975\n",
      "INPUT_LENGTH = 72\n",
      "OUTPUT_LENGTH = 12\n"
     ]
    }
   ],
   "source": [
    "# Reminders of the global variables in this notebook --> TO DELETE\n",
    "\n",
    "print(f'N_FEATURES = {N_FEATURES}')\n",
    "print(f'N_TARGETS = {N_TARGETS}')\n",
    "print('')\n",
    "print(f'FOLD_LENGTH = {FOLD_LENGTH}')\n",
    "print(f'FOLD_STRIDE = {FOLD_STRIDE}')\n",
    "print(f'TRAIN_TEST_RATIO = {TRAIN_TEST_RATIO}')\n",
    "print('')\n",
    "print(f'N_TRAIN = {N_TRAIN}')\n",
    "print(f'N_TEST = {N_TEST}')\n",
    "print(f'INPUT_LENGTH = {INPUT_LENGTH}')\n",
    "print(f'OUTPUT_LENGTH = {OUTPUT_LENGTH}')"
   ]
  },
  {
   "cell_type": "code",
   "execution_count": 105,
   "id": "bf502daa",
   "metadata": {},
   "outputs": [],
   "source": [
    "from keras.callbacks import EarlyStopping\n",
    "\n",
    "def cross_validate_lstm():\n",
    "    '''\n",
    "    This function cross-validates\n",
    "    - the \"last seen value\" baseline model\n",
    "    - the RNN model\n",
    "    '''\n",
    "\n",
    "    list_of_mae_baseline_model = []\n",
    "    list_of_mae_recurrent_model = []\n",
    "\n",
    "    # 0 - Creating folds\n",
    "    # =========================================\n",
    "    folds = get_folds(hourly_dataframe, FOLD_LENGTH, FOLD_STRIDE)\n",
    "\n",
    "    for fold_id, fold in enumerate(folds):\n",
    "\n",
    "        # 1 - Train/Test split the current fold\n",
    "        # =========================================\n",
    "        (fold_train, fold_test) = train_test_split(fold, TRAIN_TEST_RATIO, INPUT_LENGTH)\n",
    "\n",
    "        X_train, y_train = get_X_y_strides(fold_train, INPUT_LENGTH, OUTPUT_LENGTH, SEQUENCE_STRIDE)\n",
    "        X_test, y_test = get_X_y_strides(fold_test, INPUT_LENGTH, OUTPUT_LENGTH, SEQUENCE_STRIDE)\n",
    "\n",
    "        # 2 - Modelling\n",
    "        # =========================================\n",
    "\n",
    "        ##### LSTM Model\n",
    "        model = init_model(X_train, y_train)\n",
    "        es = EarlyStopping(monitor = \"val_mae\",\n",
    "                           mode = \"min\",\n",
    "                           patience = 2,\n",
    "                           restore_best_weights = True)\n",
    "        history = model.fit(X_train, y_train,\n",
    "                            validation_split = 0.3,\n",
    "                            shuffle = False,\n",
    "                            batch_size = 32,\n",
    "                            epochs = 50,\n",
    "                            callbacks = [es],\n",
    "                            verbose = 0)\n",
    "        res = model.evaluate(X_test, y_test, verbose=0)\n",
    "        mae_lstm = res[1]\n",
    "        list_of_mae_recurrent_model.append(mae_lstm)\n",
    "        print(f\"MAE LSTM fold n°{fold_id} = {round(mae_lstm, 2)}\")\n",
    "\n",
    "    return list_of_mae_recurrent_model\n"
   ]
  },
  {
   "cell_type": "code",
   "execution_count": 107,
   "id": "315e466b",
   "metadata": {},
   "outputs": [
    {
     "name": "stdout",
     "output_type": "stream",
     "text": [
      "MAE LSTM fold n°0 = 8.25\n",
      "MAE LSTM fold n°1 = 6.92\n",
      "MAE LSTM fold n°2 = 4.96\n",
      "MAE LSTM fold n°3 = 4.39\n",
      "MAE LSTM fold n°4 = 4.4\n",
      "MAE LSTM fold n°5 = 4.75\n",
      "MAE LSTM fold n°6 = 7.35\n",
      "MAE LSTM fold n°7 = 4.31\n",
      "MAE LSTM fold n°8 = 7.71\n"
     ]
    }
   ],
   "source": [
    "mae_lstms = cross_validate_lstm()"
   ]
  },
  {
   "cell_type": "code",
   "execution_count": null,
   "id": "4946b16c",
   "metadata": {},
   "outputs": [],
   "source": []
  }
 ],
 "metadata": {
  "kernelspec": {
   "display_name": "what_to_wear_today",
   "language": "python",
   "name": "python3"
  },
  "language_info": {
   "codemirror_mode": {
    "name": "ipython",
    "version": 3
   },
   "file_extension": ".py",
   "mimetype": "text/x-python",
   "name": "python",
   "nbconvert_exporter": "python",
   "pygments_lexer": "ipython3",
   "version": "3.10.6"
  }
 },
 "nbformat": 4,
 "nbformat_minor": 5
}
