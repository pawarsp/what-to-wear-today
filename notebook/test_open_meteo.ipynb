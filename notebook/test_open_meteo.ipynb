{
 "cells": [
  {
   "cell_type": "code",
   "execution_count": 1,
   "id": "f9306c38-2aeb-420c-a9cd-29ba61c8e531",
   "metadata": {
    "execution": {
     "iopub.execute_input": "2025-10-27T16:36:32.353448Z",
     "iopub.status.busy": "2025-10-27T16:36:32.353076Z",
     "iopub.status.idle": "2025-10-27T16:36:33.435504Z",
     "shell.execute_reply": "2025-10-27T16:36:33.432473Z",
     "shell.execute_reply.started": "2025-10-27T16:36:32.353411Z"
    }
   },
   "outputs": [],
   "source": [
    "import openmeteo_requests\n",
    "import pandas as pd\n",
    "import requests_cache\n",
    "from retry_requests import retry"
   ]
  },
  {
   "cell_type": "code",
   "execution_count": 2,
   "id": "1d3132e9-0df2-42f9-93a1-ba637c65c00f",
   "metadata": {
    "execution": {
     "iopub.execute_input": "2025-10-27T16:36:41.673628Z",
     "iopub.status.busy": "2025-10-27T16:36:41.672878Z",
     "iopub.status.idle": "2025-10-27T16:36:42.571934Z",
     "shell.execute_reply": "2025-10-27T16:36:42.569962Z",
     "shell.execute_reply.started": "2025-10-27T16:36:41.673580Z"
    },
    "scrolled": true
   },
   "outputs": [
    {
     "name": "stdout",
     "output_type": "stream",
     "text": [
      "Coordinates: 52.5483283996582°N 13.407821655273438°E\n",
      "Elevation: 38.0 m asl\n",
      "Timezone: b'Europe/Berlin'b'GMT+1'\n",
      "Timezone difference to GMT+0: 3600s\n",
      "\n",
      "Hourly data\n",
      "                            date  temperature_2m  relative_humidity_2m  \\\n",
      "0     2022-12-31 23:00:00+00:00         14.5585             63.924866   \n",
      "1     2023-01-01 00:00:00+00:00         15.3085             58.668945   \n",
      "2     2023-01-01 01:00:00+00:00         15.7085             54.692139   \n",
      "3     2023-01-01 02:00:00+00:00         15.7585             52.490711   \n",
      "4     2023-01-01 03:00:00+00:00         15.8585             50.558018   \n",
      "...                         ...             ...                   ...   \n",
      "24451 2025-10-15 18:00:00+00:00         11.7585             86.669823   \n",
      "24452 2025-10-15 19:00:00+00:00         11.6085             87.826500   \n",
      "24453 2025-10-15 20:00:00+00:00         11.5585             87.234390   \n",
      "24454 2025-10-15 21:00:00+00:00         11.5085             87.229691   \n",
      "24455 2025-10-15 22:00:00+00:00         11.3085             88.689003   \n",
      "\n",
      "       dew_point_2m  apparent_temperature  precipitation  wind_speed_10m  \\\n",
      "0          7.808500              9.859200            0.0       28.312117   \n",
      "1          7.258500             10.149809            0.0       30.532158   \n",
      "2          6.608500             10.370908            0.0       30.699368   \n",
      "3          6.058500             10.213141            0.0       31.259941   \n",
      "4          5.608500             10.631021            0.0       28.394392   \n",
      "...             ...                   ...            ...             ...   \n",
      "24451      9.608500             10.796570            0.0        5.950899   \n",
      "24452      9.658501             10.686743            0.0        5.771239   \n",
      "24453      9.508500             10.426756            0.0        6.924738   \n",
      "24454      9.458500             10.183384            0.0        8.155807   \n",
      "24455      9.508500             10.146514            0.0        7.132181   \n",
      "\n",
      "       cloud_cover  pressure_msl  \n",
      "0            100.0   1011.000000  \n",
      "1            100.0   1010.799988  \n",
      "2            100.0   1010.900024  \n",
      "3            100.0   1011.299988  \n",
      "4            100.0   1011.299988  \n",
      "...            ...           ...  \n",
      "24451        100.0   1024.099976  \n",
      "24452        100.0   1023.900024  \n",
      "24453        100.0   1023.599976  \n",
      "24454        100.0   1023.500000  \n",
      "24455        100.0   1023.299988  \n",
      "\n",
      "[24456 rows x 9 columns]\n"
     ]
    }
   ],
   "source": [
    "# Setup the Open-Meteo API client with cache and retry on error\n",
    "cache_session = requests_cache.CachedSession('.cache', expire_after = -1)\n",
    "retry_session = retry(cache_session, retries = 5, backoff_factor = 0.2)\n",
    "openmeteo = openmeteo_requests.Client(session = retry_session)\n",
    "\n",
    "# Make sure all required weather variables are listed here\n",
    "# The order of variables in hourly or daily is important to assign them correctly below\n",
    "url = \"https://archive-api.open-meteo.com/v1/archive\"\n",
    "params = {\n",
    "\t\"latitude\": 52.52,\n",
    "\t\"longitude\": 13.41,\n",
    "\t\"start_date\": \"2023-01-01\",\n",
    "\t\"end_date\": \"2025-10-15\",\n",
    "\t\"hourly\": [\"temperature_2m\", \"relative_humidity_2m\", \"dew_point_2m\", \"apparent_temperature\", \"precipitation\", \"wind_speed_10m\", \"cloud_cover\", \"pressure_msl\"],\n",
    "\t\"timezone\": \"Europe/Berlin\",\n",
    "}\n",
    "responses = openmeteo.weather_api(url, params=params)\n",
    "\n",
    "# Process first location. Add a for-loop for multiple locations or weather models\n",
    "response = responses[0]\n",
    "print(f\"Coordinates: {response.Latitude()}°N {response.Longitude()}°E\")\n",
    "print(f\"Elevation: {response.Elevation()} m asl\")\n",
    "print(f\"Timezone: {response.Timezone()}{response.TimezoneAbbreviation()}\")\n",
    "print(f\"Timezone difference to GMT+0: {response.UtcOffsetSeconds()}s\")\n",
    "\n",
    "# Process hourly data. The order of variables needs to be the same as requested.\n",
    "hourly = response.Hourly()\n",
    "hourly_temperature_2m = hourly.Variables(0).ValuesAsNumpy()\n",
    "hourly_relative_humidity_2m = hourly.Variables(1).ValuesAsNumpy()\n",
    "hourly_dew_point_2m = hourly.Variables(2).ValuesAsNumpy()\n",
    "hourly_apparent_temperature = hourly.Variables(3).ValuesAsNumpy()\n",
    "hourly_precipitation = hourly.Variables(4).ValuesAsNumpy()\n",
    "hourly_wind_speed_10m = hourly.Variables(5).ValuesAsNumpy()\n",
    "hourly_cloud_cover = hourly.Variables(6).ValuesAsNumpy()\n",
    "hourly_pressure_msl = hourly.Variables(7).ValuesAsNumpy()\n",
    "\n",
    "hourly_data = {\"date\": pd.date_range(\n",
    "\tstart = pd.to_datetime(hourly.Time(), unit = \"s\", utc = True),\n",
    "\tend = pd.to_datetime(hourly.TimeEnd(), unit = \"s\", utc = True),\n",
    "\tfreq = pd.Timedelta(seconds = hourly.Interval()),\n",
    "\tinclusive = \"left\"\n",
    ")}\n",
    "\n",
    "hourly_data[\"temperature_2m\"] = hourly_temperature_2m\n",
    "hourly_data[\"relative_humidity_2m\"] = hourly_relative_humidity_2m\n",
    "hourly_data[\"dew_point_2m\"] = hourly_dew_point_2m\n",
    "hourly_data[\"apparent_temperature\"] = hourly_apparent_temperature\n",
    "hourly_data[\"precipitation\"] = hourly_precipitation\n",
    "hourly_data[\"wind_speed_10m\"] = hourly_wind_speed_10m\n",
    "hourly_data[\"cloud_cover\"] = hourly_cloud_cover\n",
    "hourly_data[\"pressure_msl\"] = hourly_pressure_msl\n",
    "\n",
    "hourly_dataframe = pd.DataFrame(data = hourly_data)\n",
    "print(\"\\nHourly data\\n\", hourly_dataframe)"
   ]
  },
  {
   "cell_type": "code",
   "execution_count": null,
   "id": "bffa522c-9840-4cd7-8472-dc472a44e536",
   "metadata": {},
   "outputs": [],
   "source": [
    "hourly_dataframe.to_csv(\"./raw_data/weather_data_20230101-20251015.csv\")"
   ]
  },
  {
   "cell_type": "code",
   "execution_count": null,
   "id": "b824b558-d7e8-4f63-aee2-e6c72c72aff0",
   "metadata": {},
   "outputs": [],
   "source": []
  }
 ],
 "metadata": {
  "kernelspec": {
   "display_name": "Python 3 (ipykernel)",
   "language": "python",
   "name": "python3"
  },
  "language_info": {
   "codemirror_mode": {
    "name": "ipython",
    "version": 3
   },
   "file_extension": ".py",
   "mimetype": "text/x-python",
   "name": "python",
   "nbconvert_exporter": "python",
   "pygments_lexer": "ipython3",
   "version": "3.10.6"
  }
 },
 "nbformat": 4,
 "nbformat_minor": 5
}
